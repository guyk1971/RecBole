{
 "cells": [
  {
   "cell_type": "markdown",
   "metadata": {},
   "source": [
    "# Session Based Datasets\n",
    "\n",
    "when running `run_example/session_based_rec_example.py` we see it supports only 3 datasets : `tmall-session`, `diginetica-session` and `nowplaying-session` \n",
    "however, when looking at [RecBole Dataset List](https://recbole.io/dataset_list.html) we see many more datasets.  \n",
    "moreover, it looks like the `-session` based versions are different than the files downloaded from the [Google Drive](https://drive.google.com/drive/folders/1so0lckI6N6_niVEYaBu-LIcpOdZf99kj?usp=sharing)  \n",
    "\n",
    "in this notebook I'll try to explore the various datasets to understand what do we have in it\n",
    "\n",
    "I'll follow the example to download the datasets"
   ]
  },
  {
   "cell_type": "code",
   "execution_count": 1,
   "metadata": {},
   "outputs": [],
   "source": [
    "import os \n",
    "import pandas as pd\n",
    "import numpy as np\n",
    "from datetime import datetime\n",
    "from recbole.config import Config\n",
    "from recbole.data import create_dataset\n",
    "from recbole.data.utils import get_dataloader\n",
    "from recbole.utils import init_logger, init_seed, get_model, get_trainer, set_color"
   ]
  },
  {
   "cell_type": "code",
   "execution_count": 28,
   "metadata": {},
   "outputs": [],
   "source": [
    "from dataclasses import dataclass\n",
    "\n",
    "@dataclass\n",
    "class Arguments:\n",
    "    model:str = 'GRU4Rec'\n",
    "    dataset:str = 'diginetica-session'\n",
    "    validation: bool = 'False'\n",
    "    valid_portion: float = 0.1\n",
    "\n",
    "args=Arguments()\n"
   ]
  },
  {
   "cell_type": "markdown",
   "metadata": {},
   "source": [
    "## DIGINETICA\n",
    "there are 2 versions : the `diginetica-session` and the `diginetica` "
   ]
  },
  {
   "cell_type": "markdown",
   "metadata": {},
   "source": [
    "### diginetica-session"
   ]
  },
  {
   "cell_type": "code",
   "execution_count": 29,
   "metadata": {},
   "outputs": [
    {
     "data": {
      "text/plain": [
       "Arguments(model='GRU4Rec', dataset='diginetica-session', validation='False', valid_portion=0.1)"
      ]
     },
     "execution_count": 29,
     "metadata": {},
     "output_type": "execute_result"
    }
   ],
   "source": [
    "args=Arguments()\n",
    "args"
   ]
  },
  {
   "cell_type": "code",
   "execution_count": 30,
   "metadata": {},
   "outputs": [],
   "source": [
    "config_dict = {\n",
    "    'USER_ID_FIELD': 'session_id',\n",
    "    'load_col': None,\n",
    "    'neg_sampling': None,\n",
    "    'benchmark_filename': ['train', 'test'],\n",
    "    'alias_of_item_id': ['item_id_list'],\n",
    "    'topk': [20],\n",
    "    'metrics': ['Recall', 'MRR'],\n",
    "    'valid_metric': 'MRR@20'\n",
    "}"
   ]
  },
  {
   "cell_type": "code",
   "execution_count": 31,
   "metadata": {},
   "outputs": [
    {
     "data": {
      "text/plain": [
       "{'gpu_id': 0,\n",
       " 'use_gpu': True,\n",
       " 'seed': 2020,\n",
       " 'state': 'INFO',\n",
       " 'reproducibility': True,\n",
       " 'data_path': 'dataset/diginetica-session',\n",
       " 'checkpoint_dir': 'saved',\n",
       " 'show_progress': True,\n",
       " 'save_dataset': False,\n",
       " 'dataset_save_path': None,\n",
       " 'save_dataloaders': False,\n",
       " 'dataloaders_save_path': None,\n",
       " 'log_wandb': False,\n",
       " 'wandb_project': 'recbole',\n",
       " 'epochs': 300,\n",
       " 'train_batch_size': 2048,\n",
       " 'learner': 'adam',\n",
       " 'learning_rate': 0.001,\n",
       " 'neg_sampling': None,\n",
       " 'eval_step': 1,\n",
       " 'stopping_step': 10,\n",
       " 'clip_grad_norm': None,\n",
       " 'weight_decay': 0.0,\n",
       " 'loss_decimal_place': 4,\n",
       " 'require_pow': False,\n",
       " 'eval_args': {'split': {'LS': 'valid_and_test'},\n",
       "  'order': 'TO',\n",
       "  'mode': 'full',\n",
       "  'group_by': 'user'},\n",
       " 'repeatable': True,\n",
       " 'metrics': ['Recall', 'MRR'],\n",
       " 'topk': [20],\n",
       " 'valid_metric': 'MRR@20',\n",
       " 'valid_metric_bigger': True,\n",
       " 'eval_batch_size': 4096,\n",
       " 'metric_decimal_place': 4,\n",
       " 'embedding_size': 64,\n",
       " 'hidden_size': 128,\n",
       " 'num_layers': 1,\n",
       " 'dropout_prob': 0.3,\n",
       " 'loss_type': 'CE',\n",
       " 'field_separator': '\\t',\n",
       " 'seq_separator': ' ',\n",
       " 'USER_ID_FIELD': 'session_id',\n",
       " 'ITEM_ID_FIELD': 'item_id',\n",
       " 'RATING_FIELD': 'rating',\n",
       " 'TIME_FIELD': 'timestamp',\n",
       " 'seq_len': None,\n",
       " 'LABEL_FIELD': 'label',\n",
       " 'threshold': None,\n",
       " 'NEG_PREFIX': 'neg_',\n",
       " 'load_col': None,\n",
       " 'unload_col': None,\n",
       " 'unused_col': None,\n",
       " 'additional_feat_suffix': None,\n",
       " 'rm_dup_inter': None,\n",
       " 'val_interval': None,\n",
       " 'filter_inter_by_user_or_item': True,\n",
       " 'user_inter_num_interval': '[0,inf)',\n",
       " 'item_inter_num_interval': '[0,inf)',\n",
       " 'alias_of_user_id': None,\n",
       " 'alias_of_item_id': ['item_id_list'],\n",
       " 'alias_of_entity_id': None,\n",
       " 'alias_of_relation_id': None,\n",
       " 'preload_weight': None,\n",
       " 'normalize_field': None,\n",
       " 'normalize_all': None,\n",
       " 'ITEM_LIST_LENGTH_FIELD': 'item_length',\n",
       " 'LIST_SUFFIX': '_list',\n",
       " 'MAX_ITEM_LIST_LENGTH': 50,\n",
       " 'POSITION_FIELD': 'position_id',\n",
       " 'HEAD_ENTITY_ID_FIELD': 'head_id',\n",
       " 'TAIL_ENTITY_ID_FIELD': 'tail_id',\n",
       " 'RELATION_ID_FIELD': 'relation_id',\n",
       " 'ENTITY_ID_FIELD': 'entity_id',\n",
       " 'benchmark_filename': ['train', 'test'],\n",
       " 'MODEL_TYPE': <ModelType.SEQUENTIAL: 2>,\n",
       " 'dataset': 'diginetica-session',\n",
       " 'model': 'GRU4Rec',\n",
       " 'MODEL_INPUT_TYPE': <InputType.POINTWISE: 1>,\n",
       " 'eval_type': <EvaluatorType.RANKING: 1>,\n",
       " 'device': device(type='cuda'),\n",
       " 'train_neg_sample_args': {'strategy': 'none'},\n",
       " 'eval_neg_sample_args': {'strategy': 'full', 'distribution': 'uniform'}}"
      ]
     },
     "execution_count": 31,
     "metadata": {},
     "output_type": "execute_result"
    }
   ],
   "source": [
    "config = Config(model=args.model, dataset=f'{args.dataset}', config_dict=config_dict)\n",
    "config.final_config_dict"
   ]
  },
  {
   "cell_type": "code",
   "execution_count": 32,
   "metadata": {},
   "outputs": [
    {
     "data": {
      "text/plain": [
       "'/home/gkoren2/study/git/guyk1971/RecBole/dataset/diginetica-session'"
      ]
     },
     "execution_count": 32,
     "metadata": {},
     "output_type": "execute_result"
    }
   ],
   "source": [
    "config.final_config_dict['data_path'] = os.path.join(os.path.dirname(os.getcwd()),config.final_config_dict['data_path'])\n",
    "config.final_config_dict['data_path']"
   ]
  },
  {
   "cell_type": "code",
   "execution_count": 33,
   "metadata": {},
   "outputs": [
    {
     "data": {
      "text/plain": [
       "\u001b[1;35mdiginetica-session\u001b[0m\n",
       "\u001b[1;34mThe number of users\u001b[0m: 719471\n",
       "\u001b[1;34mAverage actions of users\u001b[0m: 1.0845872656260858\n",
       "\u001b[1;34mThe number of items\u001b[0m: 43098\n",
       "\u001b[1;34mAverage actions of items\u001b[0m: 18.110520574651286\n",
       "\u001b[1;34mThe number of inters\u001b[0m: 780328\n",
       "\u001b[1;34mThe sparsity of the dataset\u001b[0m: 99.9974834429483%\n",
       "\u001b[1;34mRemain Fields\u001b[0m: ['session_id', 'item_id_list', 'item_id', 'item_length']"
      ]
     },
     "execution_count": 33,
     "metadata": {},
     "output_type": "execute_result"
    }
   ],
   "source": [
    "digi_sess = create_dataset(config)\n",
    "digi_sess"
   ]
  },
  {
   "cell_type": "code",
   "execution_count": 34,
   "metadata": {},
   "outputs": [
    {
     "data": {
      "text/plain": [
       "\u001b[1;35mdiginetica-session\u001b[0m\n",
       "\u001b[1;34mThe number of users\u001b[0m: 719471\n",
       "\u001b[1;34mAverage actions of users\u001b[0m: 1.0845872656260858\n",
       "\u001b[1;34mThe number of items\u001b[0m: 43098\n",
       "\u001b[1;34mAverage actions of items\u001b[0m: 18.110520574651286\n",
       "\u001b[1;34mThe number of inters\u001b[0m: 780328\n",
       "\u001b[1;34mThe sparsity of the dataset\u001b[0m: 99.9974834429483%\n",
       "\u001b[1;34mRemain Fields\u001b[0m: ['session_id', 'item_id_list', 'item_id', 'item_length']"
      ]
     },
     "execution_count": 34,
     "metadata": {},
     "output_type": "execute_result"
    }
   ],
   "source": [
    "digi_sess"
   ]
  },
  {
   "cell_type": "code",
   "execution_count": 35,
   "metadata": {},
   "outputs": [
    {
     "data": {
      "text/html": [
       "<div>\n",
       "<style scoped>\n",
       "    .dataframe tbody tr th:only-of-type {\n",
       "        vertical-align: middle;\n",
       "    }\n",
       "\n",
       "    .dataframe tbody tr th {\n",
       "        vertical-align: top;\n",
       "    }\n",
       "\n",
       "    .dataframe thead th {\n",
       "        text-align: right;\n",
       "    }\n",
       "</style>\n",
       "<table border=\"1\" class=\"dataframe\">\n",
       "  <thead>\n",
       "    <tr style=\"text-align: right;\">\n",
       "      <th></th>\n",
       "      <th>session_id</th>\n",
       "      <th>item_id_list</th>\n",
       "      <th>item_id</th>\n",
       "      <th>item_length</th>\n",
       "    </tr>\n",
       "  </thead>\n",
       "  <tbody>\n",
       "    <tr>\n",
       "      <th>0</th>\n",
       "      <td>1</td>\n",
       "      <td>[24864]</td>\n",
       "      <td>1</td>\n",
       "      <td>1</td>\n",
       "    </tr>\n",
       "    <tr>\n",
       "      <th>1</th>\n",
       "      <td>2</td>\n",
       "      <td>[137, 3]</td>\n",
       "      <td>2</td>\n",
       "      <td>2</td>\n",
       "    </tr>\n",
       "    <tr>\n",
       "      <th>2</th>\n",
       "      <td>3</td>\n",
       "      <td>[137]</td>\n",
       "      <td>3</td>\n",
       "      <td>1</td>\n",
       "    </tr>\n",
       "    <tr>\n",
       "      <th>3</th>\n",
       "      <td>4</td>\n",
       "      <td>[299]</td>\n",
       "      <td>4</td>\n",
       "      <td>1</td>\n",
       "    </tr>\n",
       "    <tr>\n",
       "      <th>4</th>\n",
       "      <td>5</td>\n",
       "      <td>[1010]</td>\n",
       "      <td>5</td>\n",
       "      <td>1</td>\n",
       "    </tr>\n",
       "    <tr>\n",
       "      <th>5</th>\n",
       "      <td>6</td>\n",
       "      <td>[1580, 10, 9, 9, 8, 7]</td>\n",
       "      <td>6</td>\n",
       "      <td>6</td>\n",
       "    </tr>\n",
       "    <tr>\n",
       "      <th>6</th>\n",
       "      <td>7</td>\n",
       "      <td>[1580, 10, 9, 9, 8]</td>\n",
       "      <td>7</td>\n",
       "      <td>5</td>\n",
       "    </tr>\n",
       "    <tr>\n",
       "      <th>7</th>\n",
       "      <td>8</td>\n",
       "      <td>[1580, 10, 9, 9]</td>\n",
       "      <td>8</td>\n",
       "      <td>4</td>\n",
       "    </tr>\n",
       "    <tr>\n",
       "      <th>8</th>\n",
       "      <td>9</td>\n",
       "      <td>[1580, 10, 9]</td>\n",
       "      <td>9</td>\n",
       "      <td>3</td>\n",
       "    </tr>\n",
       "    <tr>\n",
       "      <th>9</th>\n",
       "      <td>10</td>\n",
       "      <td>[1580, 10]</td>\n",
       "      <td>9</td>\n",
       "      <td>2</td>\n",
       "    </tr>\n",
       "    <tr>\n",
       "      <th>10</th>\n",
       "      <td>11</td>\n",
       "      <td>[1580]</td>\n",
       "      <td>10</td>\n",
       "      <td>1</td>\n",
       "    </tr>\n",
       "    <tr>\n",
       "      <th>11</th>\n",
       "      <td>12</td>\n",
       "      <td>[7875, 12, 11]</td>\n",
       "      <td>11</td>\n",
       "      <td>3</td>\n",
       "    </tr>\n",
       "    <tr>\n",
       "      <th>12</th>\n",
       "      <td>13</td>\n",
       "      <td>[7875, 12]</td>\n",
       "      <td>11</td>\n",
       "      <td>2</td>\n",
       "    </tr>\n",
       "    <tr>\n",
       "      <th>13</th>\n",
       "      <td>14</td>\n",
       "      <td>[7875]</td>\n",
       "      <td>12</td>\n",
       "      <td>1</td>\n",
       "    </tr>\n",
       "    <tr>\n",
       "      <th>14</th>\n",
       "      <td>15</td>\n",
       "      <td>[14, 14]</td>\n",
       "      <td>13</td>\n",
       "      <td>2</td>\n",
       "    </tr>\n",
       "    <tr>\n",
       "      <th>15</th>\n",
       "      <td>16</td>\n",
       "      <td>[14]</td>\n",
       "      <td>14</td>\n",
       "      <td>1</td>\n",
       "    </tr>\n",
       "    <tr>\n",
       "      <th>16</th>\n",
       "      <td>17</td>\n",
       "      <td>[15]</td>\n",
       "      <td>15</td>\n",
       "      <td>1</td>\n",
       "    </tr>\n",
       "    <tr>\n",
       "      <th>17</th>\n",
       "      <td>18</td>\n",
       "      <td>[1010]</td>\n",
       "      <td>16</td>\n",
       "      <td>1</td>\n",
       "    </tr>\n",
       "    <tr>\n",
       "      <th>18</th>\n",
       "      <td>19</td>\n",
       "      <td>[7819, 18, 21, 20, 19, 18]</td>\n",
       "      <td>17</td>\n",
       "      <td>6</td>\n",
       "    </tr>\n",
       "    <tr>\n",
       "      <th>19</th>\n",
       "      <td>20</td>\n",
       "      <td>[7819, 18, 21, 20, 19]</td>\n",
       "      <td>18</td>\n",
       "      <td>5</td>\n",
       "    </tr>\n",
       "    <tr>\n",
       "      <th>20</th>\n",
       "      <td>21</td>\n",
       "      <td>[7819, 18, 21, 20]</td>\n",
       "      <td>19</td>\n",
       "      <td>4</td>\n",
       "    </tr>\n",
       "    <tr>\n",
       "      <th>21</th>\n",
       "      <td>22</td>\n",
       "      <td>[7819, 18, 21]</td>\n",
       "      <td>20</td>\n",
       "      <td>3</td>\n",
       "    </tr>\n",
       "    <tr>\n",
       "      <th>22</th>\n",
       "      <td>23</td>\n",
       "      <td>[7819, 18]</td>\n",
       "      <td>21</td>\n",
       "      <td>2</td>\n",
       "    </tr>\n",
       "    <tr>\n",
       "      <th>23</th>\n",
       "      <td>24</td>\n",
       "      <td>[7819]</td>\n",
       "      <td>18</td>\n",
       "      <td>1</td>\n",
       "    </tr>\n",
       "    <tr>\n",
       "      <th>24</th>\n",
       "      <td>25</td>\n",
       "      <td>[1234, 23]</td>\n",
       "      <td>22</td>\n",
       "      <td>2</td>\n",
       "    </tr>\n",
       "    <tr>\n",
       "      <th>25</th>\n",
       "      <td>26</td>\n",
       "      <td>[1234]</td>\n",
       "      <td>23</td>\n",
       "      <td>1</td>\n",
       "    </tr>\n",
       "    <tr>\n",
       "      <th>26</th>\n",
       "      <td>27</td>\n",
       "      <td>[25695, 2, 3, 27, 26, 25]</td>\n",
       "      <td>24</td>\n",
       "      <td>6</td>\n",
       "    </tr>\n",
       "    <tr>\n",
       "      <th>27</th>\n",
       "      <td>28</td>\n",
       "      <td>[25695, 2, 3, 27, 26]</td>\n",
       "      <td>25</td>\n",
       "      <td>5</td>\n",
       "    </tr>\n",
       "    <tr>\n",
       "      <th>28</th>\n",
       "      <td>29</td>\n",
       "      <td>[25695, 2, 3, 27]</td>\n",
       "      <td>26</td>\n",
       "      <td>4</td>\n",
       "    </tr>\n",
       "    <tr>\n",
       "      <th>29</th>\n",
       "      <td>30</td>\n",
       "      <td>[25695, 2, 3]</td>\n",
       "      <td>27</td>\n",
       "      <td>3</td>\n",
       "    </tr>\n",
       "  </tbody>\n",
       "</table>\n",
       "</div>"
      ],
      "text/plain": [
       "    session_id                item_id_list  item_id  item_length\n",
       "0            1                     [24864]        1            1\n",
       "1            2                    [137, 3]        2            2\n",
       "2            3                       [137]        3            1\n",
       "3            4                       [299]        4            1\n",
       "4            5                      [1010]        5            1\n",
       "5            6      [1580, 10, 9, 9, 8, 7]        6            6\n",
       "6            7         [1580, 10, 9, 9, 8]        7            5\n",
       "7            8            [1580, 10, 9, 9]        8            4\n",
       "8            9               [1580, 10, 9]        9            3\n",
       "9           10                  [1580, 10]        9            2\n",
       "10          11                      [1580]       10            1\n",
       "11          12              [7875, 12, 11]       11            3\n",
       "12          13                  [7875, 12]       11            2\n",
       "13          14                      [7875]       12            1\n",
       "14          15                    [14, 14]       13            2\n",
       "15          16                        [14]       14            1\n",
       "16          17                        [15]       15            1\n",
       "17          18                      [1010]       16            1\n",
       "18          19  [7819, 18, 21, 20, 19, 18]       17            6\n",
       "19          20      [7819, 18, 21, 20, 19]       18            5\n",
       "20          21          [7819, 18, 21, 20]       19            4\n",
       "21          22              [7819, 18, 21]       20            3\n",
       "22          23                  [7819, 18]       21            2\n",
       "23          24                      [7819]       18            1\n",
       "24          25                  [1234, 23]       22            2\n",
       "25          26                      [1234]       23            1\n",
       "26          27   [25695, 2, 3, 27, 26, 25]       24            6\n",
       "27          28       [25695, 2, 3, 27, 26]       25            5\n",
       "28          29           [25695, 2, 3, 27]       26            4\n",
       "29          30               [25695, 2, 3]       27            3"
      ]
     },
     "execution_count": 35,
     "metadata": {},
     "output_type": "execute_result"
    }
   ],
   "source": [
    "# the main interaction data is in the inter_feat data frame:\n",
    "digi_sess_df = digi_sess.inter_feat\n",
    "digi_sess_df.head(30)\n"
   ]
  },
  {
   "cell_type": "code",
   "execution_count": null,
   "metadata": {},
   "outputs": [],
   "source": [
    "digi_sess_df.session_id.value_counts()"
   ]
  },
  {
   "cell_type": "code",
   "execution_count": null,
   "metadata": {},
   "outputs": [],
   "source": [
    "digi_sess_df.item_id.value_counts()"
   ]
  },
  {
   "cell_type": "code",
   "execution_count": null,
   "metadata": {},
   "outputs": [],
   "source": [
    "digi_sess_df.item_id.max()"
   ]
  },
  {
   "cell_type": "markdown",
   "metadata": {},
   "source": [
    "### diginetica"
   ]
  },
  {
   "cell_type": "code",
   "execution_count": 3,
   "metadata": {},
   "outputs": [
    {
     "data": {
      "text/plain": [
       "Arguments(model='GRU4Rec', dataset='diginetica', validation='False', valid_portion=0.1)"
      ]
     },
     "execution_count": 3,
     "metadata": {},
     "output_type": "execute_result"
    }
   ],
   "source": [
    "digi_args = Arguments(dataset='diginetica')\n",
    "digi_args"
   ]
  },
  {
   "cell_type": "code",
   "execution_count": 4,
   "metadata": {},
   "outputs": [],
   "source": [
    "digi_config_dict= {\n",
    "        'USER_ID_FIELD': 'session_id',\n",
    "        'load_col': None,       # load all columns. dont filter anything\n",
    "        'neg_sampling': None,\n",
    "        # 'benchmark_filename': ['train', 'test'],\n",
    "        # 'alias_of_item_id': ['item_id_list'],\n",
    "        'eval_args':{\n",
    "            'group_by': 'user',\n",
    "            'order': 'TO',\n",
    "            'split':{'LS': 'test_only'},\n",
    "            'mode': 'uni100'},\n",
    "        'topk': [20],\n",
    "        'metrics': ['Recall', 'MRR'],\n",
    "        'valid_metric': 'MRR@20'\n",
    "    }\n"
   ]
  },
  {
   "cell_type": "code",
   "execution_count": 5,
   "metadata": {},
   "outputs": [
    {
     "data": {
      "text/plain": [
       "{'gpu_id': 0,\n",
       " 'use_gpu': True,\n",
       " 'seed': 2020,\n",
       " 'state': 'INFO',\n",
       " 'reproducibility': True,\n",
       " 'data_path': 'dataset/diginetica',\n",
       " 'checkpoint_dir': 'saved',\n",
       " 'show_progress': True,\n",
       " 'save_dataset': False,\n",
       " 'dataset_save_path': None,\n",
       " 'save_dataloaders': False,\n",
       " 'dataloaders_save_path': None,\n",
       " 'log_wandb': False,\n",
       " 'wandb_project': 'recbole',\n",
       " 'epochs': 300,\n",
       " 'train_batch_size': 2048,\n",
       " 'learner': 'adam',\n",
       " 'learning_rate': 0.001,\n",
       " 'neg_sampling': None,\n",
       " 'eval_step': 1,\n",
       " 'stopping_step': 10,\n",
       " 'clip_grad_norm': None,\n",
       " 'weight_decay': 0.0,\n",
       " 'loss_decimal_place': 4,\n",
       " 'require_pow': False,\n",
       " 'eval_args': {'group_by': 'user',\n",
       "  'order': 'TO',\n",
       "  'split': {'LS': 'test_only'},\n",
       "  'mode': 'uni100'},\n",
       " 'repeatable': True,\n",
       " 'metrics': ['Recall', 'MRR'],\n",
       " 'topk': [20],\n",
       " 'valid_metric': 'MRR@20',\n",
       " 'valid_metric_bigger': True,\n",
       " 'eval_batch_size': 4096,\n",
       " 'metric_decimal_place': 4,\n",
       " 'embedding_size': 64,\n",
       " 'hidden_size': 128,\n",
       " 'num_layers': 1,\n",
       " 'dropout_prob': 0.3,\n",
       " 'loss_type': 'CE',\n",
       " 'field_separator': '\\t',\n",
       " 'seq_separator': ' ',\n",
       " 'USER_ID_FIELD': 'session_id',\n",
       " 'ITEM_ID_FIELD': 'item_id',\n",
       " 'RATING_FIELD': 'rating',\n",
       " 'TIME_FIELD': 'timestamp',\n",
       " 'seq_len': None,\n",
       " 'LABEL_FIELD': 'label',\n",
       " 'threshold': None,\n",
       " 'NEG_PREFIX': 'neg_',\n",
       " 'load_col': None,\n",
       " 'unload_col': None,\n",
       " 'unused_col': None,\n",
       " 'additional_feat_suffix': None,\n",
       " 'rm_dup_inter': None,\n",
       " 'val_interval': None,\n",
       " 'filter_inter_by_user_or_item': True,\n",
       " 'user_inter_num_interval': '[0,inf)',\n",
       " 'item_inter_num_interval': '[0,inf)',\n",
       " 'alias_of_user_id': None,\n",
       " 'alias_of_item_id': None,\n",
       " 'alias_of_entity_id': None,\n",
       " 'alias_of_relation_id': None,\n",
       " 'preload_weight': None,\n",
       " 'normalize_field': None,\n",
       " 'normalize_all': None,\n",
       " 'ITEM_LIST_LENGTH_FIELD': 'item_length',\n",
       " 'LIST_SUFFIX': '_list',\n",
       " 'MAX_ITEM_LIST_LENGTH': 50,\n",
       " 'POSITION_FIELD': 'position_id',\n",
       " 'HEAD_ENTITY_ID_FIELD': 'head_id',\n",
       " 'TAIL_ENTITY_ID_FIELD': 'tail_id',\n",
       " 'RELATION_ID_FIELD': 'relation_id',\n",
       " 'ENTITY_ID_FIELD': 'entity_id',\n",
       " 'benchmark_filename': None,\n",
       " 'MODEL_TYPE': <ModelType.SEQUENTIAL: 2>,\n",
       " 'dataset': 'diginetica',\n",
       " 'model': 'GRU4Rec',\n",
       " 'MODEL_INPUT_TYPE': <InputType.POINTWISE: 1>,\n",
       " 'eval_type': <EvaluatorType.RANKING: 1>,\n",
       " 'device': device(type='cuda'),\n",
       " 'train_neg_sample_args': {'strategy': 'none'},\n",
       " 'eval_neg_sample_args': {'strategy': 'by',\n",
       "  'by': 100,\n",
       "  'distribution': 'uniform'}}"
      ]
     },
     "execution_count": 5,
     "metadata": {},
     "output_type": "execute_result"
    }
   ],
   "source": [
    "digi_config = Config(model=digi_args.model, dataset=f'{digi_args.dataset}', config_dict=digi_config_dict)\n",
    "digi_config.final_config_dict"
   ]
  },
  {
   "cell_type": "code",
   "execution_count": 6,
   "metadata": {},
   "outputs": [
    {
     "data": {
      "text/plain": [
       "'/home/gkoren2/study/git/guyk1971/RecBole/dataset/diginetica'"
      ]
     },
     "execution_count": 6,
     "metadata": {},
     "output_type": "execute_result"
    }
   ],
   "source": [
    "digi_config.final_config_dict['data_path'] = os.path.join(os.path.dirname(os.getcwd()),digi_config.final_config_dict['data_path'])\n",
    "digi_config.final_config_dict['data_path']"
   ]
  },
  {
   "cell_type": "code",
   "execution_count": 7,
   "metadata": {},
   "outputs": [
    {
     "data": {
      "text/plain": [
       "\u001b[1;35mdiginetica\u001b[0m\n",
       "\u001b[1;34mThe number of users\u001b[0m: 204790\n",
       "\u001b[1;34mAverage actions of users\u001b[0m: 4.078212208663551\n",
       "\u001b[1;34mThe number of items\u001b[0m: 184048\n",
       "\u001b[1;34mAverage actions of items\u001b[0m: 19.3613918768546\n",
       "\u001b[1;34mThe number of inters\u001b[0m: 835173\n",
       "\u001b[1;34mThe sparsity of the dataset\u001b[0m: 99.99778416918709%\n",
       "\u001b[1;34mRemain Fields\u001b[0m: ['session_id', 'item_id', 'timestamp', 'number of times', 'item_priceLog2', 'item_name', 'item_category']"
      ]
     },
     "execution_count": 7,
     "metadata": {},
     "output_type": "execute_result"
    }
   ],
   "source": [
    "diginetica = create_dataset(digi_config)\n",
    "diginetica"
   ]
  },
  {
   "cell_type": "code",
   "execution_count": 8,
   "metadata": {},
   "outputs": [
    {
     "data": {
      "text/html": [
       "<div>\n",
       "<style scoped>\n",
       "    .dataframe tbody tr th:only-of-type {\n",
       "        vertical-align: middle;\n",
       "    }\n",
       "\n",
       "    .dataframe tbody tr th {\n",
       "        vertical-align: top;\n",
       "    }\n",
       "\n",
       "    .dataframe thead th {\n",
       "        text-align: right;\n",
       "    }\n",
       "</style>\n",
       "<table border=\"1\" class=\"dataframe\">\n",
       "  <thead>\n",
       "    <tr style=\"text-align: right;\">\n",
       "      <th></th>\n",
       "      <th>session_id</th>\n",
       "      <th>item_id</th>\n",
       "      <th>timestamp</th>\n",
       "      <th>number of times</th>\n",
       "    </tr>\n",
       "  </thead>\n",
       "  <tbody>\n",
       "    <tr>\n",
       "      <th>0</th>\n",
       "      <td>1</td>\n",
       "      <td>1</td>\n",
       "      <td>1.463053e+09</td>\n",
       "      <td>1.0</td>\n",
       "    </tr>\n",
       "    <tr>\n",
       "      <th>1</th>\n",
       "      <td>1</td>\n",
       "      <td>2</td>\n",
       "      <td>1.463754e+09</td>\n",
       "      <td>1.0</td>\n",
       "    </tr>\n",
       "    <tr>\n",
       "      <th>2</th>\n",
       "      <td>1</td>\n",
       "      <td>3</td>\n",
       "      <td>1.462967e+09</td>\n",
       "      <td>1.0</td>\n",
       "    </tr>\n",
       "    <tr>\n",
       "      <th>3</th>\n",
       "      <td>1</td>\n",
       "      <td>4</td>\n",
       "      <td>1.463836e+09</td>\n",
       "      <td>1.0</td>\n",
       "    </tr>\n",
       "    <tr>\n",
       "      <th>4</th>\n",
       "      <td>1</td>\n",
       "      <td>5</td>\n",
       "      <td>1.462897e+09</td>\n",
       "      <td>1.0</td>\n",
       "    </tr>\n",
       "  </tbody>\n",
       "</table>\n",
       "</div>"
      ],
      "text/plain": [
       "   session_id  item_id     timestamp  number of times\n",
       "0           1        1  1.463053e+09              1.0\n",
       "1           1        2  1.463754e+09              1.0\n",
       "2           1        3  1.462967e+09              1.0\n",
       "3           1        4  1.463836e+09              1.0\n",
       "4           1        5  1.462897e+09              1.0"
      ]
     },
     "execution_count": 8,
     "metadata": {},
     "output_type": "execute_result"
    }
   ],
   "source": [
    "digi_df=diginetica.inter_feat\n",
    "digi_df.head()"
   ]
  },
  {
   "cell_type": "code",
   "execution_count": 9,
   "metadata": {},
   "outputs": [
    {
     "data": {
      "text/plain": [
       "43136"
      ]
     },
     "execution_count": 9,
     "metadata": {},
     "output_type": "execute_result"
    }
   ],
   "source": [
    "digi_df.item_id.max()"
   ]
  },
  {
   "cell_type": "code",
   "execution_count": null,
   "metadata": {},
   "outputs": [],
   "source": [
    "digi_df.item_id.value_counts()"
   ]
  },
  {
   "cell_type": "markdown",
   "metadata": {},
   "source": [
    "### compare"
   ]
  },
  {
   "cell_type": "code",
   "execution_count": null,
   "metadata": {},
   "outputs": [],
   "source": [
    "# diginetica.inter_feat.session_id.value_counts()\n",
    "print(len(diginetica))\n",
    "print(len(digi_sess))"
   ]
  },
  {
   "cell_type": "code",
   "execution_count": null,
   "metadata": {},
   "outputs": [],
   "source": [
    "digi_sess"
   ]
  },
  {
   "cell_type": "code",
   "execution_count": null,
   "metadata": {},
   "outputs": [],
   "source": [
    "print(len(digi_sess.inter_feat.session_id.unique()))\n",
    "digi_sess.inter_feat.head()"
   ]
  },
  {
   "cell_type": "code",
   "execution_count": null,
   "metadata": {},
   "outputs": [],
   "source": [
    "print(len(diginetica.inter_feat.session_id.unique()))\n",
    "diginetica.inter_feat.head()"
   ]
  },
  {
   "cell_type": "code",
   "execution_count": null,
   "metadata": {},
   "outputs": [],
   "source": [
    "len(diginetica.inter_feat.session_id)"
   ]
  },
  {
   "cell_type": "markdown",
   "metadata": {},
   "source": [
    "when looking at the datasets summaries we see the following :\n",
    "![img](SBRS_datasets.jpg)\n",
    "\n",
    "only in the number of items I see some similarity between the table and the `diginetica-session`. it looks like diginetica is not a session based dataset but was made such using some \"session-ization\" process\n",
    "\n",
    "Lets check how the dataset from `session-rec` looks like:"
   ]
  },
  {
   "cell_type": "markdown",
   "metadata": {},
   "source": [
    "### session-rec\n",
    "the datasets (according to the paper) are:  \n",
    "![img2](empirical_sbrs_datasets.png)  \n",
    "\n",
    "\n",
    "I see different numbers that I cant relate... \n",
    "it looks like there are several pre-processing procedures that each yields a slightly different dataset. \n",
    "the idea is to compare several algorithms on the same dataset. its very difficult to compare across papers without running the code.  \n",
    "\n",
    "<font color='pink'> Is there a script that takes a dataset like `diginetica` and converts it to `diginetica-session` ? </font>  \n",
    "\n",
    "I have several options:\n",
    "1. write a script to convert the datasets of RecBole to session based \n",
    "2. write a script to convert the session-rec datasets to RecBole format (.inter)\n",
    "\n"
   ]
  },
  {
   "cell_type": "code",
   "execution_count": 2,
   "metadata": {},
   "outputs": [
    {
     "data": {
      "text/plain": [
       "['train-item-views_train_tr.txt',\n",
       " 'train-item-views_train_full.txt',\n",
       " 'train-item-views_train_valid.txt',\n",
       " 'train-item-views_test.txt']"
      ]
     },
     "execution_count": 2,
     "metadata": {},
     "output_type": "execute_result"
    }
   ],
   "source": [
    "srec_datasets_path = '/home/gkoren2/datasets/recsys/seq_recsys_datasets'\n",
    "srec_digi_path= os.path.join(srec_datasets_path,'diginetica/prepared')\n",
    "os.listdir(srec_digi_path)"
   ]
  },
  {
   "cell_type": "markdown",
   "metadata": {},
   "source": [
    "out of the prepared files above, we'll take \n",
    "- `train-item-views_train_full.txt` = the training set that can be futhre split to train and validation (`train-item-views_train_valid.txt`,`train-item-views_train_tr.txt` )\n",
    "- `train-item-views_test.txt` = the test set\n",
    "\n",
    "lets have a look at the statistics of the training set"
   ]
  },
  {
   "cell_type": "code",
   "execution_count": 4,
   "metadata": {},
   "outputs": [
    {
     "data": {
      "text/html": [
       "<div>\n",
       "<style scoped>\n",
       "    .dataframe tbody tr th:only-of-type {\n",
       "        vertical-align: middle;\n",
       "    }\n",
       "\n",
       "    .dataframe tbody tr th {\n",
       "        vertical-align: top;\n",
       "    }\n",
       "\n",
       "    .dataframe thead th {\n",
       "        text-align: right;\n",
       "    }\n",
       "</style>\n",
       "<table border=\"1\" class=\"dataframe\">\n",
       "  <thead>\n",
       "    <tr style=\"text-align: right;\">\n",
       "      <th></th>\n",
       "      <th>SessionId</th>\n",
       "      <th>Time</th>\n",
       "      <th>ItemId</th>\n",
       "      <th>Date</th>\n",
       "      <th>Datestamp</th>\n",
       "      <th>TimeO</th>\n",
       "      <th>ItemSupport</th>\n",
       "    </tr>\n",
       "  </thead>\n",
       "  <tbody>\n",
       "    <tr>\n",
       "      <th>0</th>\n",
       "      <td>1</td>\n",
       "      <td>1.462752e+09</td>\n",
       "      <td>9654</td>\n",
       "      <td>2016-05-09</td>\n",
       "      <td>1.462752e+09</td>\n",
       "      <td>2016-05-09 00:01:15.848000+00:00</td>\n",
       "      <td>399</td>\n",
       "    </tr>\n",
       "    <tr>\n",
       "      <th>1</th>\n",
       "      <td>1</td>\n",
       "      <td>1.462752e+09</td>\n",
       "      <td>33043</td>\n",
       "      <td>2016-05-09</td>\n",
       "      <td>1.462752e+09</td>\n",
       "      <td>2016-05-09 00:02:53.912000+00:00</td>\n",
       "      <td>195</td>\n",
       "    </tr>\n",
       "    <tr>\n",
       "      <th>2</th>\n",
       "      <td>1</td>\n",
       "      <td>1.462752e+09</td>\n",
       "      <td>32118</td>\n",
       "      <td>2016-05-09</td>\n",
       "      <td>1.462752e+09</td>\n",
       "      <td>2016-05-09 00:04:03.569000+00:00</td>\n",
       "      <td>67</td>\n",
       "    </tr>\n",
       "    <tr>\n",
       "      <th>3</th>\n",
       "      <td>1</td>\n",
       "      <td>1.462752e+09</td>\n",
       "      <td>12352</td>\n",
       "      <td>2016-05-09</td>\n",
       "      <td>1.462752e+09</td>\n",
       "      <td>2016-05-09 00:05:29.870000+00:00</td>\n",
       "      <td>327</td>\n",
       "    </tr>\n",
       "    <tr>\n",
       "      <th>4</th>\n",
       "      <td>1</td>\n",
       "      <td>1.462752e+09</td>\n",
       "      <td>35077</td>\n",
       "      <td>2016-05-09</td>\n",
       "      <td>1.462752e+09</td>\n",
       "      <td>2016-05-09 00:06:30.072000+00:00</td>\n",
       "      <td>102</td>\n",
       "    </tr>\n",
       "  </tbody>\n",
       "</table>\n",
       "</div>"
      ],
      "text/plain": [
       "   SessionId          Time  ItemId        Date     Datestamp  \\\n",
       "0          1  1.462752e+09    9654  2016-05-09  1.462752e+09   \n",
       "1          1  1.462752e+09   33043  2016-05-09  1.462752e+09   \n",
       "2          1  1.462752e+09   32118  2016-05-09  1.462752e+09   \n",
       "3          1  1.462752e+09   12352  2016-05-09  1.462752e+09   \n",
       "4          1  1.462752e+09   35077  2016-05-09  1.462752e+09   \n",
       "\n",
       "                              TimeO  ItemSupport  \n",
       "0  2016-05-09 00:01:15.848000+00:00          399  \n",
       "1  2016-05-09 00:02:53.912000+00:00          195  \n",
       "2  2016-05-09 00:04:03.569000+00:00           67  \n",
       "3  2016-05-09 00:05:29.870000+00:00          327  \n",
       "4  2016-05-09 00:06:30.072000+00:00          102  "
      ]
     },
     "execution_count": 4,
     "metadata": {},
     "output_type": "execute_result"
    }
   ],
   "source": [
    "srec_digi_train_df = pd.read_csv(os.path.join(srec_digi_path,'train-item-views_train_full.txt'),sep='\\t')\n",
    "srec_digi_train_df.head()\n",
    "df=srec_digi_train_df"
   ]
  },
  {
   "cell_type": "code",
   "execution_count": 23,
   "metadata": {},
   "outputs": [
    {
     "name": "stdout",
     "output_type": "stream",
     "text": [
      "01/01/2016 02:00:06\n",
      "25/05/2016 03:19:59\n"
     ]
    }
   ],
   "source": [
    "# check time range\n",
    "print(datetime.fromtimestamp(df.Time.min()).strftime(\"%d/%m/%Y %H:%M:%S\"))\n",
    "print(datetime.fromtimestamp(df.Time.max()).strftime(\"%d/%m/%Y %H:%M:%S\"))"
   ]
  },
  {
   "cell_type": "code",
   "execution_count": 26,
   "metadata": {},
   "outputs": [
    {
     "name": "stdout",
     "output_type": "stream",
     "text": [
      "itemId: min value : 2, max value: 707327, number of items: 43105\n"
     ]
    }
   ],
   "source": [
    "# check ItemID statistics\n",
    "print(f'itemId: min value : {df.ItemId.min()}, max value: {df.ItemId.max()}, number of items: {len(df.ItemId.unique())}')"
   ]
  },
  {
   "cell_type": "markdown",
   "metadata": {},
   "source": [
    "ok, so it looks like we need to map the item IDs to sequential numbers"
   ]
  },
  {
   "cell_type": "code",
   "execution_count": 27,
   "metadata": {},
   "outputs": [
    {
     "name": "stdout",
     "output_type": "stream",
     "text": [
      "SessionID: min value : 1, max value: 600684, number of items: 188807\n"
     ]
    }
   ],
   "source": [
    "# check sessionID statistics\n",
    "print(f'SessionID: min value : {df.SessionId.min()}, max value: {df.SessionId.max()}, number of items: {len(df.SessionId.unique())}')"
   ]
  },
  {
   "cell_type": "code",
   "execution_count": 40,
   "metadata": {},
   "outputs": [
    {
     "data": {
      "text/plain": [
       "<AxesSubplot:>"
      ]
     },
     "execution_count": 40,
     "metadata": {},
     "output_type": "execute_result"
    },
    {
     "data": {
      "image/png": "[encoded data removed]",
      "text/plain": [
       "<Figure size 432x288 with 1 Axes>"
      ]
     },
     "metadata": {
      "needs_background": "light"
     },
     "output_type": "display_data"
    }
   ],
   "source": [
    "df.groupby('SessionId').size().hist(bins=70)"
   ]
  },
  {
   "cell_type": "markdown",
   "metadata": {},
   "source": [
    "## NowPlaying (NOWP)"
   ]
  },
  {
   "cell_type": "markdown",
   "metadata": {},
   "source": [
    "### nowplaying-session\n"
   ]
  },
  {
   "cell_type": "code",
   "execution_count": 17,
   "metadata": {},
   "outputs": [
    {
     "data": {
      "text/plain": [
       "Arguments(model='GRU4Rec', dataset='nowplaying-session', validation='False', valid_portion=0.1)"
      ]
     },
     "execution_count": 17,
     "metadata": {},
     "output_type": "execute_result"
    }
   ],
   "source": [
    "args=Arguments(dataset='nowplaying-session')\n",
    "args"
   ]
  },
  {
   "cell_type": "code",
   "execution_count": 18,
   "metadata": {},
   "outputs": [
    {
     "data": {
      "text/plain": [
       "{'gpu_id': 0,\n",
       " 'use_gpu': True,\n",
       " 'seed': 2020,\n",
       " 'state': 'INFO',\n",
       " 'reproducibility': True,\n",
       " 'data_path': 'dataset/nowplaying-session',\n",
       " 'checkpoint_dir': 'saved',\n",
       " 'show_progress': True,\n",
       " 'save_dataset': False,\n",
       " 'dataset_save_path': None,\n",
       " 'save_dataloaders': False,\n",
       " 'dataloaders_save_path': None,\n",
       " 'log_wandb': False,\n",
       " 'wandb_project': 'recbole',\n",
       " 'epochs': 300,\n",
       " 'train_batch_size': 2048,\n",
       " 'learner': 'adam',\n",
       " 'learning_rate': 0.001,\n",
       " 'neg_sampling': None,\n",
       " 'eval_step': 1,\n",
       " 'stopping_step': 10,\n",
       " 'clip_grad_norm': None,\n",
       " 'weight_decay': 0.0,\n",
       " 'loss_decimal_place': 4,\n",
       " 'require_pow': False,\n",
       " 'eval_args': {'split': {'LS': 'valid_and_test'},\n",
       "  'order': 'TO',\n",
       "  'mode': 'full',\n",
       "  'group_by': 'user'},\n",
       " 'repeatable': True,\n",
       " 'metrics': ['Recall', 'MRR'],\n",
       " 'topk': [20],\n",
       " 'valid_metric': 'MRR@20',\n",
       " 'valid_metric_bigger': True,\n",
       " 'eval_batch_size': 4096,\n",
       " 'metric_decimal_place': 4,\n",
       " 'embedding_size': 64,\n",
       " 'hidden_size': 128,\n",
       " 'num_layers': 1,\n",
       " 'dropout_prob': 0.3,\n",
       " 'loss_type': 'CE',\n",
       " 'field_separator': '\\t',\n",
       " 'seq_separator': ' ',\n",
       " 'USER_ID_FIELD': 'session_id',\n",
       " 'ITEM_ID_FIELD': 'item_id',\n",
       " 'RATING_FIELD': 'rating',\n",
       " 'TIME_FIELD': 'timestamp',\n",
       " 'seq_len': None,\n",
       " 'LABEL_FIELD': 'label',\n",
       " 'threshold': None,\n",
       " 'NEG_PREFIX': 'neg_',\n",
       " 'load_col': None,\n",
       " 'unload_col': None,\n",
       " 'unused_col': None,\n",
       " 'additional_feat_suffix': None,\n",
       " 'rm_dup_inter': None,\n",
       " 'val_interval': None,\n",
       " 'filter_inter_by_user_or_item': True,\n",
       " 'user_inter_num_interval': '[0,inf)',\n",
       " 'item_inter_num_interval': '[0,inf)',\n",
       " 'alias_of_user_id': None,\n",
       " 'alias_of_item_id': ['item_id_list'],\n",
       " 'alias_of_entity_id': None,\n",
       " 'alias_of_relation_id': None,\n",
       " 'preload_weight': None,\n",
       " 'normalize_field': None,\n",
       " 'normalize_all': None,\n",
       " 'ITEM_LIST_LENGTH_FIELD': 'item_length',\n",
       " 'LIST_SUFFIX': '_list',\n",
       " 'MAX_ITEM_LIST_LENGTH': 50,\n",
       " 'POSITION_FIELD': 'position_id',\n",
       " 'HEAD_ENTITY_ID_FIELD': 'head_id',\n",
       " 'TAIL_ENTITY_ID_FIELD': 'tail_id',\n",
       " 'RELATION_ID_FIELD': 'relation_id',\n",
       " 'ENTITY_ID_FIELD': 'entity_id',\n",
       " 'benchmark_filename': ['train', 'test'],\n",
       " 'MODEL_TYPE': <ModelType.SEQUENTIAL: 2>,\n",
       " 'dataset': 'nowplaying-session',\n",
       " 'model': 'GRU4Rec',\n",
       " 'MODEL_INPUT_TYPE': <InputType.POINTWISE: 1>,\n",
       " 'eval_type': <EvaluatorType.RANKING: 1>,\n",
       " 'device': device(type='cuda'),\n",
       " 'train_neg_sample_args': {'strategy': 'none'},\n",
       " 'eval_neg_sample_args': {'strategy': 'full', 'distribution': 'uniform'}}"
      ]
     },
     "execution_count": 18,
     "metadata": {},
     "output_type": "execute_result"
    }
   ],
   "source": [
    "config_dict = {\n",
    "    'USER_ID_FIELD': 'session_id',\n",
    "    'load_col': None,\n",
    "    'neg_sampling': None,\n",
    "    'benchmark_filename': ['train', 'test'],\n",
    "    'alias_of_item_id': ['item_id_list'],\n",
    "    'topk': [20],\n",
    "    'metrics': ['Recall', 'MRR'],\n",
    "    'valid_metric': 'MRR@20'\n",
    "}\n",
    "config = Config(model=args.model, dataset=f'{args.dataset}', config_dict=config_dict)\n",
    "config.final_config_dict"
   ]
  },
  {
   "cell_type": "code",
   "execution_count": 19,
   "metadata": {},
   "outputs": [
    {
     "data": {
      "text/plain": [
       "'/home/gkoren2/study/git/guyk1971/RecBole/dataset/nowplaying-session'"
      ]
     },
     "execution_count": 19,
     "metadata": {},
     "output_type": "execute_result"
    }
   ],
   "source": [
    "config.final_config_dict['data_path'] = os.path.join(os.path.dirname(os.getcwd()),config.final_config_dict['data_path'])\n",
    "config.final_config_dict['data_path']"
   ]
  },
  {
   "cell_type": "code",
   "execution_count": 20,
   "metadata": {},
   "outputs": [
    {
     "data": {
      "text/plain": [
       "\u001b[1;35mnowplaying-session\u001b[0m\n",
       "\u001b[1;34mThe number of users\u001b[0m: 825305\n",
       "\u001b[1;34mAverage actions of users\u001b[0m: 1.108837470798639\n",
       "\u001b[1;34mThe number of items\u001b[0m: 60417\n",
       "\u001b[1;34mAverage actions of items\u001b[0m: 15.168705453339964\n",
       "\u001b[1;34mThe number of inters\u001b[0m: 915128\n",
       "\u001b[1;34mThe sparsity of the dataset\u001b[0m: 99.99816469515658%\n",
       "\u001b[1;34mRemain Fields\u001b[0m: ['session_id', 'item_id_list', 'item_id', 'item_length']"
      ]
     },
     "execution_count": 20,
     "metadata": {},
     "output_type": "execute_result"
    }
   ],
   "source": [
    "nowp_sess = create_dataset(config)\n",
    "nowp_sess"
   ]
  },
  {
   "cell_type": "code",
   "execution_count": 21,
   "metadata": {},
   "outputs": [
    {
     "data": {
      "text/html": [
       "<div>\n",
       "<style scoped>\n",
       "    .dataframe tbody tr th:only-of-type {\n",
       "        vertical-align: middle;\n",
       "    }\n",
       "\n",
       "    .dataframe tbody tr th {\n",
       "        vertical-align: top;\n",
       "    }\n",
       "\n",
       "    .dataframe thead th {\n",
       "        text-align: right;\n",
       "    }\n",
       "</style>\n",
       "<table border=\"1\" class=\"dataframe\">\n",
       "  <thead>\n",
       "    <tr style=\"text-align: right;\">\n",
       "      <th></th>\n",
       "      <th>session_id</th>\n",
       "      <th>item_id_list</th>\n",
       "      <th>item_id</th>\n",
       "      <th>item_length</th>\n",
       "    </tr>\n",
       "  </thead>\n",
       "  <tbody>\n",
       "    <tr>\n",
       "      <th>0</th>\n",
       "      <td>1</td>\n",
       "      <td>[7500]</td>\n",
       "      <td>1</td>\n",
       "      <td>1</td>\n",
       "    </tr>\n",
       "    <tr>\n",
       "      <th>1</th>\n",
       "      <td>2</td>\n",
       "      <td>[11906]</td>\n",
       "      <td>2</td>\n",
       "      <td>1</td>\n",
       "    </tr>\n",
       "    <tr>\n",
       "      <th>2</th>\n",
       "      <td>3</td>\n",
       "      <td>[1176, 4]</td>\n",
       "      <td>3</td>\n",
       "      <td>2</td>\n",
       "    </tr>\n",
       "    <tr>\n",
       "      <th>3</th>\n",
       "      <td>4</td>\n",
       "      <td>[1176]</td>\n",
       "      <td>4</td>\n",
       "      <td>1</td>\n",
       "    </tr>\n",
       "    <tr>\n",
       "      <th>4</th>\n",
       "      <td>5</td>\n",
       "      <td>[7634]</td>\n",
       "      <td>5</td>\n",
       "      <td>1</td>\n",
       "    </tr>\n",
       "  </tbody>\n",
       "</table>\n",
       "</div>"
      ],
      "text/plain": [
       "   session_id item_id_list  item_id  item_length\n",
       "0           1       [7500]        1            1\n",
       "1           2      [11906]        2            1\n",
       "2           3    [1176, 4]        3            2\n",
       "3           4       [1176]        4            1\n",
       "4           5       [7634]        5            1"
      ]
     },
     "execution_count": 21,
     "metadata": {},
     "output_type": "execute_result"
    }
   ],
   "source": [
    "nowp_sess_df = nowp_sess.inter_feat\n",
    "nowp_sess_df.head()\n"
   ]
  },
  {
   "cell_type": "code",
   "execution_count": null,
   "metadata": {},
   "outputs": [],
   "source": []
  }
 ],
 "metadata": {
  "kernelspec": {
   "display_name": "Python 3.9.12 ('recbole')",
   "language": "python",
   "name": "python3"
  },
  "language_info": {
   "codemirror_mode": {
    "name": "ipython",
    "version": 3
   },
   "file_extension": ".py",
   "mimetype": "text/x-python",
   "name": "python",
   "nbconvert_exporter": "python",
   "pygments_lexer": "ipython3",
   "version": "3.9.12"
  },
  "orig_nbformat": 4,
  "vscode": {
   "interpreter": {
    "hash": "bc0fd1abc2602ec1b3e4206595ab69b0e3cf447ced07bd62f4679a23079f293a"
   }
  }
 },
 "nbformat": 4,
 "nbformat_minor": 2
}
