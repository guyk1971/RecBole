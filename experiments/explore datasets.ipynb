{
 "cells": [
  {
   "cell_type": "markdown",
   "metadata": {},
   "source": [
    "# Session Based Datasets\n",
    "\n",
    "when running `run_example/session_based_rec_example.py` we see it supports only 3 datasets : `tmall-session`, `diginetica-session` and `nowplaying-session` \n",
    "however, when looking at [RecBole Dataset List](https://recbole.io/dataset_list.html) we see many more datasets.  \n",
    "moreover, it looks like the `-session` based versions are different than the files downloaded from the [Google Drive](https://drive.google.com/drive/folders/1so0lckI6N6_niVEYaBu-LIcpOdZf99kj?usp=sharing)  \n",
    "\n",
    "in this notebook I'll try to explore the various datasets to understand what do we have in it\n",
    "\n",
    "I'll follow the example to download the datasets"
   ]
  },
  {
   "cell_type": "code",
   "execution_count": 1,
   "metadata": {},
   "outputs": [],
   "source": [
    "import os \n",
    "import pandas as pd\n",
    "import numpy as np\n",
    "from datetime import datetime\n",
    "from recbole.config import Config\n",
    "from recbole.data import create_dataset\n",
    "from recbole.data.utils import get_dataloader\n",
    "from recbole.utils import init_logger, init_seed, get_model, get_trainer, set_color"
   ]
  },
  {
   "cell_type": "code",
   "execution_count": 2,
   "metadata": {},
   "outputs": [],
   "source": [
    "from dataclasses import dataclass\n",
    "\n",
    "@dataclass\n",
    "class Arguments:\n",
    "    model:str = 'GRU4Rec'\n",
    "    dataset:str = 'diginetica-session'\n",
    "    validation: bool = 'False'\n",
    "    valid_portion: float = 0.1\n",
    "\n",
    "args=Arguments()\n"
   ]
  },
  {
   "cell_type": "markdown",
   "metadata": {},
   "source": [
    "## DIGINETICA\n",
    "there are 2 versions : the `diginetica-session` and the `diginetica` "
   ]
  },
  {
   "cell_type": "markdown",
   "metadata": {},
   "source": [
    "### diginetica-session"
   ]
  },
  {
   "cell_type": "code",
   "execution_count": null,
   "metadata": {},
   "outputs": [],
   "source": [
    "args=Arguments()\n",
    "args"
   ]
  },
  {
   "cell_type": "code",
   "execution_count": null,
   "metadata": {},
   "outputs": [],
   "source": [
    "config_dict = {\n",
    "    'USER_ID_FIELD': 'session_id',\n",
    "    'load_col': None,\n",
    "    'neg_sampling': None,\n",
    "    'benchmark_filename': ['train', 'test'],\n",
    "    'alias_of_item_id': ['item_id_list'],\n",
    "    'topk': [20],\n",
    "    'metrics': ['Recall', 'MRR'],\n",
    "    'valid_metric': 'MRR@20'\n",
    "}"
   ]
  },
  {
   "cell_type": "code",
   "execution_count": null,
   "metadata": {},
   "outputs": [],
   "source": [
    "config = Config(model=args.model, dataset=f'{args.dataset}', config_dict=config_dict)\n",
    "config.final_config_dict"
   ]
  },
  {
   "cell_type": "code",
   "execution_count": null,
   "metadata": {},
   "outputs": [],
   "source": [
    "config.final_config_dict['data_path'] = os.path.join(os.path.dirname(os.getcwd()),config.final_config_dict['data_path'])\n",
    "config.final_config_dict['data_path']"
   ]
  },
  {
   "cell_type": "code",
   "execution_count": null,
   "metadata": {},
   "outputs": [],
   "source": [
    "digi_sess = create_dataset(config)\n",
    "digi_sess"
   ]
  },
  {
   "cell_type": "code",
   "execution_count": null,
   "metadata": {},
   "outputs": [],
   "source": [
    "digi_sess"
   ]
  },
  {
   "cell_type": "code",
   "execution_count": null,
   "metadata": {},
   "outputs": [],
   "source": [
    "# the main interaction data is in the inter_feat data frame:\n",
    "digi_sess_df = digi_sess.inter_feat\n",
    "digi_sess_df.head(30)\n"
   ]
  },
  {
   "cell_type": "code",
   "execution_count": null,
   "metadata": {},
   "outputs": [],
   "source": [
    "digi_sess_df.session_id.value_counts()"
   ]
  },
  {
   "cell_type": "code",
   "execution_count": null,
   "metadata": {},
   "outputs": [],
   "source": [
    "digi_sess_df.item_id.value_counts()"
   ]
  },
  {
   "cell_type": "code",
   "execution_count": null,
   "metadata": {},
   "outputs": [],
   "source": [
    "digi_sess_df.item_id.max()"
   ]
  },
  {
   "cell_type": "markdown",
   "metadata": {},
   "source": [
    "### diginetica"
   ]
  },
  {
   "cell_type": "code",
   "execution_count": null,
   "metadata": {},
   "outputs": [],
   "source": [
    "digi_args = Arguments(dataset='diginetica')\n",
    "digi_args"
   ]
  },
  {
   "cell_type": "code",
   "execution_count": null,
   "metadata": {},
   "outputs": [],
   "source": [
    "digi_config_dict= {\n",
    "        'USER_ID_FIELD': 'session_id',\n",
    "        'load_col': None,       # load all columns. dont filter anything\n",
    "        'neg_sampling': None,\n",
    "        # 'benchmark_filename': ['train', 'test'],\n",
    "        # 'alias_of_item_id': ['item_id_list'],\n",
    "        'eval_args':{\n",
    "            'group_by': 'user',\n",
    "            'order': 'TO',\n",
    "            'split':{'LS': 'test_only'},\n",
    "            'mode': 'uni100'},\n",
    "        'topk': [20],\n",
    "        'metrics': ['Recall', 'MRR'],\n",
    "        'valid_metric': 'MRR@20'\n",
    "    }\n"
   ]
  },
  {
   "cell_type": "code",
   "execution_count": null,
   "metadata": {},
   "outputs": [],
   "source": [
    "digi_config = Config(model=digi_args.model, dataset=f'{digi_args.dataset}', config_dict=digi_config_dict)\n",
    "digi_config.final_config_dict"
   ]
  },
  {
   "cell_type": "code",
   "execution_count": null,
   "metadata": {},
   "outputs": [],
   "source": [
    "digi_config.final_config_dict['data_path'] = os.path.join(os.path.dirname(os.getcwd()),digi_config.final_config_dict['data_path'])\n",
    "digi_config.final_config_dict['data_path']"
   ]
  },
  {
   "cell_type": "code",
   "execution_count": null,
   "metadata": {},
   "outputs": [],
   "source": [
    "diginetica = create_dataset(digi_config)\n",
    "diginetica"
   ]
  },
  {
   "cell_type": "code",
   "execution_count": null,
   "metadata": {},
   "outputs": [],
   "source": [
    "digi_df=diginetica.inter_feat\n",
    "digi_df.head()"
   ]
  },
  {
   "cell_type": "code",
   "execution_count": null,
   "metadata": {},
   "outputs": [],
   "source": [
    "digi_df.item_id.max()"
   ]
  },
  {
   "cell_type": "code",
   "execution_count": null,
   "metadata": {},
   "outputs": [],
   "source": [
    "digi_df.item_id.value_counts()"
   ]
  },
  {
   "cell_type": "markdown",
   "metadata": {},
   "source": [
    "### compare"
   ]
  },
  {
   "cell_type": "code",
   "execution_count": null,
   "metadata": {},
   "outputs": [],
   "source": [
    "# diginetica.inter_feat.session_id.value_counts()\n",
    "print(len(diginetica))\n",
    "print(len(digi_sess))"
   ]
  },
  {
   "cell_type": "code",
   "execution_count": null,
   "metadata": {},
   "outputs": [],
   "source": [
    "digi_sess"
   ]
  },
  {
   "cell_type": "code",
   "execution_count": null,
   "metadata": {},
   "outputs": [],
   "source": [
    "print(len(digi_sess.inter_feat.session_id.unique()))\n",
    "digi_sess.inter_feat.head()"
   ]
  },
  {
   "cell_type": "code",
   "execution_count": null,
   "metadata": {},
   "outputs": [],
   "source": [
    "print(len(diginetica.inter_feat.session_id.unique()))\n",
    "diginetica.inter_feat.head()"
   ]
  },
  {
   "cell_type": "code",
   "execution_count": null,
   "metadata": {},
   "outputs": [],
   "source": [
    "len(diginetica.inter_feat.session_id)"
   ]
  },
  {
   "cell_type": "markdown",
   "metadata": {},
   "source": [
    "when looking at the datasets summaries we see the following :\n",
    "![img](SBRS_datasets.jpg)\n",
    "\n",
    "only in the number of items I see some similarity between the table and the `diginetica-session`. it looks like diginetica is not a session based dataset but was made such using some \"session-ization\" process\n",
    "\n",
    "Lets check how the dataset from `session-rec` looks like:"
   ]
  },
  {
   "cell_type": "markdown",
   "metadata": {},
   "source": [
    "### session-rec\n",
    "the datasets (according to the paper) are:  \n",
    "![img2](empirical_sbrs_datasets.png)  \n",
    "\n",
    "\n",
    "I see different numbers that I cant relate... \n",
    "it looks like there are several pre-processing procedures that each yields a slightly different dataset. \n",
    "the idea is to compare several algorithms on the same dataset. its very difficult to compare across papers without running the code.  \n",
    "\n",
    "<font color='pink'> Is there a script that takes a dataset like `diginetica` and converts it to `diginetica-session` ? </font>  \n",
    "\n",
    "I have several options:\n",
    "1. write a script to convert the datasets of RecBole to session based \n",
    "2. write a script to convert the session-rec datasets to RecBole format (.inter)\n",
    "\n"
   ]
  },
  {
   "cell_type": "code",
   "execution_count": null,
   "metadata": {},
   "outputs": [],
   "source": [
    "srec_datasets_path = '/home/gkoren2/datasets/recsys/seq_recsys_datasets'\n",
    "srec_digi_path= os.path.join(srec_datasets_path,'diginetica/prepared')\n",
    "os.listdir(srec_digi_path)"
   ]
  },
  {
   "cell_type": "markdown",
   "metadata": {},
   "source": [
    "out of the prepared files above, we'll take \n",
    "- `train-item-views_train_full.txt` = the training set that can be futhre split to train and validation (`train-item-views_train_valid.txt`,`train-item-views_train_tr.txt` )\n",
    "- `train-item-views_test.txt` = the test set\n",
    "\n",
    "lets have a look at the statistics of the training set"
   ]
  },
  {
   "cell_type": "code",
   "execution_count": null,
   "metadata": {},
   "outputs": [],
   "source": [
    "srec_digi_train_df = pd.read_csv(os.path.join(srec_digi_path,'train-item-views_train_full.txt'),sep='\\t')\n",
    "srec_digi_train_df.head()\n",
    "df=srec_digi_train_df"
   ]
  },
  {
   "cell_type": "code",
   "execution_count": null,
   "metadata": {},
   "outputs": [],
   "source": [
    "# check time range\n",
    "print(datetime.fromtimestamp(df.Time.min()).strftime(\"%d/%m/%Y %H:%M:%S\"))\n",
    "print(datetime.fromtimestamp(df.Time.max()).strftime(\"%d/%m/%Y %H:%M:%S\"))"
   ]
  },
  {
   "cell_type": "code",
   "execution_count": null,
   "metadata": {},
   "outputs": [],
   "source": [
    "# check ItemID statistics\n",
    "print(f'itemId: min value : {df.ItemId.min()}, max value: {df.ItemId.max()}, number of items: {len(df.ItemId.unique())}')"
   ]
  },
  {
   "cell_type": "markdown",
   "metadata": {},
   "source": [
    "ok, so it looks like we need to map the item IDs to sequential numbers"
   ]
  },
  {
   "cell_type": "code",
   "execution_count": null,
   "metadata": {},
   "outputs": [],
   "source": [
    "# check sessionID statistics\n",
    "print(f'SessionID: min value : {df.SessionId.min()}, max value: {df.SessionId.max()}, number of items: {len(df.SessionId.unique())}')"
   ]
  },
  {
   "cell_type": "code",
   "execution_count": null,
   "metadata": {},
   "outputs": [],
   "source": [
    "df.groupby('SessionId').size().hist(bins=70)"
   ]
  },
  {
   "cell_type": "markdown",
   "metadata": {},
   "source": [
    "## NowPlaying (NOWP)"
   ]
  },
  {
   "cell_type": "markdown",
   "metadata": {},
   "source": [
    "### nowplaying-session\n"
   ]
  },
  {
   "cell_type": "code",
   "execution_count": null,
   "metadata": {},
   "outputs": [],
   "source": [
    "args=Arguments(dataset='nowplaying-session')\n",
    "args"
   ]
  },
  {
   "cell_type": "code",
   "execution_count": null,
   "metadata": {},
   "outputs": [],
   "source": [
    "config_dict = {\n",
    "    'USER_ID_FIELD': 'session_id',\n",
    "    'load_col': None,\n",
    "    'neg_sampling': None,\n",
    "    'benchmark_filename': ['train', 'test'],\n",
    "    'alias_of_item_id': ['item_id_list'],\n",
    "    'topk': [20],\n",
    "    'metrics': ['Recall', 'MRR'],\n",
    "    'valid_metric': 'MRR@20'\n",
    "}\n",
    "config = Config(model=args.model, dataset=f'{args.dataset}', config_dict=config_dict)\n",
    "config.final_config_dict"
   ]
  },
  {
   "cell_type": "code",
   "execution_count": null,
   "metadata": {},
   "outputs": [],
   "source": [
    "config.final_config_dict['data_path'] = os.path.join(os.path.dirname(os.getcwd()),config.final_config_dict['data_path'])\n",
    "config.final_config_dict['data_path']"
   ]
  },
  {
   "cell_type": "code",
   "execution_count": null,
   "metadata": {},
   "outputs": [],
   "source": [
    "nowp_sess = create_dataset(config)\n",
    "nowp_sess"
   ]
  },
  {
   "cell_type": "code",
   "execution_count": null,
   "metadata": {},
   "outputs": [],
   "source": [
    "nowp_sess_df = nowp_sess.inter_feat\n",
    "nowp_sess_df.head()\n"
   ]
  },
  {
   "cell_type": "markdown",
   "metadata": {},
   "source": [
    "# YOOCHOOSE\n",
    "This is the RSC15 dataset, originally meant for session based.\n",
    "let's look at the statistics of the `.inter` file already provided by RecBole"
   ]
  },
  {
   "cell_type": "markdown",
   "metadata": {},
   "source": [
    "## .inter files"
   ]
  },
  {
   "cell_type": "code",
   "execution_count": 4,
   "metadata": {},
   "outputs": [
    {
     "name": "stdout",
     "output_type": "stream",
     "text": [
      "/nfs/iil/home/gkoren2/local/datasets/recsys/recbole/RecBole/ProcessedDatasets/YOOCHOOSE/merged\n"
     ]
    },
    {
     "data": {
      "text/plain": [
       "['yoochoose-buys.inter', 'yoochoose-clicks.inter']"
      ]
     },
     "execution_count": 4,
     "metadata": {},
     "output_type": "execute_result"
    }
   ],
   "source": [
    "dataset_path = os.path.expanduser('~/local/datasets/recsys/recbole/RecBole/ProcessedDatasets/YOOCHOOSE/merged')\n",
    "print(dataset_path)\n",
    "[f for f in os.listdir(dataset_path) if f.endswith('.inter')]"
   ]
  },
  {
   "cell_type": "markdown",
   "metadata": {},
   "source": [
    "the clicks file is much larger and probably is what all are using. lets read the description:"
   ]
  },
  {
   "cell_type": "code",
   "execution_count": 6,
   "metadata": {},
   "outputs": [
    {
     "name": "stdout",
     "output_type": "stream",
     "text": [
      "BUYs DATASET FILE DESCRIPTION\n",
      "------------------------------------------------------------------------------------\n",
      "------------------------------------------------------------------------------------\n",
      "The file yoochoose-buys.inter comprising the information of the buy events.\n",
      "Each record/line in the file has the following fields: session_id, item_id, count, timestamp\n",
      "\n",
      "session_id: the id of the session, and its type is token.\n",
      "item_id: the unique identifier of the item, and its type is token.\n",
      "count: the number of items bought in the session, and its type is float.\n",
      "timestamp: the time when the buy occurred, and its type is float.\n",
      "\n",
      "CLICKs DATASET FILE DESCRIPTION\n",
      "------------------------------------------------------------------------------------\n",
      "------------------------------------------------------------------------------------\n",
      "The file yoochoose-clicks.inter comprising the information of the click events.\n",
      "Each record/line in the file has the following fields: session_id, item_id, count, timestamp\n",
      "\n",
      "session_id: the id of the session, and its type is token.\n",
      "item_id: the unique identifier of the item, and its type is token.\n",
      "count: the number of items clicked in the session, and its type is float.\n",
      "timestamp: the time when the click occurred, and its type is float."
     ]
    }
   ],
   "source": [
    "!cat {os.path.join(dataset_path,'README.md')}"
   ]
  },
  {
   "cell_type": "code",
   "execution_count": 7,
   "metadata": {},
   "outputs": [
    {
     "data": {
      "text/html": [
       "<div>\n",
       "<style scoped>\n",
       "    .dataframe tbody tr th:only-of-type {\n",
       "        vertical-align: middle;\n",
       "    }\n",
       "\n",
       "    .dataframe tbody tr th {\n",
       "        vertical-align: top;\n",
       "    }\n",
       "\n",
       "    .dataframe thead th {\n",
       "        text-align: right;\n",
       "    }\n",
       "</style>\n",
       "<table border=\"1\" class=\"dataframe\">\n",
       "  <thead>\n",
       "    <tr style=\"text-align: right;\">\n",
       "      <th></th>\n",
       "      <th>session_id:token</th>\n",
       "      <th>item_id:token</th>\n",
       "      <th>count:float</th>\n",
       "      <th>timestamp:float</th>\n",
       "    </tr>\n",
       "  </thead>\n",
       "  <tbody>\n",
       "    <tr>\n",
       "      <th>0</th>\n",
       "      <td>1</td>\n",
       "      <td>214536502</td>\n",
       "      <td>1</td>\n",
       "      <td>1396839069</td>\n",
       "    </tr>\n",
       "    <tr>\n",
       "      <th>1</th>\n",
       "      <td>1</td>\n",
       "      <td>214536500</td>\n",
       "      <td>1</td>\n",
       "      <td>1396839249</td>\n",
       "    </tr>\n",
       "    <tr>\n",
       "      <th>2</th>\n",
       "      <td>1</td>\n",
       "      <td>214536506</td>\n",
       "      <td>1</td>\n",
       "      <td>1396839286</td>\n",
       "    </tr>\n",
       "    <tr>\n",
       "      <th>3</th>\n",
       "      <td>1</td>\n",
       "      <td>214577561</td>\n",
       "      <td>1</td>\n",
       "      <td>1396839420</td>\n",
       "    </tr>\n",
       "    <tr>\n",
       "      <th>4</th>\n",
       "      <td>2</td>\n",
       "      <td>214662742</td>\n",
       "      <td>2</td>\n",
       "      <td>1396850239</td>\n",
       "    </tr>\n",
       "  </tbody>\n",
       "</table>\n",
       "</div>"
      ],
      "text/plain": [
       "   session_id:token  item_id:token  count:float  timestamp:float\n",
       "0                 1      214536502            1       1396839069\n",
       "1                 1      214536500            1       1396839249\n",
       "2                 1      214536506            1       1396839286\n",
       "3                 1      214577561            1       1396839420\n",
       "4                 2      214662742            2       1396850239"
      ]
     },
     "execution_count": 7,
     "metadata": {},
     "output_type": "execute_result"
    }
   ],
   "source": [
    "df=pd.read_csv(os.path.join(dataset_path,'yoochoose-clicks.inter'),sep='\\t')\n",
    "df.head()"
   ]
  },
  {
   "cell_type": "markdown",
   "metadata": {},
   "source": [
    "### Statistics"
   ]
  },
  {
   "cell_type": "markdown",
   "metadata": {},
   "source": [
    "#### Session based "
   ]
  },
  {
   "cell_type": "code",
   "execution_count": 15,
   "metadata": {},
   "outputs": [
    {
     "name": "stdout",
     "output_type": "stream",
     "text": [
      "number of unique sessions: 9249729\n"
     ]
    },
    {
     "data": {
      "text/plain": [
       "<AxesSubplot:>"
      ]
     },
     "execution_count": 15,
     "metadata": {},
     "output_type": "execute_result"
    },
    {
     "data": {
      "image/png": "[encoded data removed]",
      "text/plain": [
       "<Figure size 432x288 with 1 Axes>"
      ]
     },
     "metadata": {
      "needs_background": "light"
     },
     "output_type": "display_data"
    }
   ],
   "source": [
    "print(f\"number of unique sessions: {len(df['session_id:token'].unique())}\")\n",
    "sess_lengths = df['session_id:token'].value_counts()\n",
    "sess_lengths.hist(bins=200)"
   ]
  },
  {
   "cell_type": "code",
   "execution_count": 18,
   "metadata": {},
   "outputs": [
    {
     "data": {
      "text/plain": [
       "200          6\n",
       "199          7\n",
       "198          3\n",
       "195          5\n",
       "194          1\n",
       "        ...   \n",
       "5       473054\n",
       "4       785870\n",
       "3      1463174\n",
       "2      2945317\n",
       "1      2493154\n",
       "Name: session_id:token, Length: 190, dtype: int64"
      ]
     },
     "execution_count": 18,
     "metadata": {},
     "output_type": "execute_result"
    }
   ],
   "source": [
    "# check how many sessions we have in each length \n",
    "# output is: (length , # of sessions)\n",
    "sess_lengths.value_counts(sort=False)"
   ]
  },
  {
   "cell_type": "markdown",
   "metadata": {},
   "source": [
    "we have total of 9249729 sessions, of which 2493154 are of length 1, if we ignore them (as done in the various papers) we're left with 6756575 sessions"
   ]
  },
  {
   "cell_type": "markdown",
   "metadata": {},
   "source": [
    "#### item & user statistics"
   ]
  },
  {
   "cell_type": "code",
   "execution_count": 19,
   "metadata": {},
   "outputs": [
    {
     "name": "stdout",
     "output_type": "stream",
     "text": [
      "number of unique items: 52739\n"
     ]
    }
   ],
   "source": [
    "print(f\"number of unique items: {len(df['item_id:token'].unique())}\")"
   ]
  },
  {
   "cell_type": "code",
   "execution_count": 22,
   "metadata": {},
   "outputs": [
    {
     "data": {
      "text/plain": [
       "214853094    102215\n",
       "214829878     99509\n",
       "643078800     76329\n",
       "214853420     63407\n",
       "214853096     55772\n",
       "              ...  \n",
       "214645440         1\n",
       "214548120         1\n",
       "214547807         1\n",
       "214811304         1\n",
       "214687078         1\n",
       "Name: item_id:token, Length: 52739, dtype: int64"
      ]
     },
     "execution_count": 22,
     "metadata": {},
     "output_type": "execute_result"
    }
   ],
   "source": [
    "item_cnts = df['item_id:token'].value_counts()\n",
    "item_cnts"
   ]
  },
  {
   "cell_type": "code",
   "execution_count": 24,
   "metadata": {},
   "outputs": [
    {
     "data": {
      "text/plain": [
       "102215       1\n",
       "99509        1\n",
       "76329        1\n",
       "63407        1\n",
       "55772        1\n",
       "          ... \n",
       "5         1628\n",
       "4         2151\n",
       "3         2838\n",
       "2         4214\n",
       "1         6970\n",
       "Name: item_id:token, Length: 4350, dtype: int64"
      ]
     },
     "execution_count": 24,
     "metadata": {},
     "output_type": "execute_result"
    }
   ],
   "source": [
    "# check how many items have X occurences\n",
    "# output is: (X occurences , # of items)\n",
    "# for example : 6970 items occured only once, 4214 occured twice etc.\n",
    "item_cnts.value_counts(sort=False)"
   ]
  },
  {
   "cell_type": "markdown",
   "metadata": {},
   "source": [
    "## reading through RecBole Framework"
   ]
  },
  {
   "cell_type": "code",
   "execution_count": null,
   "metadata": {},
   "outputs": [],
   "source": []
  },
  {
   "cell_type": "markdown",
   "metadata": {},
   "source": [
    "# RetailRocket"
   ]
  },
  {
   "cell_type": "markdown",
   "metadata": {},
   "source": [
    "## `.inter` files"
   ]
  },
  {
   "cell_type": "code",
   "execution_count": 26,
   "metadata": {},
   "outputs": [
    {
     "name": "stdout",
     "output_type": "stream",
     "text": [
      "/nfs/iil/home/gkoren2/local/datasets/recsys/recbole/RecBole/ProcessedDatasets/Retailrocket/merged\n"
     ]
    },
    {
     "data": {
      "text/plain": [
       "['retailrocket-addtocart.inter',\n",
       " 'retailrocket-view.inter',\n",
       " 'retailrocket-transaction.inter']"
      ]
     },
     "execution_count": 26,
     "metadata": {},
     "output_type": "execute_result"
    }
   ],
   "source": [
    "dataset_path = os.path.expanduser('~/local/datasets/recsys/recbole/RecBole/ProcessedDatasets/Retailrocket/merged')\n",
    "print(dataset_path)\n",
    "[f for f in os.listdir(dataset_path) if f.endswith('.inter')]"
   ]
  },
  {
   "cell_type": "code",
   "execution_count": 27,
   "metadata": {},
   "outputs": [
    {
     "name": "stdout",
     "output_type": "stream",
     "text": [
      "VIEW INTERACTIONs DATASET FILE DESCRIPTION\n",
      "------------------------------------------------------------------------------------\n",
      "------------------------------------------------------------------------------------\n",
      "The file retailrocket-view.inter comprising the view records of users.\n",
      "Each record/line in the file has the following fields: timestamp, visitor_id, item_id, count\n",
      "\n",
      "timestamp: the time when the view occurred, and its type is float.\n",
      "visitor_id: the id of the visitor, and its type is token.\n",
      "item_id: the id of the item, and its type is token.\n",
      "count: the number of the event, and its type is float.\n",
      "\n",
      "ADDTOCART INTERACTIONs DATASET FILE DESCRIPTION\n",
      "------------------------------------------------------------------------------------\n",
      "------------------------------------------------------------------------------------\n",
      "The file retailrocket-addtocart.inter comprising the addtocart records of users.\n",
      "Each record/line in the file has the following fields: timestamp, visitor_id, item_id, count\n",
      "\n",
      "timestamp: the time when the addtocart occurred, and its type is float.\n",
      "visitor_id: the id of the visitor, and its type is token.\n",
      "item_id: the id of the item, and its type is token.\n",
      "count: the number of the event, and its type is float.\n",
      "\n",
      "TRANSACTION INTERACTIONs DATASET FILE DESCRIPTION\n",
      "------------------------------------------------------------------------------------\n",
      "------------------------------------------------------------------------------------\n",
      "The file retailrocket-transaction.inter comprising the transaction records of users.\n",
      "Each record/line in the file has the following fields: timestamp, visitor_id, item_id, count\n",
      "\n",
      "timestamp: the time when the transaction occurred, and its type is float.\n",
      "visitor_id: the id of the visitor, and its type is token.\n",
      "item_id: the id of the item, and its type is token.\n",
      "count: the number of the event, and its type is float.\n",
      "\n",
      "ITEM INFORMATION DATASET FILE DESCRIPTION\n",
      "------------------------------------------------------------------------------------\n",
      "------------------------------------------------------------------------------------\n",
      "The file retailrocket.item comprising the information of the items.\n",
      "Each record/line in the file has the following fields: item_timestamp, item_id, property, value\n",
      "\n",
      "item_timestamp: the time when the property was recorded, and its type is float.\n",
      "item_id: the id of the item, and its type is token.\n",
      "property: the kind of the property, and its type is token.\n",
      "value: the value of the property, and its type is token_seq.\n",
      "\n",
      "\n"
     ]
    }
   ],
   "source": [
    "!cat {os.path.join(dataset_path,'README.md')}"
   ]
  },
  {
   "cell_type": "code",
   "execution_count": 29,
   "metadata": {},
   "outputs": [
    {
     "data": {
      "text/html": [
       "<div>\n",
       "<style scoped>\n",
       "    .dataframe tbody tr th:only-of-type {\n",
       "        vertical-align: middle;\n",
       "    }\n",
       "\n",
       "    .dataframe tbody tr th {\n",
       "        vertical-align: top;\n",
       "    }\n",
       "\n",
       "    .dataframe thead th {\n",
       "        text-align: right;\n",
       "    }\n",
       "</style>\n",
       "<table border=\"1\" class=\"dataframe\">\n",
       "  <thead>\n",
       "    <tr style=\"text-align: right;\">\n",
       "      <th></th>\n",
       "      <th>timestamp:float</th>\n",
       "      <th>visitor_id:token</th>\n",
       "      <th>item_id:token</th>\n",
       "      <th>count:float</th>\n",
       "    </tr>\n",
       "  </thead>\n",
       "  <tbody>\n",
       "    <tr>\n",
       "      <th>0</th>\n",
       "      <td>1433221332117</td>\n",
       "      <td>257597</td>\n",
       "      <td>355908</td>\n",
       "      <td>1</td>\n",
       "    </tr>\n",
       "    <tr>\n",
       "      <th>1</th>\n",
       "      <td>1433224214164</td>\n",
       "      <td>992329</td>\n",
       "      <td>248676</td>\n",
       "      <td>1</td>\n",
       "    </tr>\n",
       "    <tr>\n",
       "      <th>2</th>\n",
       "      <td>1433221999827</td>\n",
       "      <td>111016</td>\n",
       "      <td>318965</td>\n",
       "      <td>2</td>\n",
       "    </tr>\n",
       "    <tr>\n",
       "      <th>3</th>\n",
       "      <td>1433221955914</td>\n",
       "      <td>483717</td>\n",
       "      <td>253185</td>\n",
       "      <td>2</td>\n",
       "    </tr>\n",
       "    <tr>\n",
       "      <th>4</th>\n",
       "      <td>1433221337106</td>\n",
       "      <td>951259</td>\n",
       "      <td>367447</td>\n",
       "      <td>1</td>\n",
       "    </tr>\n",
       "  </tbody>\n",
       "</table>\n",
       "</div>"
      ],
      "text/plain": [
       "   timestamp:float  visitor_id:token  item_id:token  count:float\n",
       "0    1433221332117            257597         355908            1\n",
       "1    1433224214164            992329         248676            1\n",
       "2    1433221999827            111016         318965            2\n",
       "3    1433221955914            483717         253185            2\n",
       "4    1433221337106            951259         367447            1"
      ]
     },
     "execution_count": 29,
     "metadata": {},
     "output_type": "execute_result"
    }
   ],
   "source": [
    "df=pd.read_csv(os.path.join(dataset_path,'retailrocket-view.inter'),sep='\\t')\n",
    "df.head()"
   ]
  },
  {
   "cell_type": "code",
   "execution_count": 30,
   "metadata": {},
   "outputs": [
    {
     "data": {
      "text/plain": [
       "1404179"
      ]
     },
     "execution_count": 30,
     "metadata": {},
     "output_type": "execute_result"
    }
   ],
   "source": [
    "len(df['visitor_id:token'].unique()) "
   ]
  },
  {
   "cell_type": "code",
   "execution_count": 33,
   "metadata": {},
   "outputs": [
    {
     "data": {
      "text/plain": [
       "187946    2911\n",
       "5411      2078\n",
       "370653    1577\n",
       "461686    1379\n",
       "96924     1359\n",
       "          ... \n",
       "306737       1\n",
       "129845       1\n",
       "57928        1\n",
       "443836       1\n",
       "177353       1\n",
       "Name: item_id:token, Length: 234838, dtype: int64"
      ]
     },
     "execution_count": 33,
     "metadata": {},
     "output_type": "execute_result"
    }
   ],
   "source": [
    "item_cnts=df['item_id:token'].value_counts()\n",
    "item_cnts"
   ]
  },
  {
   "cell_type": "code",
   "execution_count": 35,
   "metadata": {},
   "outputs": [
    {
     "data": {
      "text/plain": [
       "2911        1\n",
       "2078        1\n",
       "1577        1\n",
       "1379        1\n",
       "1359        1\n",
       "        ...  \n",
       "5       10476\n",
       "4       14447\n",
       "3       21182\n",
       "2       36200\n",
       "1       81374\n",
       "Name: item_id:token, Length: 477, dtype: int64"
      ]
     },
     "execution_count": 35,
     "metadata": {},
     "output_type": "execute_result"
    }
   ],
   "source": [
    "item_cnts.value_counts(sort=False)"
   ]
  }
 ],
 "metadata": {
  "kernelspec": {
   "display_name": "Python 3.9.12 ('recbole')",
   "language": "python",
   "name": "python3"
  },
  "language_info": {
   "codemirror_mode": {
    "name": "ipython",
    "version": 3
   },
   "file_extension": ".py",
   "mimetype": "text/x-python",
   "name": "python",
   "nbconvert_exporter": "python",
   "pygments_lexer": "ipython3",
   "version": "3.9.12"
  },
  "orig_nbformat": 4,
  "vscode": {
   "interpreter": {
    "hash": "bc0fd1abc2602ec1b3e4206595ab69b0e3cf447ced07bd62f4679a23079f293a"
   }
  }
 },
 "nbformat": 4,
 "nbformat_minor": 2
}
