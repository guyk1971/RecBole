{
 "cells": [
  {
   "cell_type": "markdown",
   "metadata": {},
   "source": [
    "# Session Based Datasets\n",
    "\n",
    "when running `run_example/session_based_rec_example.py` we see it supports only 3 datasets : `tmall-session`, `diginetica-session` and `nowplaying-session` \n",
    "however, when looking at [RecBole Dataset List](https://recbole.io/dataset_list.html) we see many more datasets.  \n",
    "moreover, it looks like the `-session` based versions are different than the files downloaded from the [Google Drive](https://drive.google.com/drive/folders/1so0lckI6N6_niVEYaBu-LIcpOdZf99kj?usp=sharing)  \n",
    "\n",
    "in this notebook I'll try to explore the various datasets to understand what do we have in it\n",
    "\n",
    "I'll follow the example to download the datasets"
   ]
  },
  {
   "cell_type": "code",
   "execution_count": 1,
   "metadata": {},
   "outputs": [],
   "source": [
    "import os \n",
    "from recbole.config import Config\n",
    "from recbole.data import create_dataset\n",
    "from recbole.data.utils import get_dataloader\n",
    "from recbole.utils import init_logger, init_seed, get_model, get_trainer, set_color"
   ]
  },
  {
   "cell_type": "code",
   "execution_count": 2,
   "metadata": {},
   "outputs": [],
   "source": [
    "from dataclasses import dataclass\n",
    "\n",
    "@dataclass\n",
    "class Arguments:\n",
    "    model:str = 'GRU4Rec'\n",
    "    dataset:str = 'diginetica-session'\n",
    "    validation: bool = 'False'\n",
    "    valid_portion: float = 0.1\n",
    "\n",
    "args=Arguments()\n"
   ]
  },
  {
   "cell_type": "markdown",
   "metadata": {},
   "source": [
    "## DIGINETICA\n",
    "there are 2 versions : the `diginetica-session` and the `diginetica` "
   ]
  },
  {
   "cell_type": "markdown",
   "metadata": {},
   "source": [
    "### diginetica-session"
   ]
  },
  {
   "cell_type": "code",
   "execution_count": 6,
   "metadata": {},
   "outputs": [
    {
     "data": {
      "text/plain": [
       "Arguments(model='GRU4Rec', dataset='diginetica-session', validation='False', valid_portion=0.1)"
      ]
     },
     "execution_count": 6,
     "metadata": {},
     "output_type": "execute_result"
    }
   ],
   "source": [
    "args=Arguments()\n",
    "args"
   ]
  },
  {
   "cell_type": "code",
   "execution_count": 7,
   "metadata": {},
   "outputs": [],
   "source": [
    "config_dict = {\n",
    "    'USER_ID_FIELD': 'session_id',\n",
    "    'load_col': None,\n",
    "    'neg_sampling': None,\n",
    "    'benchmark_filename': ['train', 'test'],\n",
    "    'alias_of_item_id': ['item_id_list'],\n",
    "    'topk': [20],\n",
    "    'metrics': ['Recall', 'MRR'],\n",
    "    'valid_metric': 'MRR@20'\n",
    "}"
   ]
  },
  {
   "cell_type": "code",
   "execution_count": 8,
   "metadata": {},
   "outputs": [
    {
     "data": {
      "text/plain": [
       "{'gpu_id': 0,\n",
       " 'use_gpu': True,\n",
       " 'seed': 2020,\n",
       " 'state': 'INFO',\n",
       " 'reproducibility': True,\n",
       " 'data_path': 'dataset/diginetica-session',\n",
       " 'checkpoint_dir': 'saved',\n",
       " 'show_progress': True,\n",
       " 'save_dataset': False,\n",
       " 'dataset_save_path': None,\n",
       " 'save_dataloaders': False,\n",
       " 'dataloaders_save_path': None,\n",
       " 'log_wandb': False,\n",
       " 'wandb_project': 'recbole',\n",
       " 'epochs': 300,\n",
       " 'train_batch_size': 2048,\n",
       " 'learner': 'adam',\n",
       " 'learning_rate': 0.001,\n",
       " 'neg_sampling': None,\n",
       " 'eval_step': 1,\n",
       " 'stopping_step': 10,\n",
       " 'clip_grad_norm': None,\n",
       " 'weight_decay': 0.0,\n",
       " 'loss_decimal_place': 4,\n",
       " 'require_pow': False,\n",
       " 'eval_args': {'split': {'LS': 'valid_and_test'},\n",
       "  'order': 'TO',\n",
       "  'mode': 'full',\n",
       "  'group_by': 'user'},\n",
       " 'repeatable': True,\n",
       " 'metrics': ['Recall', 'MRR'],\n",
       " 'topk': [20],\n",
       " 'valid_metric': 'MRR@20',\n",
       " 'valid_metric_bigger': True,\n",
       " 'eval_batch_size': 4096,\n",
       " 'metric_decimal_place': 4,\n",
       " 'embedding_size': 64,\n",
       " 'hidden_size': 128,\n",
       " 'num_layers': 1,\n",
       " 'dropout_prob': 0.3,\n",
       " 'loss_type': 'CE',\n",
       " 'field_separator': '\\t',\n",
       " 'seq_separator': ' ',\n",
       " 'USER_ID_FIELD': 'session_id',\n",
       " 'ITEM_ID_FIELD': 'item_id',\n",
       " 'RATING_FIELD': 'rating',\n",
       " 'TIME_FIELD': 'timestamp',\n",
       " 'seq_len': None,\n",
       " 'LABEL_FIELD': 'label',\n",
       " 'threshold': None,\n",
       " 'NEG_PREFIX': 'neg_',\n",
       " 'load_col': None,\n",
       " 'unload_col': None,\n",
       " 'unused_col': None,\n",
       " 'additional_feat_suffix': None,\n",
       " 'rm_dup_inter': None,\n",
       " 'val_interval': None,\n",
       " 'filter_inter_by_user_or_item': True,\n",
       " 'user_inter_num_interval': '[0,inf)',\n",
       " 'item_inter_num_interval': '[0,inf)',\n",
       " 'alias_of_user_id': None,\n",
       " 'alias_of_item_id': ['item_id_list'],\n",
       " 'alias_of_entity_id': None,\n",
       " 'alias_of_relation_id': None,\n",
       " 'preload_weight': None,\n",
       " 'normalize_field': None,\n",
       " 'normalize_all': None,\n",
       " 'ITEM_LIST_LENGTH_FIELD': 'item_length',\n",
       " 'LIST_SUFFIX': '_list',\n",
       " 'MAX_ITEM_LIST_LENGTH': 50,\n",
       " 'POSITION_FIELD': 'position_id',\n",
       " 'HEAD_ENTITY_ID_FIELD': 'head_id',\n",
       " 'TAIL_ENTITY_ID_FIELD': 'tail_id',\n",
       " 'RELATION_ID_FIELD': 'relation_id',\n",
       " 'ENTITY_ID_FIELD': 'entity_id',\n",
       " 'benchmark_filename': ['train', 'test'],\n",
       " 'MODEL_TYPE': <ModelType.SEQUENTIAL: 2>,\n",
       " 'dataset': 'diginetica-session',\n",
       " 'model': 'GRU4Rec',\n",
       " 'MODEL_INPUT_TYPE': <InputType.POINTWISE: 1>,\n",
       " 'eval_type': <EvaluatorType.RANKING: 1>,\n",
       " 'device': device(type='cuda'),\n",
       " 'train_neg_sample_args': {'strategy': 'none'},\n",
       " 'eval_neg_sample_args': {'strategy': 'full', 'distribution': 'uniform'}}"
      ]
     },
     "execution_count": 8,
     "metadata": {},
     "output_type": "execute_result"
    }
   ],
   "source": [
    "config = Config(model=args.model, dataset=f'{args.dataset}', config_dict=config_dict)\n",
    "config.final_config_dict"
   ]
  },
  {
   "cell_type": "code",
   "execution_count": 9,
   "metadata": {},
   "outputs": [
    {
     "name": "stderr",
     "output_type": "stream",
     "text": [
      "Downloaded 0.01 GB: 100%|██████████| 8/8 [00:03<00:00,  2.61it/s]\n"
     ]
    }
   ],
   "source": [
    "dataset = create_dataset(config)"
   ]
  },
  {
   "cell_type": "code",
   "execution_count": 10,
   "metadata": {},
   "outputs": [
    {
     "data": {
      "text/plain": [
       "\u001b[1;35mdiginetica-session\u001b[0m\n",
       "\u001b[1;34mThe number of users\u001b[0m: 719471\n",
       "\u001b[1;34mAverage actions of users\u001b[0m: 1.0845872656260858\n",
       "\u001b[1;34mThe number of items\u001b[0m: 43098\n",
       "\u001b[1;34mAverage actions of items\u001b[0m: 18.110520574651286\n",
       "\u001b[1;34mThe number of inters\u001b[0m: 780328\n",
       "\u001b[1;34mThe sparsity of the dataset\u001b[0m: 99.9974834429483%\n",
       "\u001b[1;34mRemain Fields\u001b[0m: ['session_id', 'item_id_list', 'item_id', 'item_length']"
      ]
     },
     "execution_count": 10,
     "metadata": {},
     "output_type": "execute_result"
    }
   ],
   "source": [
    "dataset"
   ]
  },
  {
   "cell_type": "code",
   "execution_count": 11,
   "metadata": {},
   "outputs": [
    {
     "data": {
      "text/html": [
       "<div>\n",
       "<style scoped>\n",
       "    .dataframe tbody tr th:only-of-type {\n",
       "        vertical-align: middle;\n",
       "    }\n",
       "\n",
       "    .dataframe tbody tr th {\n",
       "        vertical-align: top;\n",
       "    }\n",
       "\n",
       "    .dataframe thead th {\n",
       "        text-align: right;\n",
       "    }\n",
       "</style>\n",
       "<table border=\"1\" class=\"dataframe\">\n",
       "  <thead>\n",
       "    <tr style=\"text-align: right;\">\n",
       "      <th></th>\n",
       "      <th>session_id</th>\n",
       "      <th>item_id_list</th>\n",
       "      <th>item_id</th>\n",
       "      <th>item_length</th>\n",
       "    </tr>\n",
       "  </thead>\n",
       "  <tbody>\n",
       "    <tr>\n",
       "      <th>0</th>\n",
       "      <td>1</td>\n",
       "      <td>[24864]</td>\n",
       "      <td>1</td>\n",
       "      <td>1</td>\n",
       "    </tr>\n",
       "    <tr>\n",
       "      <th>1</th>\n",
       "      <td>2</td>\n",
       "      <td>[137, 3]</td>\n",
       "      <td>2</td>\n",
       "      <td>2</td>\n",
       "    </tr>\n",
       "    <tr>\n",
       "      <th>2</th>\n",
       "      <td>3</td>\n",
       "      <td>[137]</td>\n",
       "      <td>3</td>\n",
       "      <td>1</td>\n",
       "    </tr>\n",
       "    <tr>\n",
       "      <th>3</th>\n",
       "      <td>4</td>\n",
       "      <td>[299]</td>\n",
       "      <td>4</td>\n",
       "      <td>1</td>\n",
       "    </tr>\n",
       "    <tr>\n",
       "      <th>4</th>\n",
       "      <td>5</td>\n",
       "      <td>[1010]</td>\n",
       "      <td>5</td>\n",
       "      <td>1</td>\n",
       "    </tr>\n",
       "  </tbody>\n",
       "</table>\n",
       "</div>"
      ],
      "text/plain": [
       "   session_id item_id_list  item_id  item_length\n",
       "0           1      [24864]        1            1\n",
       "1           2     [137, 3]        2            2\n",
       "2           3        [137]        3            1\n",
       "3           4        [299]        4            1\n",
       "4           5       [1010]        5            1"
      ]
     },
     "execution_count": 11,
     "metadata": {},
     "output_type": "execute_result"
    }
   ],
   "source": [
    "# the main interaction data is in the inter_feat data frame:\n",
    "dataset.inter_feat.head()\n"
   ]
  },
  {
   "cell_type": "markdown",
   "metadata": {},
   "source": [
    "### diginetica"
   ]
  },
  {
   "cell_type": "code",
   "execution_count": 12,
   "metadata": {},
   "outputs": [
    {
     "data": {
      "text/plain": [
       "Arguments(model='GRU4Rec', dataset='diginetica', validation='False', valid_portion=0.1)"
      ]
     },
     "execution_count": 12,
     "metadata": {},
     "output_type": "execute_result"
    }
   ],
   "source": [
    "digi_args = Arguments(dataset='diginetica')\n",
    "digi_args"
   ]
  },
  {
   "cell_type": "code",
   "execution_count": 13,
   "metadata": {},
   "outputs": [],
   "source": [
    "digi_config_dict= {\n",
    "        'USER_ID_FIELD': 'session_id',\n",
    "        'load_col': None,       # load all columns. dont filter anything\n",
    "        'neg_sampling': None,\n",
    "        # 'benchmark_filename': ['train', 'test'],\n",
    "        # 'alias_of_item_id': ['item_id_list'],\n",
    "        'eval_args':{\n",
    "            'group_by': 'user',\n",
    "            'order': 'TO',\n",
    "            'split':{'LS': 'test_only'},\n",
    "            'mode': 'uni100'},\n",
    "        'topk': [20],\n",
    "        'metrics': ['Recall', 'MRR'],\n",
    "        'valid_metric': 'MRR@20'\n",
    "    }\n"
   ]
  },
  {
   "cell_type": "code",
   "execution_count": 14,
   "metadata": {},
   "outputs": [
    {
     "data": {
      "text/plain": [
       "{'gpu_id': 0,\n",
       " 'use_gpu': True,\n",
       " 'seed': 2020,\n",
       " 'state': 'INFO',\n",
       " 'reproducibility': True,\n",
       " 'data_path': 'dataset/diginetica',\n",
       " 'checkpoint_dir': 'saved',\n",
       " 'show_progress': True,\n",
       " 'save_dataset': False,\n",
       " 'dataset_save_path': None,\n",
       " 'save_dataloaders': False,\n",
       " 'dataloaders_save_path': None,\n",
       " 'log_wandb': False,\n",
       " 'wandb_project': 'recbole',\n",
       " 'epochs': 300,\n",
       " 'train_batch_size': 2048,\n",
       " 'learner': 'adam',\n",
       " 'learning_rate': 0.001,\n",
       " 'neg_sampling': None,\n",
       " 'eval_step': 1,\n",
       " 'stopping_step': 10,\n",
       " 'clip_grad_norm': None,\n",
       " 'weight_decay': 0.0,\n",
       " 'loss_decimal_place': 4,\n",
       " 'require_pow': False,\n",
       " 'eval_args': {'group_by': 'user',\n",
       "  'order': 'TO',\n",
       "  'split': {'LS': 'test_only'},\n",
       "  'mode': 'uni100'},\n",
       " 'repeatable': True,\n",
       " 'metrics': ['Recall', 'MRR'],\n",
       " 'topk': [20],\n",
       " 'valid_metric': 'MRR@20',\n",
       " 'valid_metric_bigger': True,\n",
       " 'eval_batch_size': 4096,\n",
       " 'metric_decimal_place': 4,\n",
       " 'embedding_size': 64,\n",
       " 'hidden_size': 128,\n",
       " 'num_layers': 1,\n",
       " 'dropout_prob': 0.3,\n",
       " 'loss_type': 'CE',\n",
       " 'field_separator': '\\t',\n",
       " 'seq_separator': ' ',\n",
       " 'USER_ID_FIELD': 'session_id',\n",
       " 'ITEM_ID_FIELD': 'item_id',\n",
       " 'RATING_FIELD': 'rating',\n",
       " 'TIME_FIELD': 'timestamp',\n",
       " 'seq_len': None,\n",
       " 'LABEL_FIELD': 'label',\n",
       " 'threshold': None,\n",
       " 'NEG_PREFIX': 'neg_',\n",
       " 'load_col': None,\n",
       " 'unload_col': None,\n",
       " 'unused_col': None,\n",
       " 'additional_feat_suffix': None,\n",
       " 'rm_dup_inter': None,\n",
       " 'val_interval': None,\n",
       " 'filter_inter_by_user_or_item': True,\n",
       " 'user_inter_num_interval': '[0,inf)',\n",
       " 'item_inter_num_interval': '[0,inf)',\n",
       " 'alias_of_user_id': None,\n",
       " 'alias_of_item_id': None,\n",
       " 'alias_of_entity_id': None,\n",
       " 'alias_of_relation_id': None,\n",
       " 'preload_weight': None,\n",
       " 'normalize_field': None,\n",
       " 'normalize_all': None,\n",
       " 'ITEM_LIST_LENGTH_FIELD': 'item_length',\n",
       " 'LIST_SUFFIX': '_list',\n",
       " 'MAX_ITEM_LIST_LENGTH': 50,\n",
       " 'POSITION_FIELD': 'position_id',\n",
       " 'HEAD_ENTITY_ID_FIELD': 'head_id',\n",
       " 'TAIL_ENTITY_ID_FIELD': 'tail_id',\n",
       " 'RELATION_ID_FIELD': 'relation_id',\n",
       " 'ENTITY_ID_FIELD': 'entity_id',\n",
       " 'benchmark_filename': None,\n",
       " 'MODEL_TYPE': <ModelType.SEQUENTIAL: 2>,\n",
       " 'dataset': 'diginetica',\n",
       " 'model': 'GRU4Rec',\n",
       " 'MODEL_INPUT_TYPE': <InputType.POINTWISE: 1>,\n",
       " 'eval_type': <EvaluatorType.RANKING: 1>,\n",
       " 'device': device(type='cuda'),\n",
       " 'train_neg_sample_args': {'strategy': 'none'},\n",
       " 'eval_neg_sample_args': {'strategy': 'by',\n",
       "  'by': 100,\n",
       "  'distribution': 'uniform'}}"
      ]
     },
     "execution_count": 14,
     "metadata": {},
     "output_type": "execute_result"
    }
   ],
   "source": [
    "digi_config = Config(model=digi_args.model, dataset=f'{digi_args.dataset}', config_dict=digi_config_dict)\n",
    "digi_config.final_config_dict"
   ]
  },
  {
   "cell_type": "code",
   "execution_count": 26,
   "metadata": {},
   "outputs": [
    {
     "data": {
      "text/plain": [
       "'/home/gkoren2/study/git/guyk1971/RecBole/dataset/diginetica'"
      ]
     },
     "execution_count": 26,
     "metadata": {},
     "output_type": "execute_result"
    }
   ],
   "source": [
    "digi_config.final_config_dict['data_path'] = os.path.join(os.path.dirname(os.getcwd()),digi_config.final_config_dict['data_path'])\n",
    "digi_config.final_config_dict['data_path']"
   ]
  },
  {
   "cell_type": "code",
   "execution_count": 28,
   "metadata": {},
   "outputs": [
    {
     "data": {
      "text/plain": [
       "\u001b[1;35mdiginetica\u001b[0m\n",
       "\u001b[1;34mThe number of users\u001b[0m: 204790\n",
       "\u001b[1;34mAverage actions of users\u001b[0m: 4.078212208663551\n",
       "\u001b[1;34mThe number of items\u001b[0m: 184048\n",
       "\u001b[1;34mAverage actions of items\u001b[0m: 19.3613918768546\n",
       "\u001b[1;34mThe number of inters\u001b[0m: 835173\n",
       "\u001b[1;34mThe sparsity of the dataset\u001b[0m: 99.99778416918709%\n",
       "\u001b[1;34mRemain Fields\u001b[0m: ['session_id', 'item_id', 'timestamp', 'number of times', 'item_priceLog2', 'item_name', 'item_category']"
      ]
     },
     "execution_count": 28,
     "metadata": {},
     "output_type": "execute_result"
    }
   ],
   "source": [
    "# diginetica = create_dataset(digi_config)\n",
    "diginetica"
   ]
  },
  {
   "cell_type": "code",
   "execution_count": 35,
   "metadata": {},
   "outputs": [
    {
     "data": {
      "text/plain": [
       "835173"
      ]
     },
     "execution_count": 35,
     "metadata": {},
     "output_type": "execute_result"
    }
   ],
   "source": [
    "# diginetica.inter_feat.session_id.value_counts()\n",
    "len(diginetica)"
   ]
  },
  {
   "cell_type": "code",
   "execution_count": 29,
   "metadata": {},
   "outputs": [
    {
     "data": {
      "text/plain": [
       "\u001b[1;35mdiginetica-session\u001b[0m\n",
       "\u001b[1;34mThe number of users\u001b[0m: 719471\n",
       "\u001b[1;34mAverage actions of users\u001b[0m: 1.0845872656260858\n",
       "\u001b[1;34mThe number of items\u001b[0m: 43098\n",
       "\u001b[1;34mAverage actions of items\u001b[0m: 18.110520574651286\n",
       "\u001b[1;34mThe number of inters\u001b[0m: 780328\n",
       "\u001b[1;34mThe sparsity of the dataset\u001b[0m: 99.9974834429483%\n",
       "\u001b[1;34mRemain Fields\u001b[0m: ['session_id', 'item_id_list', 'item_id', 'item_length']"
      ]
     },
     "execution_count": 29,
     "metadata": {},
     "output_type": "execute_result"
    }
   ],
   "source": [
    "dataset"
   ]
  },
  {
   "cell_type": "code",
   "execution_count": 36,
   "metadata": {},
   "outputs": [
    {
     "data": {
      "text/plain": [
       "780328"
      ]
     },
     "execution_count": 36,
     "metadata": {},
     "output_type": "execute_result"
    }
   ],
   "source": [
    "len(dataset)"
   ]
  },
  {
   "cell_type": "code",
   "execution_count": 38,
   "metadata": {},
   "outputs": [
    {
     "data": {
      "text/plain": [
       "719470"
      ]
     },
     "execution_count": 38,
     "metadata": {},
     "output_type": "execute_result"
    }
   ],
   "source": [
    "len(dataset.inter_feat.session_id.unique())"
   ]
  },
  {
   "cell_type": "code",
   "execution_count": 39,
   "metadata": {},
   "outputs": [
    {
     "name": "stdout",
     "output_type": "stream",
     "text": [
      "   session_id item_id_list  item_id  item_length\n",
      "0           1      [24864]        1            1\n",
      "1           2     [137, 3]        2            2\n",
      "2           3        [137]        3            1\n",
      "3           4        [299]        4            1\n",
      "4           5       [1010]        5            1\n",
      "   session_id  item_id     timestamp  number of times\n",
      "0           1        1  1.463053e+09              1.0\n",
      "1           1        2  1.463754e+09              1.0\n",
      "2           1        3  1.462967e+09              1.0\n",
      "3           1        4  1.463836e+09              1.0\n",
      "4           1        5  1.462897e+09              1.0\n"
     ]
    }
   ],
   "source": [
    "print(dataset.inter_feat.head())\n",
    "print(diginetica.inter_feat.head())"
   ]
  },
  {
   "cell_type": "markdown",
   "metadata": {},
   "source": [
    "## TMALL"
   ]
  },
  {
   "cell_type": "markdown",
   "metadata": {},
   "source": [
    "### tmall-session\n"
   ]
  }
 ],
 "metadata": {
  "kernelspec": {
   "display_name": "Python 3.9.12 ('recbole')",
   "language": "python",
   "name": "python3"
  },
  "language_info": {
   "codemirror_mode": {
    "name": "ipython",
    "version": 3
   },
   "file_extension": ".py",
   "mimetype": "text/x-python",
   "name": "python",
   "nbconvert_exporter": "python",
   "pygments_lexer": "ipython3",
   "version": "3.9.12"
  },
  "orig_nbformat": 4,
  "vscode": {
   "interpreter": {
    "hash": "bc0fd1abc2602ec1b3e4206595ab69b0e3cf447ced07bd62f4679a23079f293a"
   }
  }
 },
 "nbformat": 4,
 "nbformat_minor": 2
}
