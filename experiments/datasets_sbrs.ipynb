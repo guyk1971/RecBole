{
 "cells": [
  {
   "cell_type": "markdown",
   "metadata": {},
   "source": [
    "# Dataset preparation\n",
    "Background: I'd like to run the RecBole algorithms in a session-based task on 4 datasets, and compare results to what's published in the following papers:\n",
    "- Evaluation of Session-based Recommendation Algorithms, Ludewig et al 2018\n",
    "- Empirical Analysis of Session-Based Recommendation Algorithms, Ludewig et al 2020\n",
    "- A survey on session-based recommender systems, Wang et al 2021\n",
    "\n",
    "The first 2 papers have also published their code in the session-rec framework. they also have the datasets to download.\n",
    "All 3 papers are aligned on the datasets: \n",
    "![img](SBRS_datasets.png)\n",
    "\n",
    "\n",
    "the goal is to understand what is needed to create the following SBRS version of the following datasets: \n",
    "- RetailRocket\n",
    "- RSC15\n",
    "- DIGINETICA - we already have `diginetica-session`. need to compare the characteristics to the published one\n",
    "- NowPlaying\n",
    "\n",
    "\n",
    "RecBole has DIGINETICA and NowPlaying in a `session based` version. need to compare the characteristics to `session-rec` version "
   ]
  },
  {
   "cell_type": "markdown",
   "metadata": {},
   "source": [
    "## imports\n"
   ]
  },
  {
   "cell_type": "code",
   "execution_count": 6,
   "metadata": {},
   "outputs": [],
   "source": [
    "import os \n",
    "import numpy as np\n",
    "import pandas as pd\n",
    "from recbole.config import Config\n",
    "from recbole.data import create_dataset\n",
    "from recbole.data.utils import get_dataloader\n",
    "from recbole.utils import init_logger, init_seed, get_model, get_trainer, set_color"
   ]
  },
  {
   "cell_type": "code",
   "execution_count": 2,
   "metadata": {},
   "outputs": [],
   "source": [
    "from dataclasses import dataclass\n",
    "\n",
    "@dataclass\n",
    "class Arguments:\n",
    "    model:str = 'GRU4Rec'\n",
    "    dataset:str = 'diginetica-session'\n",
    "    validation: bool = 'False'      # Whether evaluating on validation set (split from train set), otherwise on test set.\n",
    "    valid_portion: float = 0.1\n"
   ]
  },
  {
   "cell_type": "code",
   "execution_count": 3,
   "metadata": {},
   "outputs": [],
   "source": [
    "config_dict_sess = {\n",
    "    'USER_ID_FIELD': 'session_id',\n",
    "    'load_col': None,\n",
    "    'neg_sampling': None,\n",
    "    'benchmark_filename': ['train', 'test'],\n",
    "    'alias_of_item_id': ['item_id_list'],\n",
    "    'topk': [20],\n",
    "    'metrics': ['Recall', 'MRR'],\n",
    "    'valid_metric': 'MRR@20',\n",
    "    'gpu_id': 3\n",
    "}"
   ]
  },
  {
   "cell_type": "markdown",
   "metadata": {},
   "source": [
    "# DIGINETICA\n",
    "Lets start by comparing `diginetica-session` to what we have in `session-rec` and the above table"
   ]
  },
  {
   "cell_type": "markdown",
   "metadata": {},
   "source": [
    "## Recbole"
   ]
  },
  {
   "cell_type": "markdown",
   "metadata": {},
   "source": [
    "### session based\n",
    "There was a script that is not given in the repository that reads the raw data input file as downloaded from diginetica and converts it to `.inter` file\n",
    "\n"
   ]
  },
  {
   "cell_type": "code",
   "execution_count": 7,
   "metadata": {},
   "outputs": [
    {
     "data": {
      "text/plain": [
       "Arguments(model='GRU4Rec', dataset='diginetica-session', validation='False', valid_portion=0.1)"
      ]
     },
     "execution_count": 7,
     "metadata": {},
     "output_type": "execute_result"
    }
   ],
   "source": [
    "args = Arguments(dataset='diginetica-session')\n",
    "args"
   ]
  },
  {
   "cell_type": "code",
   "execution_count": 5,
   "metadata": {},
   "outputs": [
    {
     "data": {
      "text/plain": [
       "{'gpu_id': 3,\n",
       " 'use_gpu': True,\n",
       " 'seed': 2020,\n",
       " 'state': 'INFO',\n",
       " 'reproducibility': True,\n",
       " 'data_path': '/home/gkoren2/study/git/guyk1971/RecBole/dataset/diginetica-session',\n",
       " 'checkpoint_dir': 'saved',\n",
       " 'show_progress': True,\n",
       " 'save_dataset': False,\n",
       " 'dataset_save_path': None,\n",
       " 'save_dataloaders': False,\n",
       " 'dataloaders_save_path': None,\n",
       " 'log_wandb': False,\n",
       " 'wandb_project': 'recbole',\n",
       " 'epochs': 300,\n",
       " 'train_batch_size': 2048,\n",
       " 'learner': 'adam',\n",
       " 'learning_rate': 0.001,\n",
       " 'neg_sampling': None,\n",
       " 'eval_step': 1,\n",
       " 'stopping_step': 10,\n",
       " 'clip_grad_norm': None,\n",
       " 'weight_decay': 0.0,\n",
       " 'loss_decimal_place': 4,\n",
       " 'require_pow': False,\n",
       " 'eval_args': {'split': {'LS': 'valid_and_test'},\n",
       "  'order': 'TO',\n",
       "  'mode': 'full',\n",
       "  'group_by': 'user'},\n",
       " 'repeatable': True,\n",
       " 'metrics': ['Recall', 'MRR'],\n",
       " 'topk': [20],\n",
       " 'valid_metric': 'MRR@20',\n",
       " 'valid_metric_bigger': True,\n",
       " 'eval_batch_size': 4096,\n",
       " 'metric_decimal_place': 4,\n",
       " 'embedding_size': 64,\n",
       " 'hidden_size': 128,\n",
       " 'num_layers': 1,\n",
       " 'dropout_prob': 0.3,\n",
       " 'loss_type': 'CE',\n",
       " 'field_separator': '\\t',\n",
       " 'seq_separator': ' ',\n",
       " 'USER_ID_FIELD': 'session_id',\n",
       " 'ITEM_ID_FIELD': 'item_id',\n",
       " 'RATING_FIELD': 'rating',\n",
       " 'TIME_FIELD': 'timestamp',\n",
       " 'seq_len': None,\n",
       " 'LABEL_FIELD': 'label',\n",
       " 'threshold': None,\n",
       " 'NEG_PREFIX': 'neg_',\n",
       " 'load_col': None,\n",
       " 'unload_col': None,\n",
       " 'unused_col': None,\n",
       " 'additional_feat_suffix': None,\n",
       " 'rm_dup_inter': None,\n",
       " 'val_interval': None,\n",
       " 'filter_inter_by_user_or_item': True,\n",
       " 'user_inter_num_interval': '[0,inf)',\n",
       " 'item_inter_num_interval': '[0,inf)',\n",
       " 'alias_of_user_id': None,\n",
       " 'alias_of_item_id': ['item_id_list'],\n",
       " 'alias_of_entity_id': None,\n",
       " 'alias_of_relation_id': None,\n",
       " 'preload_weight': None,\n",
       " 'normalize_field': None,\n",
       " 'normalize_all': None,\n",
       " 'ITEM_LIST_LENGTH_FIELD': 'item_length',\n",
       " 'LIST_SUFFIX': '_list',\n",
       " 'MAX_ITEM_LIST_LENGTH': 50,\n",
       " 'POSITION_FIELD': 'position_id',\n",
       " 'HEAD_ENTITY_ID_FIELD': 'head_id',\n",
       " 'TAIL_ENTITY_ID_FIELD': 'tail_id',\n",
       " 'RELATION_ID_FIELD': 'relation_id',\n",
       " 'ENTITY_ID_FIELD': 'entity_id',\n",
       " 'benchmark_filename': ['train', 'test'],\n",
       " 'MODEL_TYPE': <ModelType.SEQUENTIAL: 2>,\n",
       " 'dataset': 'diginetica-session',\n",
       " 'model': 'GRU4Rec',\n",
       " 'MODEL_INPUT_TYPE': <InputType.POINTWISE: 1>,\n",
       " 'eval_type': <EvaluatorType.RANKING: 1>,\n",
       " 'device': device(type='cuda'),\n",
       " 'train_neg_sample_args': {'strategy': 'none'},\n",
       " 'eval_neg_sample_args': {'strategy': 'full', 'distribution': 'uniform'}}"
      ]
     },
     "execution_count": 5,
     "metadata": {},
     "output_type": "execute_result"
    }
   ],
   "source": [
    "config = Config(model=args.model, dataset=f'{args.dataset}', config_dict=config_dict_sess)\n",
    "config.final_config_dict['data_path'] = os.path.join(os.path.dirname(os.getcwd()),config.final_config_dict['data_path'])\n",
    "config.final_config_dict"
   ]
  },
  {
   "cell_type": "code",
   "execution_count": 6,
   "metadata": {},
   "outputs": [
    {
     "data": {
      "text/plain": [
       "\u001b[1;35mdiginetica-session\u001b[0m\n",
       "\u001b[1;34mThe number of users\u001b[0m: 719471\n",
       "\u001b[1;34mAverage actions of users\u001b[0m: 1.0845872656260858\n",
       "\u001b[1;34mThe number of items\u001b[0m: 43098\n",
       "\u001b[1;34mAverage actions of items\u001b[0m: 18.110520574651286\n",
       "\u001b[1;34mThe number of inters\u001b[0m: 780328\n",
       "\u001b[1;34mThe sparsity of the dataset\u001b[0m: 99.9974834429483%\n",
       "\u001b[1;34mRemain Fields\u001b[0m: ['session_id', 'item_id_list', 'item_id', 'item_length']"
      ]
     },
     "execution_count": 6,
     "metadata": {},
     "output_type": "execute_result"
    }
   ],
   "source": [
    "# called from the main script and performs a set of operations to load the .inter file to dataframe\n",
    "digi_recbole_sess = create_dataset(config)\n",
    "digi_recbole_sess"
   ]
  },
  {
   "cell_type": "code",
   "execution_count": 7,
   "metadata": {},
   "outputs": [
    {
     "data": {
      "text/html": [
       "<div>\n",
       "<style scoped>\n",
       "    .dataframe tbody tr th:only-of-type {\n",
       "        vertical-align: middle;\n",
       "    }\n",
       "\n",
       "    .dataframe tbody tr th {\n",
       "        vertical-align: top;\n",
       "    }\n",
       "\n",
       "    .dataframe thead th {\n",
       "        text-align: right;\n",
       "    }\n",
       "</style>\n",
       "<table border=\"1\" class=\"dataframe\">\n",
       "  <thead>\n",
       "    <tr style=\"text-align: right;\">\n",
       "      <th></th>\n",
       "      <th>session_id</th>\n",
       "      <th>item_id_list</th>\n",
       "      <th>item_id</th>\n",
       "      <th>item_length</th>\n",
       "    </tr>\n",
       "  </thead>\n",
       "  <tbody>\n",
       "    <tr>\n",
       "      <th>0</th>\n",
       "      <td>1</td>\n",
       "      <td>[24864]</td>\n",
       "      <td>1</td>\n",
       "      <td>1</td>\n",
       "    </tr>\n",
       "    <tr>\n",
       "      <th>1</th>\n",
       "      <td>2</td>\n",
       "      <td>[137, 3]</td>\n",
       "      <td>2</td>\n",
       "      <td>2</td>\n",
       "    </tr>\n",
       "    <tr>\n",
       "      <th>2</th>\n",
       "      <td>3</td>\n",
       "      <td>[137]</td>\n",
       "      <td>3</td>\n",
       "      <td>1</td>\n",
       "    </tr>\n",
       "    <tr>\n",
       "      <th>3</th>\n",
       "      <td>4</td>\n",
       "      <td>[299]</td>\n",
       "      <td>4</td>\n",
       "      <td>1</td>\n",
       "    </tr>\n",
       "    <tr>\n",
       "      <th>4</th>\n",
       "      <td>5</td>\n",
       "      <td>[1010]</td>\n",
       "      <td>5</td>\n",
       "      <td>1</td>\n",
       "    </tr>\n",
       "  </tbody>\n",
       "</table>\n",
       "</div>"
      ],
      "text/plain": [
       "   session_id item_id_list  item_id  item_length\n",
       "0           1      [24864]        1            1\n",
       "1           2     [137, 3]        2            2\n",
       "2           3        [137]        3            1\n",
       "3           4        [299]        4            1\n",
       "4           5       [1010]        5            1"
      ]
     },
     "execution_count": 7,
     "metadata": {},
     "output_type": "execute_result"
    }
   ],
   "source": [
    "digi_recbole_sess_inter_df=digi_recbole_sess.inter_feat\n",
    "digi_recbole_sess_inter_df.head()"
   ]
  },
  {
   "cell_type": "code",
   "execution_count": 10,
   "metadata": {},
   "outputs": [
    {
     "data": {
      "text/plain": [
       "1         2\n",
       "40578     2\n",
       "40566     2\n",
       "40567     2\n",
       "40568     2\n",
       "         ..\n",
       "280396    1\n",
       "280397    1\n",
       "280398    1\n",
       "280399    1\n",
       "719470    1\n",
       "Name: session_id, Length: 719470, dtype: int64"
      ]
     },
     "execution_count": 10,
     "metadata": {},
     "output_type": "execute_result"
    }
   ],
   "source": [
    "digi_recbole_sess_inter_df.session_id.value_counts()"
   ]
  },
  {
   "cell_type": "code",
   "execution_count": 26,
   "metadata": {},
   "outputs": [
    {
     "data": {
      "text/html": [
       "<div>\n",
       "<style scoped>\n",
       "    .dataframe tbody tr th:only-of-type {\n",
       "        vertical-align: middle;\n",
       "    }\n",
       "\n",
       "    .dataframe tbody tr th {\n",
       "        vertical-align: top;\n",
       "    }\n",
       "\n",
       "    .dataframe thead th {\n",
       "        text-align: right;\n",
       "    }\n",
       "</style>\n",
       "<table border=\"1\" class=\"dataframe\">\n",
       "  <thead>\n",
       "    <tr style=\"text-align: right;\">\n",
       "      <th></th>\n",
       "      <th>session_id</th>\n",
       "      <th>item_id_list</th>\n",
       "      <th>item_id</th>\n",
       "      <th>item_length</th>\n",
       "    </tr>\n",
       "  </thead>\n",
       "  <tbody>\n",
       "    <tr>\n",
       "      <th>0</th>\n",
       "      <td>1</td>\n",
       "      <td>[24864]</td>\n",
       "      <td>1</td>\n",
       "      <td>1</td>\n",
       "    </tr>\n",
       "    <tr>\n",
       "      <th>719470</th>\n",
       "      <td>1</td>\n",
       "      <td>[20438, 18951, 7866, 20453, 5659]</td>\n",
       "      <td>20453</td>\n",
       "      <td>5</td>\n",
       "    </tr>\n",
       "  </tbody>\n",
       "</table>\n",
       "</div>"
      ],
      "text/plain": [
       "        session_id                       item_id_list  item_id  item_length\n",
       "0                1                            [24864]        1            1\n",
       "719470           1  [20438, 18951, 7866, 20453, 5659]    20453            5"
      ]
     },
     "execution_count": 26,
     "metadata": {},
     "output_type": "execute_result"
    }
   ],
   "source": [
    "digi_recbole_sess_inter_df.loc[digi_recbole_sess_inter_df.session_id==1,:]"
   ]
  },
  {
   "cell_type": "code",
   "execution_count": 17,
   "metadata": {},
   "outputs": [
    {
     "data": {
      "text/plain": [
       "780328"
      ]
     },
     "execution_count": 17,
     "metadata": {},
     "output_type": "execute_result"
    }
   ],
   "source": [
    "len(digi_recbole_sess_inter_df)"
   ]
  },
  {
   "cell_type": "markdown",
   "metadata": {},
   "source": [
    "its not clear what is `item_id` in this file. is it the last item in the session (where all the rest are in `item_id_list`) ?\n",
    "\n",
    "the script for generating the `.inter` file of the sessionized version is not provided"
   ]
  },
  {
   "cell_type": "markdown",
   "metadata": {},
   "source": [
    "#### Step into `create_dataset`\n",
    "lets look at the input file first"
   ]
  },
  {
   "cell_type": "code",
   "execution_count": 6,
   "metadata": {},
   "outputs": [
    {
     "name": "stdout",
     "output_type": "stream",
     "text": [
      "/home/gkoren2/study/git/guyk1971/RecBole/dataset/diginetica-session\n"
     ]
    },
    {
     "data": {
      "text/plain": [
       "['diginetica-session.test.inter', 'diginetica-session.train.inter']"
      ]
     },
     "execution_count": 6,
     "metadata": {},
     "output_type": "execute_result"
    }
   ],
   "source": [
    "print(config.final_config_dict['data_path'])\n",
    "os.listdir(config.final_config_dict['data_path'])"
   ]
  },
  {
   "cell_type": "markdown",
   "metadata": {},
   "source": [
    "when calling `create_dataset` it understand that the dataset class is `SequentialDataset` and defines this class, calling its constructor.  \n",
    "the consstructor calls its `super` class (`Dataset`) constructor that calls eventually loads the above files to dataframe using the following:  \n",
    "`Dataset._load_data()` --> `Dataset._load_inter_feat` --> `Dataset._load_feat`"
   ]
  },
  {
   "cell_type": "code",
   "execution_count": 37,
   "metadata": {},
   "outputs": [
    {
     "data": {
      "text/html": [
       "<div>\n",
       "<style scoped>\n",
       "    .dataframe tbody tr th:only-of-type {\n",
       "        vertical-align: middle;\n",
       "    }\n",
       "\n",
       "    .dataframe tbody tr th {\n",
       "        vertical-align: top;\n",
       "    }\n",
       "\n",
       "    .dataframe thead th {\n",
       "        text-align: right;\n",
       "    }\n",
       "</style>\n",
       "<table border=\"1\" class=\"dataframe\">\n",
       "  <thead>\n",
       "    <tr style=\"text-align: right;\">\n",
       "      <th></th>\n",
       "      <th>session_id:token</th>\n",
       "      <th>item_id_list:token_seq</th>\n",
       "      <th>item_id:token</th>\n",
       "    </tr>\n",
       "  </thead>\n",
       "  <tbody>\n",
       "    <tr>\n",
       "      <th>0</th>\n",
       "      <td>1</td>\n",
       "      <td>1</td>\n",
       "      <td>2</td>\n",
       "    </tr>\n",
       "    <tr>\n",
       "      <th>1</th>\n",
       "      <td>2</td>\n",
       "      <td>3 4</td>\n",
       "      <td>5</td>\n",
       "    </tr>\n",
       "    <tr>\n",
       "      <th>2</th>\n",
       "      <td>3</td>\n",
       "      <td>3</td>\n",
       "      <td>4</td>\n",
       "    </tr>\n",
       "    <tr>\n",
       "      <th>3</th>\n",
       "      <td>4</td>\n",
       "      <td>6</td>\n",
       "      <td>7</td>\n",
       "    </tr>\n",
       "    <tr>\n",
       "      <th>4</th>\n",
       "      <td>5</td>\n",
       "      <td>8</td>\n",
       "      <td>9</td>\n",
       "    </tr>\n",
       "    <tr>\n",
       "      <th>5</th>\n",
       "      <td>6</td>\n",
       "      <td>10 11 12 12 13 14</td>\n",
       "      <td>15</td>\n",
       "    </tr>\n",
       "    <tr>\n",
       "      <th>6</th>\n",
       "      <td>7</td>\n",
       "      <td>10 11 12 12 13</td>\n",
       "      <td>14</td>\n",
       "    </tr>\n",
       "    <tr>\n",
       "      <th>7</th>\n",
       "      <td>8</td>\n",
       "      <td>10 11 12 12</td>\n",
       "      <td>13</td>\n",
       "    </tr>\n",
       "    <tr>\n",
       "      <th>8</th>\n",
       "      <td>9</td>\n",
       "      <td>10 11 12</td>\n",
       "      <td>12</td>\n",
       "    </tr>\n",
       "    <tr>\n",
       "      <th>9</th>\n",
       "      <td>10</td>\n",
       "      <td>10 11</td>\n",
       "      <td>12</td>\n",
       "    </tr>\n",
       "    <tr>\n",
       "      <th>10</th>\n",
       "      <td>11</td>\n",
       "      <td>10</td>\n",
       "      <td>11</td>\n",
       "    </tr>\n",
       "    <tr>\n",
       "      <th>11</th>\n",
       "      <td>12</td>\n",
       "      <td>16 17 18</td>\n",
       "      <td>18</td>\n",
       "    </tr>\n",
       "    <tr>\n",
       "      <th>12</th>\n",
       "      <td>13</td>\n",
       "      <td>16 17</td>\n",
       "      <td>18</td>\n",
       "    </tr>\n",
       "    <tr>\n",
       "      <th>13</th>\n",
       "      <td>14</td>\n",
       "      <td>16</td>\n",
       "      <td>17</td>\n",
       "    </tr>\n",
       "    <tr>\n",
       "      <th>14</th>\n",
       "      <td>15</td>\n",
       "      <td>19 19</td>\n",
       "      <td>20</td>\n",
       "    </tr>\n",
       "  </tbody>\n",
       "</table>\n",
       "</div>"
      ],
      "text/plain": [
       "    session_id:token item_id_list:token_seq  item_id:token\n",
       "0                  1                      1              2\n",
       "1                  2                    3 4              5\n",
       "2                  3                      3              4\n",
       "3                  4                      6              7\n",
       "4                  5                      8              9\n",
       "5                  6      10 11 12 12 13 14             15\n",
       "6                  7         10 11 12 12 13             14\n",
       "7                  8            10 11 12 12             13\n",
       "8                  9               10 11 12             12\n",
       "9                 10                  10 11             12\n",
       "10                11                     10             11\n",
       "11                12               16 17 18             18\n",
       "12                13                  16 17             18\n",
       "13                14                     16             17\n",
       "14                15                  19 19             20"
      ]
     },
     "execution_count": 37,
     "metadata": {},
     "output_type": "execute_result"
    }
   ],
   "source": [
    "tr_inter_df=pd.read_csv(os.path.join(config.final_config_dict['data_path'],'diginetica-session.train.inter'),delimiter='\\t')\n",
    "tr_inter_df.head(15)\n"
   ]
  },
  {
   "cell_type": "markdown",
   "metadata": {},
   "source": [
    "and this is the structure of the file we need to generate.\n",
    "the idea is to use the pre-processing of `session-rec` which generates the files in the folder `/home/gkoren2/datasets/recsys/seq_recsys_datasets/diginetica/prepared`:\n"
   ]
  },
  {
   "cell_type": "code",
   "execution_count": 30,
   "metadata": {},
   "outputs": [
    {
     "data": {
      "text/plain": [
       "Index(['session_id:token', 'item_id_list:token_seq', 'item_id:token'], dtype='object')"
      ]
     },
     "execution_count": 30,
     "metadata": {},
     "output_type": "execute_result"
    }
   ],
   "source": [
    "tr_inter_df.columns"
   ]
  },
  {
   "cell_type": "code",
   "execution_count": 8,
   "metadata": {},
   "outputs": [
    {
     "data": {
      "text/plain": [
       "['train-item-views_train_tr.txt',\n",
       " 'train-item-views_train_full.txt',\n",
       " 'train-item-views_train_valid.txt',\n",
       " 'train-item-views_test.txt']"
      ]
     },
     "execution_count": 8,
     "metadata": {},
     "output_type": "execute_result"
    }
   ],
   "source": [
    "prep_srec_path = '/home/gkoren2/datasets/recsys/seq_recsys_datasets/diginetica/prepared'\n",
    "os.listdir(prep_srec_path)"
   ]
  },
  {
   "cell_type": "markdown",
   "metadata": {},
   "source": [
    "we want to do the following conversion:\n",
    "- `train-item-views_train_full.txt` --> `diginetica-session.train.inter`\n",
    "- `train-item-views_test.txt` --> `diginetica-session.test.inter`"
   ]
  },
  {
   "cell_type": "markdown",
   "metadata": {},
   "source": [
    "### raw"
   ]
  },
  {
   "cell_type": "code",
   "execution_count": 12,
   "metadata": {},
   "outputs": [
    {
     "data": {
      "text/plain": [
       "Arguments(model='GRU4Rec', dataset='diginetica', validation='False', valid_portion=0.1)"
      ]
     },
     "execution_count": 12,
     "metadata": {},
     "output_type": "execute_result"
    }
   ],
   "source": [
    "digi_args = Arguments(dataset='diginetica')\n",
    "digi_args"
   ]
  },
  {
   "cell_type": "code",
   "execution_count": 13,
   "metadata": {},
   "outputs": [
    {
     "data": {
      "text/plain": [
       "{'gpu_id': 0,\n",
       " 'use_gpu': True,\n",
       " 'seed': 2020,\n",
       " 'state': 'INFO',\n",
       " 'reproducibility': True,\n",
       " 'data_path': '/home/gkoren2/study/git/guyk1971/RecBole/dataset/diginetica',\n",
       " 'checkpoint_dir': 'saved',\n",
       " 'show_progress': True,\n",
       " 'save_dataset': False,\n",
       " 'dataset_save_path': None,\n",
       " 'save_dataloaders': False,\n",
       " 'dataloaders_save_path': None,\n",
       " 'log_wandb': False,\n",
       " 'wandb_project': 'recbole',\n",
       " 'epochs': 300,\n",
       " 'train_batch_size': 2048,\n",
       " 'learner': 'adam',\n",
       " 'learning_rate': 0.001,\n",
       " 'neg_sampling': None,\n",
       " 'eval_step': 1,\n",
       " 'stopping_step': 10,\n",
       " 'clip_grad_norm': None,\n",
       " 'weight_decay': 0.0,\n",
       " 'loss_decimal_place': 4,\n",
       " 'require_pow': False,\n",
       " 'eval_args': {'group_by': 'user',\n",
       "  'order': 'TO',\n",
       "  'split': {'LS': 'test_only'},\n",
       "  'mode': 'uni100'},\n",
       " 'repeatable': True,\n",
       " 'metrics': ['Recall', 'MRR'],\n",
       " 'topk': [20],\n",
       " 'valid_metric': 'MRR@20',\n",
       " 'valid_metric_bigger': True,\n",
       " 'eval_batch_size': 4096,\n",
       " 'metric_decimal_place': 4,\n",
       " 'embedding_size': 64,\n",
       " 'hidden_size': 128,\n",
       " 'num_layers': 1,\n",
       " 'dropout_prob': 0.3,\n",
       " 'loss_type': 'CE',\n",
       " 'field_separator': '\\t',\n",
       " 'seq_separator': ' ',\n",
       " 'USER_ID_FIELD': 'session_id',\n",
       " 'ITEM_ID_FIELD': 'item_id',\n",
       " 'RATING_FIELD': 'rating',\n",
       " 'TIME_FIELD': 'timestamp',\n",
       " 'seq_len': None,\n",
       " 'LABEL_FIELD': 'label',\n",
       " 'threshold': None,\n",
       " 'NEG_PREFIX': 'neg_',\n",
       " 'load_col': None,\n",
       " 'unload_col': None,\n",
       " 'unused_col': None,\n",
       " 'additional_feat_suffix': None,\n",
       " 'rm_dup_inter': None,\n",
       " 'val_interval': None,\n",
       " 'filter_inter_by_user_or_item': True,\n",
       " 'user_inter_num_interval': '[0,inf)',\n",
       " 'item_inter_num_interval': '[0,inf)',\n",
       " 'alias_of_user_id': None,\n",
       " 'alias_of_item_id': None,\n",
       " 'alias_of_entity_id': None,\n",
       " 'alias_of_relation_id': None,\n",
       " 'preload_weight': None,\n",
       " 'normalize_field': None,\n",
       " 'normalize_all': None,\n",
       " 'ITEM_LIST_LENGTH_FIELD': 'item_length',\n",
       " 'LIST_SUFFIX': '_list',\n",
       " 'MAX_ITEM_LIST_LENGTH': 50,\n",
       " 'POSITION_FIELD': 'position_id',\n",
       " 'HEAD_ENTITY_ID_FIELD': 'head_id',\n",
       " 'TAIL_ENTITY_ID_FIELD': 'tail_id',\n",
       " 'RELATION_ID_FIELD': 'relation_id',\n",
       " 'ENTITY_ID_FIELD': 'entity_id',\n",
       " 'benchmark_filename': None,\n",
       " 'MODEL_TYPE': <ModelType.SEQUENTIAL: 2>,\n",
       " 'dataset': 'diginetica',\n",
       " 'model': 'GRU4Rec',\n",
       " 'MODEL_INPUT_TYPE': <InputType.POINTWISE: 1>,\n",
       " 'eval_type': <EvaluatorType.RANKING: 1>,\n",
       " 'device': device(type='cuda'),\n",
       " 'train_neg_sample_args': {'strategy': 'none'},\n",
       " 'eval_neg_sample_args': {'strategy': 'by',\n",
       "  'by': 100,\n",
       "  'distribution': 'uniform'}}"
      ]
     },
     "execution_count": 13,
     "metadata": {},
     "output_type": "execute_result"
    }
   ],
   "source": [
    "digi_config_dict= {\n",
    "        'USER_ID_FIELD': 'session_id',\n",
    "        'load_col': None,       # load all columns. dont filter anything\n",
    "        'neg_sampling': None,\n",
    "        # 'benchmark_filename': ['train', 'test'],\n",
    "        # 'alias_of_item_id': ['item_id_list'],\n",
    "        'eval_args':{\n",
    "            'group_by': 'user',\n",
    "            'order': 'TO',\n",
    "            'split':{'LS': 'test_only'},\n",
    "            'mode': 'uni100'},\n",
    "        'topk': [20],\n",
    "        'metrics': ['Recall', 'MRR'],\n",
    "        'valid_metric': 'MRR@20'\n",
    "    }\n",
    "digi_config = Config(model=digi_args.model, dataset=f'{digi_args.dataset}', config_dict=digi_config_dict)\n",
    "digi_config.final_config_dict['data_path'] = os.path.join(os.path.dirname(os.getcwd()),digi_config.final_config_dict['data_path'])\n",
    "digi_config.final_config_dict"
   ]
  },
  {
   "cell_type": "code",
   "execution_count": 21,
   "metadata": {},
   "outputs": [
    {
     "data": {
      "text/plain": [
       "\u001b[1;35mdiginetica\u001b[0m\n",
       "\u001b[1;34mThe number of users\u001b[0m: 204790\n",
       "\u001b[1;34mAverage actions of users\u001b[0m: 4.078212208663551\n",
       "\u001b[1;34mThe number of items\u001b[0m: 184048\n",
       "\u001b[1;34mAverage actions of items\u001b[0m: 19.3613918768546\n",
       "\u001b[1;34mThe number of inters\u001b[0m: 835173\n",
       "\u001b[1;34mThe sparsity of the dataset\u001b[0m: 99.99778416918709%\n",
       "\u001b[1;34mRemain Fields\u001b[0m: ['session_id', 'item_id', 'timestamp', 'number of times', 'item_priceLog2', 'item_name', 'item_category']"
      ]
     },
     "execution_count": 21,
     "metadata": {},
     "output_type": "execute_result"
    }
   ],
   "source": [
    "digi_recbole_raw = create_dataset(digi_config)\n",
    "digi_recbole_raw"
   ]
  },
  {
   "cell_type": "code",
   "execution_count": 22,
   "metadata": {},
   "outputs": [
    {
     "data": {
      "text/html": [
       "<div>\n",
       "<style scoped>\n",
       "    .dataframe tbody tr th:only-of-type {\n",
       "        vertical-align: middle;\n",
       "    }\n",
       "\n",
       "    .dataframe tbody tr th {\n",
       "        vertical-align: top;\n",
       "    }\n",
       "\n",
       "    .dataframe thead th {\n",
       "        text-align: right;\n",
       "    }\n",
       "</style>\n",
       "<table border=\"1\" class=\"dataframe\">\n",
       "  <thead>\n",
       "    <tr style=\"text-align: right;\">\n",
       "      <th></th>\n",
       "      <th>session_id</th>\n",
       "      <th>item_id</th>\n",
       "      <th>timestamp</th>\n",
       "      <th>number of times</th>\n",
       "    </tr>\n",
       "  </thead>\n",
       "  <tbody>\n",
       "    <tr>\n",
       "      <th>0</th>\n",
       "      <td>1</td>\n",
       "      <td>1</td>\n",
       "      <td>1.463053e+09</td>\n",
       "      <td>1.0</td>\n",
       "    </tr>\n",
       "    <tr>\n",
       "      <th>1</th>\n",
       "      <td>1</td>\n",
       "      <td>2</td>\n",
       "      <td>1.463754e+09</td>\n",
       "      <td>1.0</td>\n",
       "    </tr>\n",
       "    <tr>\n",
       "      <th>2</th>\n",
       "      <td>1</td>\n",
       "      <td>3</td>\n",
       "      <td>1.462967e+09</td>\n",
       "      <td>1.0</td>\n",
       "    </tr>\n",
       "    <tr>\n",
       "      <th>3</th>\n",
       "      <td>1</td>\n",
       "      <td>4</td>\n",
       "      <td>1.463836e+09</td>\n",
       "      <td>1.0</td>\n",
       "    </tr>\n",
       "    <tr>\n",
       "      <th>4</th>\n",
       "      <td>1</td>\n",
       "      <td>5</td>\n",
       "      <td>1.462897e+09</td>\n",
       "      <td>1.0</td>\n",
       "    </tr>\n",
       "  </tbody>\n",
       "</table>\n",
       "</div>"
      ],
      "text/plain": [
       "   session_id  item_id     timestamp  number of times\n",
       "0           1        1  1.463053e+09              1.0\n",
       "1           1        2  1.463754e+09              1.0\n",
       "2           1        3  1.462967e+09              1.0\n",
       "3           1        4  1.463836e+09              1.0\n",
       "4           1        5  1.462897e+09              1.0"
      ]
     },
     "execution_count": 22,
     "metadata": {},
     "output_type": "execute_result"
    }
   ],
   "source": [
    "digi_recbole_raw_inter_df = digi_recbole_raw.inter_feat\n",
    "digi_recbole_raw_inter_df.head()"
   ]
  },
  {
   "cell_type": "code",
   "execution_count": 24,
   "metadata": {},
   "outputs": [
    {
     "data": {
      "text/plain": [
       "22.0"
      ]
     },
     "execution_count": 24,
     "metadata": {},
     "output_type": "execute_result"
    }
   ],
   "source": [
    "digi_recbole_raw_inter_df['number of times'].max()"
   ]
  },
  {
   "cell_type": "code",
   "execution_count": 25,
   "metadata": {},
   "outputs": [
    {
     "data": {
      "text/plain": [
       "57593     69\n",
       "77365     56\n",
       "47079     52\n",
       "83362     50\n",
       "56535     48\n",
       "          ..\n",
       "185080     1\n",
       "97240      1\n",
       "113837     1\n",
       "143933     1\n",
       "184059     1\n",
       "Name: session_id, Length: 204789, dtype: int64"
      ]
     },
     "execution_count": 25,
     "metadata": {},
     "output_type": "execute_result"
    }
   ],
   "source": [
    "digi_recbole_raw_inter_df.session_id.value_counts()"
   ]
  },
  {
   "cell_type": "code",
   "execution_count": 18,
   "metadata": {},
   "outputs": [
    {
     "data": {
      "text/plain": [
       "780328"
      ]
     },
     "execution_count": 18,
     "metadata": {},
     "output_type": "execute_result"
    }
   ],
   "source": [
    "len(digi_recbole_sess_inter_df)"
   ]
  },
  {
   "cell_type": "markdown",
   "metadata": {},
   "source": [
    "## session-rec"
   ]
  },
  {
   "cell_type": "code",
   "execution_count": 27,
   "metadata": {},
   "outputs": [
    {
     "data": {
      "text/plain": [
       "['train-item-views.csv']"
      ]
     },
     "execution_count": 27,
     "metadata": {},
     "output_type": "execute_result"
    }
   ],
   "source": [
    "dataset_path = '/home/gkoren2/datasets/recsys/seq_recsys_datasets/'\n",
    "datapath_raw = os.path.join(dataset_path,'diginetica','raw')\n",
    "os.listdir(datapath_raw)"
   ]
  },
  {
   "cell_type": "code",
   "execution_count": 30,
   "metadata": {},
   "outputs": [
    {
     "data": {
      "text/html": [
       "<div>\n",
       "<style scoped>\n",
       "    .dataframe tbody tr th:only-of-type {\n",
       "        vertical-align: middle;\n",
       "    }\n",
       "\n",
       "    .dataframe tbody tr th {\n",
       "        vertical-align: top;\n",
       "    }\n",
       "\n",
       "    .dataframe thead th {\n",
       "        text-align: right;\n",
       "    }\n",
       "</style>\n",
       "<table border=\"1\" class=\"dataframe\">\n",
       "  <thead>\n",
       "    <tr style=\"text-align: right;\">\n",
       "      <th></th>\n",
       "      <th>sessionId</th>\n",
       "      <th>userId</th>\n",
       "      <th>itemId</th>\n",
       "      <th>timeframe</th>\n",
       "      <th>eventdate</th>\n",
       "    </tr>\n",
       "  </thead>\n",
       "  <tbody>\n",
       "    <tr>\n",
       "      <th>0</th>\n",
       "      <td>1</td>\n",
       "      <td>NaN</td>\n",
       "      <td>81766</td>\n",
       "      <td>526309</td>\n",
       "      <td>2016-05-09</td>\n",
       "    </tr>\n",
       "    <tr>\n",
       "      <th>1</th>\n",
       "      <td>1</td>\n",
       "      <td>NaN</td>\n",
       "      <td>31331</td>\n",
       "      <td>1031018</td>\n",
       "      <td>2016-05-09</td>\n",
       "    </tr>\n",
       "    <tr>\n",
       "      <th>2</th>\n",
       "      <td>1</td>\n",
       "      <td>NaN</td>\n",
       "      <td>32118</td>\n",
       "      <td>243569</td>\n",
       "      <td>2016-05-09</td>\n",
       "    </tr>\n",
       "    <tr>\n",
       "      <th>3</th>\n",
       "      <td>1</td>\n",
       "      <td>NaN</td>\n",
       "      <td>9654</td>\n",
       "      <td>75848</td>\n",
       "      <td>2016-05-09</td>\n",
       "    </tr>\n",
       "    <tr>\n",
       "      <th>4</th>\n",
       "      <td>1</td>\n",
       "      <td>NaN</td>\n",
       "      <td>32627</td>\n",
       "      <td>1112408</td>\n",
       "      <td>2016-05-09</td>\n",
       "    </tr>\n",
       "  </tbody>\n",
       "</table>\n",
       "</div>"
      ],
      "text/plain": [
       "   sessionId  userId  itemId  timeframe   eventdate\n",
       "0          1     NaN   81766     526309  2016-05-09\n",
       "1          1     NaN   31331    1031018  2016-05-09\n",
       "2          1     NaN   32118     243569  2016-05-09\n",
       "3          1     NaN    9654      75848  2016-05-09\n",
       "4          1     NaN   32627    1112408  2016-05-09"
      ]
     },
     "execution_count": 30,
     "metadata": {},
     "output_type": "execute_result"
    }
   ],
   "source": [
    "digi_srec_raw = pd.read_csv(os.path.join(datapath_raw,'train-item-views.csv'),delimiter=';')\n",
    "digi_srec_raw.head()"
   ]
  },
  {
   "cell_type": "code",
   "execution_count": 31,
   "metadata": {},
   "outputs": [
    {
     "data": {
      "text/plain": [
       "1235380"
      ]
     },
     "execution_count": 31,
     "metadata": {},
     "output_type": "execute_result"
    }
   ],
   "source": [
    "len(digi_srec_raw)"
   ]
  },
  {
   "cell_type": "code",
   "execution_count": 32,
   "metadata": {},
   "outputs": [
    {
     "data": {
      "text/plain": [
       "480263    87\n",
       "129618    81\n",
       "583862    78\n",
       "123155    73\n",
       "120823    72\n",
       "          ..\n",
       "349305     1\n",
       "67155      1\n",
       "349294     1\n",
       "67164      1\n",
       "600687     1\n",
       "Name: sessionId, Length: 310324, dtype: int64"
      ]
     },
     "execution_count": 32,
     "metadata": {},
     "output_type": "execute_result"
    }
   ],
   "source": [
    "digi_srec_raw.sessionId.value_counts()"
   ]
  },
  {
   "cell_type": "code",
   "execution_count": 33,
   "metadata": {},
   "outputs": [
    {
     "data": {
      "text/plain": [
       "122993"
      ]
     },
     "execution_count": 33,
     "metadata": {},
     "output_type": "execute_result"
    }
   ],
   "source": [
    "len(digi_srec_raw.itemId.unique())"
   ]
  },
  {
   "cell_type": "markdown",
   "metadata": {},
   "source": [
    "### preprocessing with `run_preprocessing.py`\n",
    "using 2 configurations:"
   ]
  },
  {
   "cell_type": "markdown",
   "metadata": {},
   "source": [
    "/home/gkoren2/study/git/guyk1971/session-rec/conf/myconf/prep_digi_sb_s.yml\n",
    "```yml\n",
    "type: single # single|window\n",
    "mode: session_based # session_based | session_aware\n",
    "preprocessor: diginetica # dataset (folder) name\n",
    "data:\n",
    "  folder: /home/gkoren2/datasets/recsys/seq_recsys_datasets/diginetica/raw/\n",
    "  prefix: train-item-views\n",
    "\n",
    "filter:\n",
    "  min_item_support: 5\n",
    "  min_session_length: 2\n",
    "\n",
    "params:\n",
    "  days_test: 7\n",
    "\n",
    "output:\n",
    "  folder: /home/gkoren2/datasets/recsys/seq_recsys_datasets/diginetica/prepared/\n",
    "```"
   ]
  },
  {
   "cell_type": "markdown",
   "metadata": {},
   "source": [
    "/home/gkoren2/study/git/guyk1971/session-rec/conf/myconf/prep_digi_sb_w.yml\n",
    "```yml\n",
    "type: window # single|window\n",
    "mode: session_based # session_based | session_aware\n",
    "preprocessor: diginetica #\n",
    "data:\n",
    "  folder: /home/gkoren2/datasets/recsys/seq_recsys_datasets/diginetica/raw/\n",
    "  prefix: train-item-views\n",
    "\n",
    "filter:\n",
    "  min_item_support: 5\n",
    "  min_session_length: 2\n",
    "\n",
    "params:\n",
    "  days_test: 7\n",
    "  days_train: 25 #only window\n",
    "  num_slices: 5 #only window\n",
    "  days_offset: 45 #only window\n",
    "  days_shift: 18 #only window\n",
    "\n",
    "output:\n",
    "  folder: /home/gkoren2/datasets/recsys/seq_recsys_datasets/diginetica/slices/\n",
    "```"
   ]
  },
  {
   "cell_type": "markdown",
   "metadata": {},
   "source": [
    "so now we have txt files that we can read and convert to atomic files."
   ]
  },
  {
   "cell_type": "code",
   "execution_count": 36,
   "metadata": {},
   "outputs": [
    {
     "name": "stdout",
     "output_type": "stream",
     "text": [
      "/home/gkoren2/datasets/recsys/seq_recsys_datasets/diginetica\n",
      "├── prepared\n",
      "│   ├── train-item-views_test.txt\n",
      "│   ├── train-item-views_train_full.txt\n",
      "│   ├── train-item-views_train_tr.txt\n",
      "│   └── train-item-views_train_valid.txt\n",
      "├── raw\n",
      "│   └── train-item-views.csv\n",
      "└── slices\n",
      "    ├── train-item-views_test.0.txt\n",
      "    ├── train-item-views_test.1.txt\n",
      "    ├── train-item-views_test.2.txt\n",
      "    ├── train-item-views_test.3.txt\n",
      "    ├── train-item-views_test.4.txt\n",
      "    ├── train-item-views_train_full.0.txt\n",
      "    ├── train-item-views_train_full.1.txt\n",
      "    ├── train-item-views_train_full.2.txt\n",
      "    ├── train-item-views_train_full.3.txt\n",
      "    └── train-item-views_train_full.4.txt\n",
      "\n",
      "3 directories, 15 files\n"
     ]
    }
   ],
   "source": [
    "!tree /home/gkoren2/datasets/recsys/seq_recsys_datasets/diginetica"
   ]
  },
  {
   "cell_type": "markdown",
   "metadata": {},
   "source": [
    "how do I read it to dataframe ?"
   ]
  },
  {
   "cell_type": "markdown",
   "metadata": {},
   "source": [
    "## Converting from session-rec prepared to RecBole .inter \n",
    "we can see above the structure of the `.inter` file. this is our target.   \n",
    "these are our 'input' files:\n"
   ]
  },
  {
   "cell_type": "code",
   "execution_count": 8,
   "metadata": {},
   "outputs": [
    {
     "data": {
      "text/plain": [
       "['train-item-views_train_tr.txt',\n",
       " 'train-item-views_train_full.txt',\n",
       " 'train-item-views_train_valid.txt',\n",
       " 'train-item-views_test.txt']"
      ]
     },
     "execution_count": 8,
     "metadata": {},
     "output_type": "execute_result"
    }
   ],
   "source": [
    "from tqdm.notebook import tqdm\n",
    "prep_srec_path = '/home/gkoren2/datasets/recsys/seq_recsys_datasets/diginetica/prepared'\n",
    "os.listdir(prep_srec_path)"
   ]
  },
  {
   "cell_type": "markdown",
   "metadata": {},
   "source": [
    "we want to do the following conversion:\n",
    "- `train-item-views_train_full.txt` --> `diginetica-session.train.inter`\n",
    "- `train-item-views_test.txt` --> `diginetica-session.test.inter`"
   ]
  },
  {
   "cell_type": "markdown",
   "metadata": {},
   "source": [
    "#### Draft Sandbox"
   ]
  },
  {
   "cell_type": "code",
   "execution_count": 11,
   "metadata": {},
   "outputs": [
    {
     "data": {
      "text/html": [
       "<div>\n",
       "<style scoped>\n",
       "    .dataframe tbody tr th:only-of-type {\n",
       "        vertical-align: middle;\n",
       "    }\n",
       "\n",
       "    .dataframe tbody tr th {\n",
       "        vertical-align: top;\n",
       "    }\n",
       "\n",
       "    .dataframe thead th {\n",
       "        text-align: right;\n",
       "    }\n",
       "</style>\n",
       "<table border=\"1\" class=\"dataframe\">\n",
       "  <thead>\n",
       "    <tr style=\"text-align: right;\">\n",
       "      <th></th>\n",
       "      <th>SessionId</th>\n",
       "      <th>Time</th>\n",
       "      <th>ItemId</th>\n",
       "      <th>Date</th>\n",
       "      <th>Datestamp</th>\n",
       "      <th>TimeO</th>\n",
       "      <th>ItemSupport</th>\n",
       "    </tr>\n",
       "  </thead>\n",
       "  <tbody>\n",
       "    <tr>\n",
       "      <th>0</th>\n",
       "      <td>1</td>\n",
       "      <td>1.462752e+09</td>\n",
       "      <td>9654</td>\n",
       "      <td>2016-05-09</td>\n",
       "      <td>1.462752e+09</td>\n",
       "      <td>2016-05-09 00:01:15.848000+00:00</td>\n",
       "      <td>399</td>\n",
       "    </tr>\n",
       "    <tr>\n",
       "      <th>1</th>\n",
       "      <td>1</td>\n",
       "      <td>1.462752e+09</td>\n",
       "      <td>33043</td>\n",
       "      <td>2016-05-09</td>\n",
       "      <td>1.462752e+09</td>\n",
       "      <td>2016-05-09 00:02:53.912000+00:00</td>\n",
       "      <td>195</td>\n",
       "    </tr>\n",
       "    <tr>\n",
       "      <th>2</th>\n",
       "      <td>1</td>\n",
       "      <td>1.462752e+09</td>\n",
       "      <td>32118</td>\n",
       "      <td>2016-05-09</td>\n",
       "      <td>1.462752e+09</td>\n",
       "      <td>2016-05-09 00:04:03.569000+00:00</td>\n",
       "      <td>67</td>\n",
       "    </tr>\n",
       "    <tr>\n",
       "      <th>3</th>\n",
       "      <td>1</td>\n",
       "      <td>1.462752e+09</td>\n",
       "      <td>12352</td>\n",
       "      <td>2016-05-09</td>\n",
       "      <td>1.462752e+09</td>\n",
       "      <td>2016-05-09 00:05:29.870000+00:00</td>\n",
       "      <td>327</td>\n",
       "    </tr>\n",
       "    <tr>\n",
       "      <th>4</th>\n",
       "      <td>1</td>\n",
       "      <td>1.462752e+09</td>\n",
       "      <td>35077</td>\n",
       "      <td>2016-05-09</td>\n",
       "      <td>1.462752e+09</td>\n",
       "      <td>2016-05-09 00:06:30.072000+00:00</td>\n",
       "      <td>102</td>\n",
       "    </tr>\n",
       "    <tr>\n",
       "      <th>5</th>\n",
       "      <td>1</td>\n",
       "      <td>1.462752e+09</td>\n",
       "      <td>36118</td>\n",
       "      <td>2016-05-09</td>\n",
       "      <td>1.462752e+09</td>\n",
       "      <td>2016-05-09 00:08:07.369000+00:00</td>\n",
       "      <td>130</td>\n",
       "    </tr>\n",
       "    <tr>\n",
       "      <th>6</th>\n",
       "      <td>1</td>\n",
       "      <td>1.462753e+09</td>\n",
       "      <td>81766</td>\n",
       "      <td>2016-05-09</td>\n",
       "      <td>1.462752e+09</td>\n",
       "      <td>2016-05-09 00:08:46.309000+00:00</td>\n",
       "      <td>61</td>\n",
       "    </tr>\n",
       "    <tr>\n",
       "      <th>7</th>\n",
       "      <td>1</td>\n",
       "      <td>1.462753e+09</td>\n",
       "      <td>31331</td>\n",
       "      <td>2016-05-09</td>\n",
       "      <td>1.462752e+09</td>\n",
       "      <td>2016-05-09 00:17:11.018000+00:00</td>\n",
       "      <td>55</td>\n",
       "    </tr>\n",
       "    <tr>\n",
       "      <th>8</th>\n",
       "      <td>1</td>\n",
       "      <td>1.462753e+09</td>\n",
       "      <td>32627</td>\n",
       "      <td>2016-05-09</td>\n",
       "      <td>1.462752e+09</td>\n",
       "      <td>2016-05-09 00:18:32.408000+00:00</td>\n",
       "      <td>29</td>\n",
       "    </tr>\n",
       "    <tr>\n",
       "      <th>9</th>\n",
       "      <td>2</td>\n",
       "      <td>1.462752e+09</td>\n",
       "      <td>100747</td>\n",
       "      <td>2016-05-09</td>\n",
       "      <td>1.462752e+09</td>\n",
       "      <td>2016-05-09 00:00:38.317000+00:00</td>\n",
       "      <td>147</td>\n",
       "    </tr>\n",
       "  </tbody>\n",
       "</table>\n",
       "</div>"
      ],
      "text/plain": [
       "   SessionId          Time  ItemId        Date     Datestamp  \\\n",
       "0          1  1.462752e+09    9654  2016-05-09  1.462752e+09   \n",
       "1          1  1.462752e+09   33043  2016-05-09  1.462752e+09   \n",
       "2          1  1.462752e+09   32118  2016-05-09  1.462752e+09   \n",
       "3          1  1.462752e+09   12352  2016-05-09  1.462752e+09   \n",
       "4          1  1.462752e+09   35077  2016-05-09  1.462752e+09   \n",
       "5          1  1.462752e+09   36118  2016-05-09  1.462752e+09   \n",
       "6          1  1.462753e+09   81766  2016-05-09  1.462752e+09   \n",
       "7          1  1.462753e+09   31331  2016-05-09  1.462752e+09   \n",
       "8          1  1.462753e+09   32627  2016-05-09  1.462752e+09   \n",
       "9          2  1.462752e+09  100747  2016-05-09  1.462752e+09   \n",
       "\n",
       "                              TimeO  ItemSupport  \n",
       "0  2016-05-09 00:01:15.848000+00:00          399  \n",
       "1  2016-05-09 00:02:53.912000+00:00          195  \n",
       "2  2016-05-09 00:04:03.569000+00:00           67  \n",
       "3  2016-05-09 00:05:29.870000+00:00          327  \n",
       "4  2016-05-09 00:06:30.072000+00:00          102  \n",
       "5  2016-05-09 00:08:07.369000+00:00          130  \n",
       "6  2016-05-09 00:08:46.309000+00:00           61  \n",
       "7  2016-05-09 00:17:11.018000+00:00           55  \n",
       "8  2016-05-09 00:18:32.408000+00:00           29  \n",
       "9  2016-05-09 00:00:38.317000+00:00          147  "
      ]
     },
     "execution_count": 11,
     "metadata": {},
     "output_type": "execute_result"
    }
   ],
   "source": [
    "src_file='train-item-views_train_full'\n",
    "\n",
    "train_df = pd.read_csv(os.path.join(prep_srec_path,src_file+'.txt'), sep='\\t')\n",
    "train_df.head(10)"
   ]
  },
  {
   "cell_type": "code",
   "execution_count": 9,
   "metadata": {},
   "outputs": [
    {
     "data": {
      "text/html": [
       "<div>\n",
       "<style scoped>\n",
       "    .dataframe tbody tr th:only-of-type {\n",
       "        vertical-align: middle;\n",
       "    }\n",
       "\n",
       "    .dataframe tbody tr th {\n",
       "        vertical-align: top;\n",
       "    }\n",
       "\n",
       "    .dataframe thead th {\n",
       "        text-align: right;\n",
       "    }\n",
       "</style>\n",
       "<table border=\"1\" class=\"dataframe\">\n",
       "  <thead>\n",
       "    <tr style=\"text-align: right;\">\n",
       "      <th></th>\n",
       "      <th>SessionId</th>\n",
       "      <th>Time</th>\n",
       "      <th>ItemId</th>\n",
       "      <th>Date</th>\n",
       "      <th>Datestamp</th>\n",
       "      <th>TimeO</th>\n",
       "      <th>ItemSupport</th>\n",
       "    </tr>\n",
       "  </thead>\n",
       "  <tbody>\n",
       "    <tr>\n",
       "      <th>0</th>\n",
       "      <td>289</td>\n",
       "      <td>1.464221e+09</td>\n",
       "      <td>125013</td>\n",
       "      <td>2016-05-26</td>\n",
       "      <td>1.464221e+09</td>\n",
       "      <td>2016-05-26 00:00:18.301000+00:00</td>\n",
       "      <td>10</td>\n",
       "    </tr>\n",
       "    <tr>\n",
       "      <th>1</th>\n",
       "      <td>289</td>\n",
       "      <td>1.464222e+09</td>\n",
       "      <td>64068</td>\n",
       "      <td>2016-05-26</td>\n",
       "      <td>1.464221e+09</td>\n",
       "      <td>2016-05-26 00:14:07.735000+00:00</td>\n",
       "      <td>30</td>\n",
       "    </tr>\n",
       "    <tr>\n",
       "      <th>2</th>\n",
       "      <td>289</td>\n",
       "      <td>1.464222e+09</td>\n",
       "      <td>133346</td>\n",
       "      <td>2016-05-26</td>\n",
       "      <td>1.464221e+09</td>\n",
       "      <td>2016-05-26 00:14:38.934000+00:00</td>\n",
       "      <td>36</td>\n",
       "    </tr>\n",
       "    <tr>\n",
       "      <th>3</th>\n",
       "      <td>289</td>\n",
       "      <td>1.464222e+09</td>\n",
       "      <td>438457</td>\n",
       "      <td>2016-05-26</td>\n",
       "      <td>1.464221e+09</td>\n",
       "      <td>2016-05-26 00:18:34.305000+00:00</td>\n",
       "      <td>6</td>\n",
       "    </tr>\n",
       "    <tr>\n",
       "      <th>4</th>\n",
       "      <td>289</td>\n",
       "      <td>1.464222e+09</td>\n",
       "      <td>198930</td>\n",
       "      <td>2016-05-26</td>\n",
       "      <td>1.464221e+09</td>\n",
       "      <td>2016-05-26 00:18:48.607000+00:00</td>\n",
       "      <td>10</td>\n",
       "    </tr>\n",
       "    <tr>\n",
       "      <th>5</th>\n",
       "      <td>289</td>\n",
       "      <td>1.464222e+09</td>\n",
       "      <td>438457</td>\n",
       "      <td>2016-05-26</td>\n",
       "      <td>1.464221e+09</td>\n",
       "      <td>2016-05-26 00:19:13.391000+00:00</td>\n",
       "      <td>6</td>\n",
       "    </tr>\n",
       "    <tr>\n",
       "      <th>6</th>\n",
       "      <td>290</td>\n",
       "      <td>1.464221e+09</td>\n",
       "      <td>169589</td>\n",
       "      <td>2016-05-26</td>\n",
       "      <td>1.464221e+09</td>\n",
       "      <td>2016-05-26 00:00:11.947000+00:00</td>\n",
       "      <td>50</td>\n",
       "    </tr>\n",
       "    <tr>\n",
       "      <th>7</th>\n",
       "      <td>290</td>\n",
       "      <td>1.464221e+09</td>\n",
       "      <td>354859</td>\n",
       "      <td>2016-05-26</td>\n",
       "      <td>1.464221e+09</td>\n",
       "      <td>2016-05-26 00:05:12.051000+00:00</td>\n",
       "      <td>7</td>\n",
       "    </tr>\n",
       "    <tr>\n",
       "      <th>8</th>\n",
       "      <td>302</td>\n",
       "      <td>1.464221e+09</td>\n",
       "      <td>36202</td>\n",
       "      <td>2016-05-26</td>\n",
       "      <td>1.464221e+09</td>\n",
       "      <td>2016-05-26 00:00:45.583000+00:00</td>\n",
       "      <td>82</td>\n",
       "    </tr>\n",
       "    <tr>\n",
       "      <th>9</th>\n",
       "      <td>302</td>\n",
       "      <td>1.464221e+09</td>\n",
       "      <td>79520</td>\n",
       "      <td>2016-05-26</td>\n",
       "      <td>1.464221e+09</td>\n",
       "      <td>2016-05-26 00:02:50.221000+00:00</td>\n",
       "      <td>197</td>\n",
       "    </tr>\n",
       "  </tbody>\n",
       "</table>\n",
       "</div>"
      ],
      "text/plain": [
       "   SessionId          Time  ItemId        Date     Datestamp  \\\n",
       "0        289  1.464221e+09  125013  2016-05-26  1.464221e+09   \n",
       "1        289  1.464222e+09   64068  2016-05-26  1.464221e+09   \n",
       "2        289  1.464222e+09  133346  2016-05-26  1.464221e+09   \n",
       "3        289  1.464222e+09  438457  2016-05-26  1.464221e+09   \n",
       "4        289  1.464222e+09  198930  2016-05-26  1.464221e+09   \n",
       "5        289  1.464222e+09  438457  2016-05-26  1.464221e+09   \n",
       "6        290  1.464221e+09  169589  2016-05-26  1.464221e+09   \n",
       "7        290  1.464221e+09  354859  2016-05-26  1.464221e+09   \n",
       "8        302  1.464221e+09   36202  2016-05-26  1.464221e+09   \n",
       "9        302  1.464221e+09   79520  2016-05-26  1.464221e+09   \n",
       "\n",
       "                              TimeO  ItemSupport  \n",
       "0  2016-05-26 00:00:18.301000+00:00           10  \n",
       "1  2016-05-26 00:14:07.735000+00:00           30  \n",
       "2  2016-05-26 00:14:38.934000+00:00           36  \n",
       "3  2016-05-26 00:18:34.305000+00:00            6  \n",
       "4  2016-05-26 00:18:48.607000+00:00           10  \n",
       "5  2016-05-26 00:19:13.391000+00:00            6  \n",
       "6  2016-05-26 00:00:11.947000+00:00           50  \n",
       "7  2016-05-26 00:05:12.051000+00:00            7  \n",
       "8  2016-05-26 00:00:45.583000+00:00           82  \n",
       "9  2016-05-26 00:02:50.221000+00:00          197  "
      ]
     },
     "execution_count": 9,
     "metadata": {},
     "output_type": "execute_result"
    }
   ],
   "source": [
    "src_file='train-item-views_test'\n",
    "\n",
    "tst_df = pd.read_csv(os.path.join(prep_srec_path,src_file+'.txt'), sep='\\t')\n",
    "tst_df.head(10)"
   ]
  },
  {
   "cell_type": "code",
   "execution_count": 12,
   "metadata": {},
   "outputs": [
    {
     "name": "stdout",
     "output_type": "stream",
     "text": [
      "43105\n"
     ]
    },
    {
     "data": {
      "text/plain": [
       "707327"
      ]
     },
     "execution_count": 12,
     "metadata": {},
     "output_type": "execute_result"
    }
   ],
   "source": [
    "# note that the itemIDs are not sequential. we need to make them such\n",
    "print(len(train_df.ItemId.value_counts()))\n",
    "train_df.ItemId.max()"
   ]
  },
  {
   "cell_type": "code",
   "execution_count": 13,
   "metadata": {},
   "outputs": [
    {
     "name": "stdout",
     "output_type": "stream",
     "text": [
      "21139\n"
     ]
    },
    {
     "data": {
      "text/plain": [
       "707327"
      ]
     },
     "execution_count": 13,
     "metadata": {},
     "output_type": "execute_result"
    }
   ],
   "source": [
    "print(len(tst_df.ItemId.value_counts()))\n",
    "tst_df.ItemId.max()"
   ]
  },
  {
   "cell_type": "code",
   "execution_count": 14,
   "metadata": {},
   "outputs": [
    {
     "data": {
      "text/plain": [
       "SessionId        int64\n",
       "Time           float64\n",
       "ItemId           int64\n",
       "Date            object\n",
       "Datestamp      float64\n",
       "TimeO           object\n",
       "ItemSupport      int64\n",
       "dtype: object"
      ]
     },
     "execution_count": 14,
     "metadata": {},
     "output_type": "execute_result"
    }
   ],
   "source": [
    "train_df.dtypes"
   ]
  },
  {
   "cell_type": "code",
   "execution_count": 14,
   "metadata": {},
   "outputs": [
    {
     "data": {
      "text/html": [
       "<div>\n",
       "<style scoped>\n",
       "    .dataframe tbody tr th:only-of-type {\n",
       "        vertical-align: middle;\n",
       "    }\n",
       "\n",
       "    .dataframe tbody tr th {\n",
       "        vertical-align: top;\n",
       "    }\n",
       "\n",
       "    .dataframe thead th {\n",
       "        text-align: right;\n",
       "    }\n",
       "</style>\n",
       "<table border=\"1\" class=\"dataframe\">\n",
       "  <thead>\n",
       "    <tr style=\"text-align: right;\">\n",
       "      <th></th>\n",
       "      <th>SessionId</th>\n",
       "      <th>ItemId</th>\n",
       "    </tr>\n",
       "  </thead>\n",
       "  <tbody>\n",
       "    <tr>\n",
       "      <th>0</th>\n",
       "      <td>1</td>\n",
       "      <td>9654</td>\n",
       "    </tr>\n",
       "    <tr>\n",
       "      <th>1</th>\n",
       "      <td>1</td>\n",
       "      <td>33043</td>\n",
       "    </tr>\n",
       "    <tr>\n",
       "      <th>2</th>\n",
       "      <td>1</td>\n",
       "      <td>32118</td>\n",
       "    </tr>\n",
       "    <tr>\n",
       "      <th>3</th>\n",
       "      <td>1</td>\n",
       "      <td>12352</td>\n",
       "    </tr>\n",
       "    <tr>\n",
       "      <th>4</th>\n",
       "      <td>1</td>\n",
       "      <td>35077</td>\n",
       "    </tr>\n",
       "  </tbody>\n",
       "</table>\n",
       "</div>"
      ],
      "text/plain": [
       "   SessionId  ItemId\n",
       "0          1    9654\n",
       "1          1   33043\n",
       "2          1   32118\n",
       "3          1   12352\n",
       "4          1   35077"
      ]
     },
     "execution_count": 14,
     "metadata": {},
     "output_type": "execute_result"
    }
   ],
   "source": [
    "src_col = ['SessionId', 'ItemId']\n",
    "trdf=train_df[src_col]\n",
    "tsdf=tst_df[src_col]\n",
    "trdf.head()"
   ]
  },
  {
   "cell_type": "code",
   "execution_count": 16,
   "metadata": {},
   "outputs": [
    {
     "data": {
      "text/plain": [
       "array([  9654,  33043,  32118, ..., 258318, 416695, 381794])"
      ]
     },
     "execution_count": 16,
     "metadata": {},
     "output_type": "execute_result"
    }
   ],
   "source": [
    "trdf.ItemId.unique()"
   ]
  },
  {
   "cell_type": "code",
   "execution_count": 29,
   "metadata": {},
   "outputs": [
    {
     "data": {
      "text/plain": [
       "43105"
      ]
     },
     "execution_count": 29,
     "metadata": {},
     "output_type": "execute_result"
    }
   ],
   "source": [
    "# set(tsdf.ItemId.unique()) - set(trdf.ItemId.unique())\n",
    "len(set(tsdf.ItemId.unique()).union(set(trdf.ItemId.unique())))\n",
    "# set(trdf.ItemId.unique()).add(set(tsdf.ItemId.unique()))"
   ]
  },
  {
   "cell_type": "code",
   "execution_count": null,
   "metadata": {},
   "outputs": [],
   "source": []
  },
  {
   "cell_type": "code",
   "execution_count": 5,
   "metadata": {},
   "outputs": [
    {
     "data": {
      "text/plain": [
       "43105"
      ]
     },
     "execution_count": 5,
     "metadata": {},
     "output_type": "execute_result"
    }
   ],
   "source": [
    "trg2src_id={k+1:v for k, v in zip(range(len(trdf.ItemId.unique())),trdf.ItemId.unique())}\n",
    "src2trg_id={v:k for k,v in trg2src_id.items()}\n",
    "len(trg2src_id)"
   ]
  },
  {
   "cell_type": "code",
   "execution_count": 6,
   "metadata": {},
   "outputs": [
    {
     "name": "stderr",
     "output_type": "stream",
     "text": [
      "/tmp/ipykernel_44640/3869019373.py:1: SettingWithCopyWarning: \n",
      "A value is trying to be set on a copy of a slice from a DataFrame.\n",
      "Try using .loc[row_indexer,col_indexer] = value instead\n",
      "\n",
      "See the caveats in the documentation: https://pandas.pydata.org/pandas-docs/stable/user_guide/indexing.html#returning-a-view-versus-a-copy\n",
      "  tdf.ItemId=tdf.ItemId.map(src2trg_id)\n"
     ]
    },
    {
     "data": {
      "text/plain": [
       "323      913\n",
       "492      886\n",
       "138      839\n",
       "2785     810\n",
       "899      764\n",
       "        ... \n",
       "42738      1\n",
       "43035      1\n",
       "43034      1\n",
       "41318      1\n",
       "42991      1\n",
       "Name: ItemId, Length: 43105, dtype: int64"
      ]
     },
     "execution_count": 6,
     "metadata": {},
     "output_type": "execute_result"
    }
   ],
   "source": [
    "trdf.ItemId=trdf.ItemId.map(src2trg_id)\n",
    "tsdf.ItemId=tsdf.ItemId.map(src2trg_id)     # assuming no tst items that are absent from training set\n",
    "trdf.ItemId.value_counts()"
   ]
  },
  {
   "cell_type": "code",
   "execution_count": 8,
   "metadata": {},
   "outputs": [
    {
     "data": {
      "text/html": [
       "<div>\n",
       "<style scoped>\n",
       "    .dataframe tbody tr th:only-of-type {\n",
       "        vertical-align: middle;\n",
       "    }\n",
       "\n",
       "    .dataframe tbody tr th {\n",
       "        vertical-align: top;\n",
       "    }\n",
       "\n",
       "    .dataframe thead th {\n",
       "        text-align: right;\n",
       "    }\n",
       "</style>\n",
       "<table border=\"1\" class=\"dataframe\">\n",
       "  <thead>\n",
       "    <tr style=\"text-align: right;\">\n",
       "      <th></th>\n",
       "      <th>SessionId</th>\n",
       "      <th>ItemId</th>\n",
       "    </tr>\n",
       "  </thead>\n",
       "  <tbody>\n",
       "    <tr>\n",
       "      <th>0</th>\n",
       "      <td>1</td>\n",
       "      <td>1</td>\n",
       "    </tr>\n",
       "    <tr>\n",
       "      <th>1</th>\n",
       "      <td>1</td>\n",
       "      <td>2</td>\n",
       "    </tr>\n",
       "    <tr>\n",
       "      <th>2</th>\n",
       "      <td>1</td>\n",
       "      <td>3</td>\n",
       "    </tr>\n",
       "    <tr>\n",
       "      <th>3</th>\n",
       "      <td>1</td>\n",
       "      <td>4</td>\n",
       "    </tr>\n",
       "    <tr>\n",
       "      <th>4</th>\n",
       "      <td>1</td>\n",
       "      <td>5</td>\n",
       "    </tr>\n",
       "    <tr>\n",
       "      <th>5</th>\n",
       "      <td>1</td>\n",
       "      <td>6</td>\n",
       "    </tr>\n",
       "    <tr>\n",
       "      <th>6</th>\n",
       "      <td>1</td>\n",
       "      <td>7</td>\n",
       "    </tr>\n",
       "    <tr>\n",
       "      <th>7</th>\n",
       "      <td>1</td>\n",
       "      <td>8</td>\n",
       "    </tr>\n",
       "    <tr>\n",
       "      <th>8</th>\n",
       "      <td>1</td>\n",
       "      <td>9</td>\n",
       "    </tr>\n",
       "    <tr>\n",
       "      <th>9</th>\n",
       "      <td>2</td>\n",
       "      <td>10</td>\n",
       "    </tr>\n",
       "    <tr>\n",
       "      <th>10</th>\n",
       "      <td>2</td>\n",
       "      <td>11</td>\n",
       "    </tr>\n",
       "    <tr>\n",
       "      <th>11</th>\n",
       "      <td>2</td>\n",
       "      <td>12</td>\n",
       "    </tr>\n",
       "    <tr>\n",
       "      <th>12</th>\n",
       "      <td>2</td>\n",
       "      <td>13</td>\n",
       "    </tr>\n",
       "    <tr>\n",
       "      <th>13</th>\n",
       "      <td>2</td>\n",
       "      <td>14</td>\n",
       "    </tr>\n",
       "    <tr>\n",
       "      <th>14</th>\n",
       "      <td>2</td>\n",
       "      <td>15</td>\n",
       "    </tr>\n",
       "    <tr>\n",
       "      <th>15</th>\n",
       "      <td>2</td>\n",
       "      <td>13</td>\n",
       "    </tr>\n",
       "    <tr>\n",
       "      <th>16</th>\n",
       "      <td>2</td>\n",
       "      <td>11</td>\n",
       "    </tr>\n",
       "    <tr>\n",
       "      <th>17</th>\n",
       "      <td>2</td>\n",
       "      <td>16</td>\n",
       "    </tr>\n",
       "    <tr>\n",
       "      <th>18</th>\n",
       "      <td>2</td>\n",
       "      <td>17</td>\n",
       "    </tr>\n",
       "    <tr>\n",
       "      <th>19</th>\n",
       "      <td>5</td>\n",
       "      <td>18</td>\n",
       "    </tr>\n",
       "    <tr>\n",
       "      <th>20</th>\n",
       "      <td>5</td>\n",
       "      <td>19</td>\n",
       "    </tr>\n",
       "    <tr>\n",
       "      <th>21</th>\n",
       "      <td>7</td>\n",
       "      <td>20</td>\n",
       "    </tr>\n",
       "    <tr>\n",
       "      <th>22</th>\n",
       "      <td>7</td>\n",
       "      <td>21</td>\n",
       "    </tr>\n",
       "    <tr>\n",
       "      <th>23</th>\n",
       "      <td>7</td>\n",
       "      <td>22</td>\n",
       "    </tr>\n",
       "    <tr>\n",
       "      <th>24</th>\n",
       "      <td>7</td>\n",
       "      <td>20</td>\n",
       "    </tr>\n",
       "    <tr>\n",
       "      <th>25</th>\n",
       "      <td>7</td>\n",
       "      <td>23</td>\n",
       "    </tr>\n",
       "    <tr>\n",
       "      <th>26</th>\n",
       "      <td>7</td>\n",
       "      <td>24</td>\n",
       "    </tr>\n",
       "    <tr>\n",
       "      <th>27</th>\n",
       "      <td>7</td>\n",
       "      <td>21</td>\n",
       "    </tr>\n",
       "    <tr>\n",
       "      <th>28</th>\n",
       "      <td>7</td>\n",
       "      <td>25</td>\n",
       "    </tr>\n",
       "    <tr>\n",
       "      <th>29</th>\n",
       "      <td>7</td>\n",
       "      <td>20</td>\n",
       "    </tr>\n",
       "  </tbody>\n",
       "</table>\n",
       "</div>"
      ],
      "text/plain": [
       "    SessionId  ItemId\n",
       "0           1       1\n",
       "1           1       2\n",
       "2           1       3\n",
       "3           1       4\n",
       "4           1       5\n",
       "5           1       6\n",
       "6           1       7\n",
       "7           1       8\n",
       "8           1       9\n",
       "9           2      10\n",
       "10          2      11\n",
       "11          2      12\n",
       "12          2      13\n",
       "13          2      14\n",
       "14          2      15\n",
       "15          2      13\n",
       "16          2      11\n",
       "17          2      16\n",
       "18          2      17\n",
       "19          5      18\n",
       "20          5      19\n",
       "21          7      20\n",
       "22          7      21\n",
       "23          7      22\n",
       "24          7      20\n",
       "25          7      23\n",
       "26          7      24\n",
       "27          7      21\n",
       "28          7      25\n",
       "29          7      20"
      ]
     },
     "execution_count": 8,
     "metadata": {},
     "output_type": "execute_result"
    }
   ],
   "source": [
    "trdf.head(30)"
   ]
  },
  {
   "cell_type": "code",
   "execution_count": 7,
   "metadata": {},
   "outputs": [],
   "source": [
    "gbs=trdf.groupby('SessionId')"
   ]
  },
  {
   "cell_type": "code",
   "execution_count": 12,
   "metadata": {},
   "outputs": [
    {
     "data": {
      "text/plain": [
       "727563"
      ]
     },
     "execution_count": 12,
     "metadata": {},
     "output_type": "execute_result"
    }
   ],
   "source": [
    "# since we break each session to several subsessions, we need to know how many subsessions we'll have in total.\n",
    "# this will save us the copy in concatenating by allocating the dataframe from advance\n",
    "# session with N elements will be broken to N-1 sessions\n",
    "# so to understand the total number of subsessions we need to summarize the Ns-1 (the size of the session-1):\n",
    "gbs.size().sum() - len(gbs)"
   ]
  },
  {
   "cell_type": "code",
   "execution_count": 9,
   "metadata": {},
   "outputs": [],
   "source": [
    "tgt_col=['session_id:token', 'item_id_list:token_seq', 'item_id:token']\n"
   ]
  },
  {
   "cell_type": "code",
   "execution_count": 10,
   "metadata": {},
   "outputs": [],
   "source": [
    "def process_session2(sess_df,sid):\n",
    "    iid = sess_df.ItemId.values\n",
    "    iids=[(str(iid[:i])[1:-1],str(iid[i])) for i in reversed(range(1,len(iid)))]\n",
    "    iidfd=dict()\n",
    "    iidfd.update({'session_id:token':[sid+i+1 for i in range(len(iids))]})\n",
    "    iidfd.update({'item_id_list:token_seq':[i[0] for i in iids]})\n",
    "    iidfd.update({'item_id:token':[i[1] for i in iids]})\n",
    "    iidfs=pd.DataFrame(iidfd)\n",
    "    \n",
    "    return iidfs,iidfd['session_id:token'][-1]\n",
    "    "
   ]
  },
  {
   "cell_type": "code",
   "execution_count": 95,
   "metadata": {},
   "outputs": [
    {
     "data": {
      "application/vnd.jupyter.widget-view+json": {
       "model_id": "430af320aff34eb2844055c60d3c304f",
       "version_major": 2,
       "version_minor": 0
      },
      "text/plain": [
       "  0%|          | 0/188806 [00:00<?, ?it/s]"
      ]
     },
     "metadata": {},
     "output_type": "display_data"
    },
    {
     "name": "stdout",
     "output_type": "stream",
     "text": [
      "70\n"
     ]
    }
   ],
   "source": [
    "from tqdm.notebook import tqdm\n",
    "maxlen=0\n",
    "for g in tqdm(list(gbs.groups)[100]):\n",
    "    leng=len(gbs.get_group(g))\n",
    "    if leng>maxlen:\n",
    "        maxlen=leng\n",
    "\n",
    "print(maxlen)"
   ]
  },
  {
   "cell_type": "code",
   "execution_count": 11,
   "metadata": {},
   "outputs": [
    {
     "data": {
      "text/plain": [
       "188807"
      ]
     },
     "execution_count": 11,
     "metadata": {},
     "output_type": "execute_result"
    }
   ],
   "source": [
    "len(gbs.groups.keys())"
   ]
  },
  {
   "cell_type": "code",
   "execution_count": 12,
   "metadata": {},
   "outputs": [
    {
     "data": {
      "application/vnd.jupyter.widget-view+json": {
       "model_id": "975aea20ca124ccd869ab819117372b1",
       "version_major": 2,
       "version_minor": 0
      },
      "text/plain": [
       "  0%|          | 0/188807 [00:00<?, ?it/s]"
      ]
     },
     "metadata": {},
     "output_type": "display_data"
    },
    {
     "data": {
      "text/html": [
       "<div>\n",
       "<style scoped>\n",
       "    .dataframe tbody tr th:only-of-type {\n",
       "        vertical-align: middle;\n",
       "    }\n",
       "\n",
       "    .dataframe tbody tr th {\n",
       "        vertical-align: top;\n",
       "    }\n",
       "\n",
       "    .dataframe thead th {\n",
       "        text-align: right;\n",
       "    }\n",
       "</style>\n",
       "<table border=\"1\" class=\"dataframe\">\n",
       "  <thead>\n",
       "    <tr style=\"text-align: right;\">\n",
       "      <th></th>\n",
       "      <th>session_id:token</th>\n",
       "      <th>item_id_list:token_seq</th>\n",
       "      <th>item_id:token</th>\n",
       "    </tr>\n",
       "  </thead>\n",
       "  <tbody>\n",
       "    <tr>\n",
       "      <th>0</th>\n",
       "      <td>1</td>\n",
       "      <td>1 2 3 4 5 6 7 8</td>\n",
       "      <td>9</td>\n",
       "    </tr>\n",
       "    <tr>\n",
       "      <th>1</th>\n",
       "      <td>2</td>\n",
       "      <td>1 2 3 4 5 6 7</td>\n",
       "      <td>8</td>\n",
       "    </tr>\n",
       "    <tr>\n",
       "      <th>2</th>\n",
       "      <td>3</td>\n",
       "      <td>1 2 3 4 5 6</td>\n",
       "      <td>7</td>\n",
       "    </tr>\n",
       "    <tr>\n",
       "      <th>3</th>\n",
       "      <td>4</td>\n",
       "      <td>1 2 3 4 5</td>\n",
       "      <td>6</td>\n",
       "    </tr>\n",
       "    <tr>\n",
       "      <th>4</th>\n",
       "      <td>5</td>\n",
       "      <td>1 2 3 4</td>\n",
       "      <td>5</td>\n",
       "    </tr>\n",
       "    <tr>\n",
       "      <th>5</th>\n",
       "      <td>6</td>\n",
       "      <td>1 2 3</td>\n",
       "      <td>4</td>\n",
       "    </tr>\n",
       "    <tr>\n",
       "      <th>6</th>\n",
       "      <td>7</td>\n",
       "      <td>1 2</td>\n",
       "      <td>3</td>\n",
       "    </tr>\n",
       "    <tr>\n",
       "      <th>7</th>\n",
       "      <td>8</td>\n",
       "      <td>1</td>\n",
       "      <td>2</td>\n",
       "    </tr>\n",
       "    <tr>\n",
       "      <th>8</th>\n",
       "      <td>9</td>\n",
       "      <td>10 11 12 13 14 15 13 11 16</td>\n",
       "      <td>17</td>\n",
       "    </tr>\n",
       "    <tr>\n",
       "      <th>9</th>\n",
       "      <td>10</td>\n",
       "      <td>10 11 12 13 14 15 13 11</td>\n",
       "      <td>16</td>\n",
       "    </tr>\n",
       "    <tr>\n",
       "      <th>10</th>\n",
       "      <td>11</td>\n",
       "      <td>10 11 12 13 14 15 13</td>\n",
       "      <td>11</td>\n",
       "    </tr>\n",
       "    <tr>\n",
       "      <th>11</th>\n",
       "      <td>12</td>\n",
       "      <td>10 11 12 13 14 15</td>\n",
       "      <td>13</td>\n",
       "    </tr>\n",
       "    <tr>\n",
       "      <th>12</th>\n",
       "      <td>13</td>\n",
       "      <td>10 11 12 13 14</td>\n",
       "      <td>15</td>\n",
       "    </tr>\n",
       "    <tr>\n",
       "      <th>13</th>\n",
       "      <td>14</td>\n",
       "      <td>10 11 12 13</td>\n",
       "      <td>14</td>\n",
       "    </tr>\n",
       "    <tr>\n",
       "      <th>14</th>\n",
       "      <td>15</td>\n",
       "      <td>10 11 12</td>\n",
       "      <td>13</td>\n",
       "    </tr>\n",
       "    <tr>\n",
       "      <th>15</th>\n",
       "      <td>16</td>\n",
       "      <td>10 11</td>\n",
       "      <td>12</td>\n",
       "    </tr>\n",
       "    <tr>\n",
       "      <th>16</th>\n",
       "      <td>17</td>\n",
       "      <td>10</td>\n",
       "      <td>11</td>\n",
       "    </tr>\n",
       "    <tr>\n",
       "      <th>17</th>\n",
       "      <td>18</td>\n",
       "      <td>18</td>\n",
       "      <td>19</td>\n",
       "    </tr>\n",
       "    <tr>\n",
       "      <th>18</th>\n",
       "      <td>19</td>\n",
       "      <td>20 21 22 20 23 24 21 25</td>\n",
       "      <td>20</td>\n",
       "    </tr>\n",
       "    <tr>\n",
       "      <th>19</th>\n",
       "      <td>20</td>\n",
       "      <td>20 21 22 20 23 24 21</td>\n",
       "      <td>25</td>\n",
       "    </tr>\n",
       "    <tr>\n",
       "      <th>20</th>\n",
       "      <td>21</td>\n",
       "      <td>20 21 22 20 23 24</td>\n",
       "      <td>21</td>\n",
       "    </tr>\n",
       "    <tr>\n",
       "      <th>21</th>\n",
       "      <td>22</td>\n",
       "      <td>20 21 22 20 23</td>\n",
       "      <td>24</td>\n",
       "    </tr>\n",
       "    <tr>\n",
       "      <th>22</th>\n",
       "      <td>23</td>\n",
       "      <td>20 21 22 20</td>\n",
       "      <td>23</td>\n",
       "    </tr>\n",
       "    <tr>\n",
       "      <th>23</th>\n",
       "      <td>24</td>\n",
       "      <td>20 21 22</td>\n",
       "      <td>20</td>\n",
       "    </tr>\n",
       "    <tr>\n",
       "      <th>24</th>\n",
       "      <td>25</td>\n",
       "      <td>20 21</td>\n",
       "      <td>22</td>\n",
       "    </tr>\n",
       "    <tr>\n",
       "      <th>25</th>\n",
       "      <td>26</td>\n",
       "      <td>20</td>\n",
       "      <td>21</td>\n",
       "    </tr>\n",
       "    <tr>\n",
       "      <th>26</th>\n",
       "      <td>27</td>\n",
       "      <td>26</td>\n",
       "      <td>27</td>\n",
       "    </tr>\n",
       "    <tr>\n",
       "      <th>27</th>\n",
       "      <td>28</td>\n",
       "      <td>28 29</td>\n",
       "      <td>29</td>\n",
       "    </tr>\n",
       "    <tr>\n",
       "      <th>28</th>\n",
       "      <td>29</td>\n",
       "      <td>28</td>\n",
       "      <td>29</td>\n",
       "    </tr>\n",
       "    <tr>\n",
       "      <th>29</th>\n",
       "      <td>30</td>\n",
       "      <td>30 31</td>\n",
       "      <td>32</td>\n",
       "    </tr>\n",
       "  </tbody>\n",
       "</table>\n",
       "</div>"
      ],
      "text/plain": [
       "    session_id:token      item_id_list:token_seq item_id:token\n",
       "0                  1             1 2 3 4 5 6 7 8             9\n",
       "1                  2               1 2 3 4 5 6 7             8\n",
       "2                  3                 1 2 3 4 5 6             7\n",
       "3                  4                   1 2 3 4 5             6\n",
       "4                  5                     1 2 3 4             5\n",
       "5                  6                       1 2 3             4\n",
       "6                  7                         1 2             3\n",
       "7                  8                           1             2\n",
       "8                  9  10 11 12 13 14 15 13 11 16            17\n",
       "9                 10     10 11 12 13 14 15 13 11            16\n",
       "10                11        10 11 12 13 14 15 13            11\n",
       "11                12           10 11 12 13 14 15            13\n",
       "12                13              10 11 12 13 14            15\n",
       "13                14                 10 11 12 13            14\n",
       "14                15                    10 11 12            13\n",
       "15                16                       10 11            12\n",
       "16                17                          10            11\n",
       "17                18                          18            19\n",
       "18                19     20 21 22 20 23 24 21 25            20\n",
       "19                20        20 21 22 20 23 24 21            25\n",
       "20                21           20 21 22 20 23 24            21\n",
       "21                22              20 21 22 20 23            24\n",
       "22                23                 20 21 22 20            23\n",
       "23                24                    20 21 22            20\n",
       "24                25                       20 21            22\n",
       "25                26                          20            21\n",
       "26                27                          26            27\n",
       "27                28                       28 29            29\n",
       "28                29                          28            29\n",
       "29                30                       30 31            32"
      ]
     },
     "execution_count": 12,
     "metadata": {},
     "output_type": "execute_result"
    }
   ],
   "source": [
    "rbdf=[]\n",
    "# rbdf=pd.DataFrame(columns=tgt_col)\n",
    "sid=0\n",
    "for grp in tqdm(gbs.groups):\n",
    "    sub_rbdf,sid=process_session2(gbs.get_group(grp),sid)\n",
    "    rbdf.append(sub_rbdf)\n",
    "rbdf=pd.concat(rbdf,ignore_index=True)\n",
    "rbdf.head(30)\n",
    "\n"
   ]
  },
  {
   "cell_type": "code",
   "execution_count": null,
   "metadata": {},
   "outputs": [],
   "source": [
    "rbdf=[]\n",
    "rbdf=pd.DataFrame(columns=tgt_col)\n",
    "sid=0\n",
    "for grp in tqdm(gbs.groups):\n",
    "    sub_rbdf,sid=process_session2(gbs.get_group(grp),sid)\n",
    "    rbdf=pd.concat([rbdf,sub_rbdf],ignore_index=True)\n",
    "rbdf.head(30)\n"
   ]
  },
  {
   "cell_type": "markdown",
   "metadata": {},
   "source": [
    "#### Final Code"
   ]
  },
  {
   "cell_type": "code",
   "execution_count": 3,
   "metadata": {},
   "outputs": [],
   "source": [
    "def process_session(sess_df,sid):\n",
    "    iid = sess_df.ItemId.values\n",
    "    iids=[(str(iid[:i])[1:-1],str(iid[i])) for i in reversed(range(1,len(iid)))]\n",
    "    iidfd=dict()\n",
    "    iidfd.update({'session_id:token':[sid+i+1 for i in range(len(iids))]})\n",
    "    iidfd.update({'item_id_list:token_seq':[i[0] for i in iids]})\n",
    "    iidfd.update({'item_id:token':[i[1] for i in iids]})\n",
    "    iidfs=pd.DataFrame(iidfd)\n",
    "    \n",
    "    return iidfs,iidfd['session_id:token'][-1]\n"
   ]
  },
  {
   "cell_type": "code",
   "execution_count": null,
   "metadata": {},
   "outputs": [],
   "source": [
    "def transform_df(srec_df,n_sess):\n",
    "    gbs=srec_df.groupby('SessionId')\n",
    "    recbole_col=['session_id:token', 'item_id_list:token_seq', 'item_id:token']\n",
    "    rbdf=[]\n",
    "    sid=0\n",
    "    n_sess = n_sess or len(gbs.groups)\n",
    "    for grp in tqdm(list(gbs.groups)[:n_sess]):\n",
    "        sub_rbdf,sid=process_session(gbs.get_group(grp),sid)\n",
    "        rbdf.append(sub_rbdf)\n",
    "    rbdf=pd.concat(rbdf,ignore_index=True)\n",
    "    return rbdf \n",
    "\n",
    "\n",
    "def convert_srec_to_recbole(srec_train_filename,srec_test_filename, inter_train_filename,inter_test_filename,n_sess=None):\n",
    "    srec_train_df = pd.read_csv(os.path.join(prep_srec_path,srec_train_filename+'.txt'), sep='\\t')\n",
    "    srec_test_df = pd.read_csv(os.path.join(prep_srec_path,srec_test_filename+'.txt'), sep='\\t')\n",
    "    srec_col = ['SessionId', 'ItemId']\n",
    "    srec_trn_df=srec_train_df[srec_col]\n",
    "    srec_tst_df=srec_test_df[srec_col]\n",
    "    if (set(srec_test_df.ItemId.unique())-set(srec_train_df.ItemId.unique())):\n",
    "        print(\"Warning: there are new items in the test set \")\n",
    "        srec_ItemId=set(srec_train_df.ItemId.unique()).union(set(srec_test_df.ItemId.unique()))\n",
    "    else:\n",
    "        srec_ItemId=set(srec_train_df.ItemId.unique())\n",
    "    # remap item_id to be sequential from 1 to N\n",
    "    trg2src_id={k+1:v for k, v in zip(range(len(srec_ItemId)),srec_ItemId)}\n",
    "    src2trg_id={v:k for k,v in trg2src_id.items()}\n",
    "    srec_train_df.ItemId=srec_train_df.ItemId.map(src2trg_id)\n",
    "    srec_test_df.ItemId=srec_test_df.ItemId.map(src2trg_id)\n",
    "    print(f'generating {inter_train_filename}:')\n",
    "    rbdf=transform_df(srec_train_df,n_sess)\n",
    "    rbdf.to_csv(inter_train_filename,sep='\\t',index=None)\n",
    "\n",
    "    print(f'generating {inter_test_filename}:')\n",
    "    rbdf=transform_df(srec_test_df,n_sess)\n",
    "    rbdf.to_csv(inter_test_filename,sep='\\t',index=None)\n",
    "\n",
    "    print('Done')\n"
   ]
  },
  {
   "cell_type": "code",
   "execution_count": null,
   "metadata": {},
   "outputs": [],
   "source": [
    "srec_train_filename='train-item-views_train_full'\n",
    "inter_train_filename='./diginetica-sess.train.inter'\n",
    "\n",
    "srec_test_filename='train-item-views_test'\n",
    "inter_test_filename='./diginetica-sess.test.inter'\n",
    "\n",
    "convert_srec_to_recbole(srec_train_filename,srec_test_filename,inter_train_filename,inter_test_filename)"
   ]
  },
  {
   "cell_type": "markdown",
   "metadata": {},
   "source": [
    "# NowPlaying"
   ]
  },
  {
   "cell_type": "code",
   "execution_count": null,
   "metadata": {},
   "outputs": [],
   "source": []
  },
  {
   "cell_type": "markdown",
   "metadata": {},
   "source": [
    "## RecBole"
   ]
  },
  {
   "cell_type": "code",
   "execution_count": null,
   "metadata": {},
   "outputs": [],
   "source": []
  },
  {
   "cell_type": "markdown",
   "metadata": {},
   "source": [
    "## session-rec"
   ]
  },
  {
   "cell_type": "code",
   "execution_count": null,
   "metadata": {},
   "outputs": [],
   "source": []
  },
  {
   "cell_type": "markdown",
   "metadata": {},
   "source": [
    "# RetailRocket"
   ]
  },
  {
   "cell_type": "code",
   "execution_count": null,
   "metadata": {},
   "outputs": [],
   "source": []
  },
  {
   "cell_type": "markdown",
   "metadata": {},
   "source": [
    "## session-rec"
   ]
  },
  {
   "cell_type": "code",
   "execution_count": null,
   "metadata": {},
   "outputs": [],
   "source": []
  },
  {
   "cell_type": "markdown",
   "metadata": {},
   "source": [
    "## RecBole"
   ]
  },
  {
   "cell_type": "code",
   "execution_count": null,
   "metadata": {},
   "outputs": [],
   "source": []
  },
  {
   "cell_type": "markdown",
   "metadata": {},
   "source": [
    "# RSC15"
   ]
  },
  {
   "cell_type": "code",
   "execution_count": null,
   "metadata": {},
   "outputs": [],
   "source": []
  },
  {
   "cell_type": "markdown",
   "metadata": {},
   "source": [
    "## session-rec"
   ]
  },
  {
   "cell_type": "code",
   "execution_count": null,
   "metadata": {},
   "outputs": [],
   "source": []
  },
  {
   "cell_type": "markdown",
   "metadata": {},
   "source": [
    "## RecBole"
   ]
  },
  {
   "cell_type": "code",
   "execution_count": null,
   "metadata": {},
   "outputs": [],
   "source": []
  }
 ],
 "metadata": {
  "kernelspec": {
   "display_name": "Python 3.9.12 ('recbole')",
   "language": "python",
   "name": "python3"
  },
  "language_info": {
   "codemirror_mode": {
    "name": "ipython",
    "version": 3
   },
   "file_extension": ".py",
   "mimetype": "text/x-python",
   "name": "python",
   "nbconvert_exporter": "python",
   "pygments_lexer": "ipython3",
   "version": "3.9.12"
  },
  "orig_nbformat": 4,
  "vscode": {
   "interpreter": {
    "hash": "bc0fd1abc2602ec1b3e4206595ab69b0e3cf447ced07bd62f4679a23079f293a"
   }
  }
 },
 "nbformat": 4,
 "nbformat_minor": 2
}
