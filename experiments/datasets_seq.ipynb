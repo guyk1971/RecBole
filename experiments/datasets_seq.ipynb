{
 "cells": [
  {
   "cell_type": "markdown",
   "metadata": {},
   "source": [
    "# Sequential datasets\n",
    "the goal is to explore the following datasets and compare their characteristics to what appears in \\[1] and \\[2]:\n",
    "- Amazon Beauty\n",
    "- Steam\n",
    "- MovieLens 1M\n",
    "\n",
    "## Baseline Statistics\n",
    "Here's the statistics after applying the same preprocessing stages in both papers:\n",
    "- each user has 1 sequence\n",
    "- all interactions in a sequence are sorted by time : t=1..T\n",
    "    - interaction T is for test, interaction T-1 for validation, the rest are for training\n",
    "- ignore users and items with less than 5 related actions\n",
    "\n",
    "### SASRec\n",
    "![sasrec_stats](SASRec_dataset_stat.png)\n",
    "\n",
    "\n",
    "### BERT4Rec\n",
    "![bert4rec_stats](Bert4rec_dataset_stat.png)\n",
    "\n",
    "\n",
    "\n",
    "## RecBole Statistics\n",
    "Recbole also have these datasets in its repo. but I believe they are in their raw format. we need to configure the preprocessing to get a similar statistics.\n",
    "Thus, we need to look at the statitics of the dataframe that is loaded. the preprocessing is configured and runs as part of RecBole.\n"
   ]
  },
  {
   "cell_type": "code",
   "execution_count": null,
   "metadata": {},
   "outputs": [],
   "source": [
    "import os \n",
    "import pandas as pd\n",
    "import numpy as np\n",
    "from datetime import datetime\n",
    "from recbole.config import Config\n",
    "from recbole.data import create_dataset\n",
    "from recbole.data.utils import get_dataloader\n",
    "from recbole.utils import init_logger, init_seed, get_model, get_trainer, set_color"
   ]
  },
  {
   "cell_type": "code",
   "execution_count": null,
   "metadata": {},
   "outputs": [],
   "source": [
    "from dataclasses import dataclass\n",
    "\n",
    "@dataclass\n",
    "class Arguments:\n",
    "    model:str = 'SASRec'\n",
    "    dataset:str = 'diginetica-session'\n",
    "    validation: bool = 'False'\n",
    "    valid_portion: float = 0.1\n",
    "\n",
    "args=Arguments()\n"
   ]
  }
 ],
 "metadata": {
  "kernelspec": {
   "display_name": "Python 3.9.12 ('recbole')",
   "language": "python",
   "name": "python3"
  },
  "language_info": {
   "name": "python",
   "version": "3.9.12"
  },
  "orig_nbformat": 4,
  "vscode": {
   "interpreter": {
    "hash": "bc0fd1abc2602ec1b3e4206595ab69b0e3cf447ced07bd62f4679a23079f293a"
   }
  }
 },
 "nbformat": 4,
 "nbformat_minor": 2
}
